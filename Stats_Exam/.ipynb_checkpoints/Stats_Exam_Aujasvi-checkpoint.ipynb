{
 "cells": [
  {
   "cell_type": "markdown",
   "metadata": {},
   "source": [
    "# Titan Insurance Company Problem"
   ]
  },
  {
   "cell_type": "markdown",
   "metadata": {},
   "source": [
    "Import all the necessary Libraries"
   ]
  },
  {
   "cell_type": "code",
   "execution_count": 2,
   "metadata": {},
   "outputs": [],
   "source": [
    "import  scipy.stats                     as  stats\n",
    "import  statsmodels.stats.proportion    as  SMP \n",
    "import  numpy                           as  np\n",
    "import  pandas                          as  pd"
   ]
  },
  {
   "cell_type": "markdown",
   "metadata": {},
   "source": [
    "### Ques1. Find the mean of old scheme and new scheme column ?"
   ]
  },
  {
   "cell_type": "code",
   "execution_count": 93,
   "metadata": {},
   "outputs": [
    {
     "name": "stdout",
     "output_type": "stream",
     "text": [
      "Mean of old scheme column is 68.0333\n",
      "Mean of new scheme column is 72.0333\n"
     ]
    }
   ],
   "source": [
    "L1 = [57,103,59,75,84,73,35,110,44,82,67,64,78,53,41,39,80,87,73,65, \\\n",
    "     28,62,49,84,63,77,67,101,91,50]\n",
    "L2 = [62,122,54,82,84,86,32,104,38,107,84,85,99,39,34,58,73,53,66,78, \\\n",
    "     41,71,38,95,81,58,75,94,100,68]\n",
    "\n",
    "L1_array = np.array(L1)\n",
    "L2_array = np.array(L2)\n",
    "\n",
    "avg1 = L1_array.mean(axis = 0)\n",
    "avg2 = L2_array.mean(axis = 0)\n",
    "\n",
    "print('Mean of old scheme column is %1.4f' % avg1)\n",
    "print('Mean of new scheme column is %1.4f' % avg2)"
   ]
  },
  {
   "cell_type": "markdown",
   "metadata": {},
   "source": [
    "### Ques2. Use the 5% significance test over the data to determine the p value to check the new scheme has significantly raised the outputs? "
   ]
  },
  {
   "cell_type": "code",
   "execution_count": 94,
   "metadata": {},
   "outputs": [
    {
     "name": "stdout",
     "output_type": "stream",
     "text": [
      "Mean of new scheme column is 72.0333\n"
     ]
    }
   ],
   "source": [
    "avg2 = L2_array.mean(axis = 0)\n",
    "print('Mean of new scheme column is %1.4f' % avg2)"
   ]
  },
  {
   "cell_type": "markdown",
   "metadata": {},
   "source": [
    "In testing, whether the new scheme has has significantly raised the output or or not? The null hypothesis states that the mean of new scheme is 72.0333. The alternate hypothesis states that mean of the new scheme is greater than 72.0333."
   ]
  },
  {
   "cell_type": "markdown",
   "metadata": {},
   "source": [
    "Here, we considering the significance level alpha as 0.05, and it is given that the sample size is 30."
   ]
  },
  {
   "cell_type": "markdown",
   "metadata": {},
   "source": [
    "We do not know the population standard deviation and the sample is not a large sample, n = 30. So you use the t distribution and the $t_STAT$ test statistic. We use the scipy.ttest_1samp to calculate the T-test on the difference between sample scores."
   ]
  },
  {
   "cell_type": "code",
   "execution_count": 95,
   "metadata": {},
   "outputs": [
    {
     "data": {
      "text/plain": [
       "14.08104619937615"
      ]
     },
     "execution_count": 95,
     "metadata": {},
     "output_type": "execute_result"
    }
   ],
   "source": [
    "D  = L2_array -L1_array\n",
    "D.mean()\n",
    "np.std(D,ddof = 1)"
   ]
  },
  {
   "cell_type": "code",
   "execution_count": 96,
   "metadata": {},
   "outputs": [
    {
     "name": "stdout",
     "output_type": "stream",
     "text": [
      "P Value 0.131\n"
     ]
    }
   ],
   "source": [
    "import numpy as np\n",
    "import  scipy.stats  as stats  \n",
    "t_statistic, p_value  =  stats.ttest_1samp(D, 0)\n",
    "print('P Value %1.3f' % p_value)  "
   ]
  },
  {
   "cell_type": "markdown",
   "metadata": {},
   "source": [
    "#### Decide whether the new scheme has significantly raised the outputs ?"
   ]
  },
  {
   "cell_type": "markdown",
   "metadata": {},
   "source": [
    "In the above question, p value comes out to be 0.131 and it is more than 5% level of the signoficance. \n",
    "So, statistical decision is to accept the null hypothesis at 5% level of significance. "
   ]
  },
  {
   "cell_type": "markdown",
   "metadata": {},
   "source": [
    "### Ques3.  What conclusion does the p-value lead to?"
   ]
  },
  {
   "cell_type": "markdown",
   "metadata": {},
   "source": [
    "So, there is no sufficient evidence to reject the null hypothesis. So, we accept the null hypothesis and coclude that the new scheme has no significantly raised the outputs. "
   ]
  },
  {
   "cell_type": "markdown",
   "metadata": {},
   "source": [
    "### Ques4. Suppose it has been calculated that in order for Titan to break even, the average output must increase by £5000, in the scheme compared to the old scheme. If this figure is alternative hypothesis, what is?"
   ]
  },
  {
   "cell_type": "markdown",
   "metadata": {},
   "source": [
    "#### (i) The probability of a type 1 error?"
   ]
  },
  {
   "cell_type": "code",
   "execution_count": 97,
   "metadata": {},
   "outputs": [
    {
     "data": {
      "text/plain": [
       "68.03333333333333"
      ]
     },
     "execution_count": 97,
     "metadata": {},
     "output_type": "execute_result"
    }
   ],
   "source": [
    "np.mean(L1_array) #mean of old scheme(in thousands)"
   ]
  },
  {
   "cell_type": "code",
   "execution_count": 98,
   "metadata": {},
   "outputs": [
    {
     "data": {
      "text/plain": [
       "20.455980212074454"
      ]
     },
     "execution_count": 98,
     "metadata": {},
     "output_type": "execute_result"
    }
   ],
   "source": [
    "np.std(L1_array,ddof = 1) #standard deviation of the old scheme(in thousands)"
   ]
  },
  {
   "cell_type": "code",
   "execution_count": 99,
   "metadata": {},
   "outputs": [
    {
     "name": "stdout",
     "output_type": "stream",
     "text": [
      "62\n"
     ]
    }
   ],
   "source": [
    "n         = 30    # sample size\n",
    "sigma     = 20  # population standard deviation\n",
    "serr      = sigma / np.sqrt(n) # Standard Error\n",
    "\n",
    "alpha     = 0.05     # significance level\n",
    "mu0       = 68.5 #  hypothetical lower bound\n",
    "q         = int(round(stats.norm.isf(q = 1- alpha, loc = mu0, scale = serr),0))\n",
    "print(q)"
   ]
  },
  {
   "cell_type": "code",
   "execution_count": 100,
   "metadata": {},
   "outputs": [
    {
     "name": "stdout",
     "output_type": "stream",
     "text": [
      "At 5 % level of significance, the probability of having type I error\n",
      "       for a sample size of 30 people is 0.9498\n"
     ]
    }
   ],
   "source": [
    "mu1  = 68 # Actual mean\n",
    "\n",
    "p = round(1 - stats.norm.cdf(q, loc = mu1, scale = serr),4) #Probability of type 1 erreor\n",
    "print('At 5 %s level of significance, the probability of having type I error\\n\\\n",
    "       for a sample size of 30 people is %2.4f' %('%',p))\n"
   ]
  },
  {
   "cell_type": "markdown",
   "metadata": {},
   "source": [
    "#### (ii) What is the p- value of the hypothesis test if we test for a difference of $5000?"
   ]
  },
  {
   "cell_type": "code",
   "execution_count": 105,
   "metadata": {},
   "outputs": [],
   "source": [
    "L1 = [57,103,59,75,84,73,35,110,44,82,67,64,78,53,41,39,80,87,73,65, \\\n",
    "     28,62,49,84,63,77,67,101,91,50]\n",
    "L2 = [62,122,54,82,84,86,32,104,38,107,84,85,99,39,34,58,73,53,66,78, \\\n",
    "     41,71,38,95,81,58,75,94,100,68.5] #Add 0.5 to make a test difference of $5000\n",
    "\n",
    "L1_array = np.array(L1)\n",
    "L2_array1 = np.array(L2)"
   ]
  },
  {
   "cell_type": "code",
   "execution_count": 106,
   "metadata": {},
   "outputs": [
    {
     "data": {
      "text/plain": [
       "4.016666666666667"
      ]
     },
     "execution_count": 106,
     "metadata": {},
     "output_type": "execute_result"
    }
   ],
   "source": [
    "D  = L2_array1 -L1_array\n",
    "D.mean()"
   ]
  },
  {
   "cell_type": "code",
   "execution_count": 107,
   "metadata": {},
   "outputs": [
    {
     "data": {
      "text/plain": [
       "14.098473464279332"
      ]
     },
     "execution_count": 107,
     "metadata": {},
     "output_type": "execute_result"
    }
   ],
   "source": [
    "np.std(D,ddof = 1)"
   ]
  },
  {
   "cell_type": "code",
   "execution_count": 108,
   "metadata": {},
   "outputs": [
    {
     "name": "stdout",
     "output_type": "stream",
     "text": [
      "New P Value for the difference of $5000 0.129\n"
     ]
    }
   ],
   "source": [
    "import numpy as np\n",
    "import  scipy.stats  as stats  \n",
    "t_statistic, p_value  =  stats.ttest_1samp(D, 0)\n",
    "print('New P Value for the difference of $5000 %1.3f' % p_value)  "
   ]
  }
 ],
 "metadata": {
  "kernelspec": {
   "display_name": "Python 3",
   "language": "python",
   "name": "python3"
  },
  "language_info": {
   "codemirror_mode": {
    "name": "ipython",
    "version": 3
   },
   "file_extension": ".py",
   "mimetype": "text/x-python",
   "name": "python",
   "nbconvert_exporter": "python",
   "pygments_lexer": "ipython3",
   "version": "3.7.0"
  }
 },
 "nbformat": 4,
 "nbformat_minor": 2
}
