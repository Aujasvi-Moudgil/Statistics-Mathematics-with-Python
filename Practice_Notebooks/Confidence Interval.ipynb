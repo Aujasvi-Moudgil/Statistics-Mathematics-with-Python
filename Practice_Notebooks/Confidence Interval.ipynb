{
 "cells": [
  {
   "cell_type": "code",
   "execution_count": 3,
   "metadata": {},
   "outputs": [],
   "source": [
    "import  scipy.stats                     as  stats\n",
    "import  statsmodels.stats.proportion    as  SMP \n",
    "import  numpy                           as  np\n",
    "import  pandas                          as  pd\n",
    "\n",
    "mu = 110\n",
    "sigma = 1"
   ]
  },
  {
   "cell_type": "code",
   "execution_count": 9,
   "metadata": {},
   "outputs": [
    {
     "name": "stdout",
     "output_type": "stream",
     "text": [
      "-2.5758293035489004\n"
     ]
    }
   ],
   "source": [
    "z1 = stats.norm.isf(q = 0.995, loc = mu, scale = sigma)\n",
    "print(z1)"
   ]
  },
  {
   "cell_type": "code",
   "execution_count": 10,
   "metadata": {},
   "outputs": [
    {
     "name": "stdout",
     "output_type": "stream",
     "text": [
      "-1.959963984540054\n"
     ]
    }
   ],
   "source": [
    "z2 = stats.norm.isf(q = 0.975, loc = mu, scale = sigma)\n",
    "print(z2)"
   ]
  },
  {
   "cell_type": "code",
   "execution_count": 11,
   "metadata": {},
   "outputs": [
    {
     "name": "stdout",
     "output_type": "stream",
     "text": [
      "-1.6448536269514722\n"
     ]
    }
   ],
   "source": [
    "z3 = stats.norm.isf(q = 0.95, loc = mu, scale = sigma)\n",
    "print(z3)"
   ]
  },
  {
   "cell_type": "code",
   "execution_count": 13,
   "metadata": {},
   "outputs": [
    {
     "data": {
      "text/plain": [
       "0.9750021048517795"
      ]
     },
     "execution_count": 13,
     "metadata": {},
     "output_type": "execute_result"
    }
   ],
   "source": [
    "P  =  stats.norm.cdf(1.96)\n",
    "P"
   ]
  },
  {
   "cell_type": "code",
   "execution_count": 43,
   "metadata": {},
   "outputs": [
    {
     "data": {
      "text/plain": [
       "0.0"
      ]
     },
     "execution_count": 43,
     "metadata": {},
     "output_type": "execute_result"
    }
   ],
   "source": [
    "z  = 10\n",
    "P  = 1 - stats.norm.cdf(z)\n",
    "P"
   ]
  },
  {
   "cell_type": "code",
   "execution_count": 20,
   "metadata": {},
   "outputs": [
    {
     "data": {
      "text/plain": [
       "0.018257418583505537"
      ]
     },
     "execution_count": 20,
     "metadata": {},
     "output_type": "execute_result"
    }
   ],
   "source": [
    "import math\n",
    "\n",
    "SE = (0.1)/math.sqrt(30)\n",
    "SE"
   ]
  },
  {
   "cell_type": "code",
   "execution_count": 28,
   "metadata": {},
   "outputs": [
    {
     "data": {
      "text/plain": [
       "-2.3263478740408408"
      ]
     },
     "execution_count": 28,
     "metadata": {},
     "output_type": "execute_result"
    }
   ],
   "source": [
    "z = stats.norm.isf(q = 0.99)\n",
    "z"
   ]
  },
  {
   "cell_type": "code",
   "execution_count": 39,
   "metadata": {},
   "outputs": [
    {
     "data": {
      "text/plain": [
       "0.0004714045207909798"
      ]
     },
     "execution_count": 39,
     "metadata": {},
     "output_type": "execute_result"
    }
   ],
   "source": [
    "mu = 2 \n",
    "Xavg = 2.001\n",
    "sigma = 15\n",
    "n = 50\n",
    "SE = sigma/(np.sqrt(n))\n",
    "Z = (Xavg - mu)/SE\n",
    "Z\n",
    "#print('Value of Z is %2.5f' %Z)"
   ]
  },
  {
   "cell_type": "code",
   "execution_count": 40,
   "metadata": {},
   "outputs": [
    {
     "name": "stdout",
     "output_type": "stream",
     "text": [
      "Value of Z is -4.41942\n"
     ]
    }
   ],
   "source": [
    "XAvg  = 14\n",
    "mu    = 15\n",
    "sigma = 1.6\n",
    "n     = 50\n",
    "Z = (XAvg - mu)/(sigma/np.sqrt(n))\n",
    "print('Value of Z is %2.5f' %Z)"
   ]
  },
  {
   "cell_type": "code",
   "execution_count": 41,
   "metadata": {},
   "outputs": [
    {
     "name": "stdout",
     "output_type": "stream",
     "text": [
      "Value of Z is 2.28218\n"
     ]
    }
   ],
   "source": [
    "XAvg  = 50000\n",
    "mu    = 49950\n",
    "sigma = 120\n",
    "n     = 30\n",
    "Z = (XAvg - mu)/(sigma/np.sqrt(n))\n",
    "print('Value of Z is %2.5f' %Z)"
   ]
  },
  {
   "cell_type": "code",
   "execution_count": null,
   "metadata": {},
   "outputs": [],
   "source": []
  }
 ],
 "metadata": {
  "kernelspec": {
   "display_name": "Python 3",
   "language": "python",
   "name": "python3"
  },
  "language_info": {
   "codemirror_mode": {
    "name": "ipython",
    "version": 3
   },
   "file_extension": ".py",
   "mimetype": "text/x-python",
   "name": "python",
   "nbconvert_exporter": "python",
   "pygments_lexer": "ipython3",
   "version": "3.7.0"
  }
 },
 "nbformat": 4,
 "nbformat_minor": 2
}
