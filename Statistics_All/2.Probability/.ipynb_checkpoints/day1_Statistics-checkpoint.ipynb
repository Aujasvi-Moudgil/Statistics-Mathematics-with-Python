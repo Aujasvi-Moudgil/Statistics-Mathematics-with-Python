{
 "cells": [
  {
   "cell_type": "code",
   "execution_count": null,
   "metadata": {
    "collapsed": true
   },
   "outputs": [],
   "source": [
    "##"
   ]
  },
  {
   "cell_type": "markdown",
   "metadata": {},
   "source": [
    "## Simple, Joint, Marginal, Conditional probability and Bayes Theorem"
   ]
  },
  {
   "cell_type": "markdown",
   "metadata": {},
   "source": [
    "### Simple Probability refers to the probability of occurrence of a simple event"
   ]
  },
  {
   "cell_type": "markdown",
   "metadata": {},
   "source": [
    "Probability of an event X, P(X) is given by\n",
    "$P(X) = \\frac{Number \\quad of \\quad observations \\quad in \\quad favor \\quad of \\quad an \\quad event \\quad X}{Total \\quad Number \\quad of \\quad observations}$ "
   ]
  },
  {
   "cell_type": "markdown",
   "metadata": {},
   "source": [
    "The data collected by an Advertisement agency has revealed that out of 2800 visitors, 56 visitors clicked on 1 Advertisement, 30 clicked on 2 advertisements and 14 clicked on 3 advertisements and the remaining did not click on any advertisement. \n",
    "\n",
    "Calculate\n",
    "* a) The probability that a visitor to the website will not click on any  advertisement.\n",
    "* b) The probability that a visitor to the website will click on an advertisement.\n",
    "* c) The probability that a visitor to the website will click on more than one advertisement."
   ]
  },
  {
   "cell_type": "markdown",
   "metadata": {},
   "source": [
    "### Solution\n",
    "\n",
    "a) The probability that a visitor to the website will not click on any advertisement.\n",
    "* Here 56 visitors click on 1 advertisement\n",
    "* Here 30 visitors click on 2 advertisements\n",
    "* Here 14 visitors click on 3 advertisements\n",
    "* Hence, the total number of customers clicking on any advertisement is 100"
   ]
  },
  {
   "cell_type": "code",
   "execution_count": 4,
   "metadata": {},
   "outputs": [
    {
     "data": {
      "text/plain": [
       "0.9643"
      ]
     },
     "execution_count": 4,
     "metadata": {},
     "output_type": "execute_result"
    }
   ],
   "source": [
    "FE1 = 2800 - 100\n",
    "TE  = 2800\n",
    "PE1 = round(FE1 / TE,4)\n",
    "PE1\n",
    "#print('a. The probability that a visitor to the website will not click on any advertisement is %1.4f' % PE1)"
   ]
  },
  {
   "cell_type": "markdown",
   "metadata": {},
   "source": [
    "b) The probability that a visitor to the website will click on an advertisement."
   ]
  },
  {
   "cell_type": "code",
   "execution_count": 2,
   "metadata": {},
   "outputs": [
    {
     "name": "stdout",
     "output_type": "stream",
     "text": [
      "b. The probability that a visitor to the website will click on an advertisement is 0.0357\n"
     ]
    }
   ],
   "source": [
    "FE2 = 100 # 56 + 30 + 14\n",
    "TE  = 2800\n",
    "PE2 = round(FE2 / TE,4)\n",
    "print('b. The probability that a visitor to the website will click on an advertisement is %1.4f' % PE2)"
   ]
  },
  {
   "cell_type": "markdown",
   "metadata": {},
   "source": [
    "c) The probability that a visitor to the website will click on more than one advertisement."
   ]
  },
  {
   "cell_type": "code",
   "execution_count": 3,
   "metadata": {},
   "outputs": [
    {
     "name": "stdout",
     "output_type": "stream",
     "text": [
      "c. The probability that a visitor to the website will click on more than one advertisement. is 0.0157\n"
     ]
    }
   ],
   "source": [
    "FE3 = 44 # = 30 + 14\n",
    "TE  = 2800\n",
    "PE3 = round(FE3 / TE,4) \n",
    "print('c. The probability that a visitor to the website will click on more than one advertisement. is %1.4f' % PE3)"
   ]
  },
  {
   "cell_type": "markdown",
   "metadata": {},
   "source": [
    "### Joint Probability refers to the probability of occurrence involving two or more events"
   ]
  },
  {
   "cell_type": "markdown",
   "metadata": {},
   "source": [
    "### Example 1"
   ]
  },
  {
   "cell_type": "markdown",
   "metadata": {},
   "source": [
    "Let A and B be the two events in a sample space. Then the joint probability if the two events denoted by P(A $\\cap$ B), is given by \n",
    "$P(A \\cap B) = \\frac{Number \\quad of \\quad observations \\quad in \\quad A \\cap B } {Total \\quad Number \\quad of \\quad observations}$ "
   ]
  },
  {
   "cell_type": "markdown",
   "metadata": {},
   "source": [
    "At a popular company service center, a total of 100 complaints were received. 80 customers complained about late delivery of the items and 60 complained about poor product quality.\n",
    "\n",
    "* a) Calculate the probability that a customer complaint will be about both product quality and late delivery.\n",
    "* b) What is the probability that a complaint will be only about  late delivery?"
   ]
  },
  {
   "cell_type": "markdown",
   "metadata": {},
   "source": [
    "### Solution:\n",
    "\n",
    "a) Calculate the probability that a customer complaint will be about both product quality and late delivery"
   ]
  },
  {
   "cell_type": "markdown",
   "metadata": {},
   "source": [
    "Let\n",
    "*    L    = Late delivery\n",
    "*    Q    = Poor quality\n",
    "*    n(L) = Number of cases in favour of L =  80\n",
    "*    n(Q) = Number of cases in favour of Q =  60\n",
    "*    N    = Total Number of complaints     = 100    "
   ]
  },
  {
   "cell_type": "markdown",
   "metadata": {},
   "source": [
    "$n(L \\cap Q)$ = (80 + 60) - 100 = 40 "
   ]
  },
  {
   "cell_type": "markdown",
   "metadata": {},
   "source": [
    "Probability that a customer complaint will be about both product quality and late delivery = $P(L \\cap Q)$"
   ]
  },
  {
   "cell_type": "markdown",
   "metadata": {},
   "source": [
    " $P(L \\cap Q) =  \\frac{n(L \\cap Q)} {Total \\quad Number \\quad of \\quad observations}$ "
   ]
  },
  {
   "cell_type": "code",
   "execution_count": 4,
   "metadata": {},
   "outputs": [
    {
     "name": "stdout",
     "output_type": "stream",
     "text": [
      "a.Probability that a customer complaint will\n",
      "       be about both product quality and late delivery. is 0.4000\n"
     ]
    }
   ],
   "source": [
    "FE4 = 40 # = (80 + 60) - 100 \n",
    "TE  = 100\n",
    "PE4 = round(FE4 / TE,4) \n",
    "print('a.Probability that a customer complaint will\\n\\\n",
    "       be about both product quality and late delivery. is %1.4f' % PE4)"
   ]
  },
  {
   "cell_type": "markdown",
   "metadata": {},
   "source": [
    "b. What is the probability that a complaint will be only about late delivery"
   ]
  },
  {
   "cell_type": "code",
   "execution_count": 5,
   "metadata": {
    "scrolled": true
   },
   "outputs": [
    {
     "name": "stdout",
     "output_type": "stream",
     "text": [
      "b.probability that a complaint will be \n",
      "         only about late delivery. is 0.4000\n"
     ]
    }
   ],
   "source": [
    "# FE5 is the complaints about poor quality\n",
    "FE5 = 60\n",
    "TE  = 100\n",
    "PE5 = round(FE5 / TE,4) \n",
    "PE6 = 1 - PE5\n",
    "# So,1 - PE5 is the Probability that a customer complaint will be about\n",
    "#        both product quality and late delivery \n",
    "print('b.probability that a complaint will be \\n\\\n",
    "         only about late delivery. is %1.4f' % PE6)"
   ]
  },
  {
   "cell_type": "markdown",
   "metadata": {},
   "source": [
    "### Example 2"
   ]
  },
  {
   "cell_type": "markdown",
   "metadata": {},
   "source": [
    "|Planned to purchase Apple iPhone Xs Max | Actually placed an order for Apple iPhone Xs Max- Yes |  Actually placed an order for Apple iPhone Xs Max - Yes | Total |\n",
    "| ------------- | ------------ | ---------- | -----|\n",
    "| Yes | 400 | 100 | 500 |\n",
    "| No | 200 | 1300 | 1500 |\n",
    "| Total | 600 | 1400 | 2000 |\n",
    "\n",
    "Calculate the joint probability of the people who planned to purchase and actually placed an order.\n"
   ]
  },
  {
   "cell_type": "markdown",
   "metadata": {},
   "source": [
    "You observe from the above table, that 400 people planned to purchase and actually placed an order for Apple iPhone Xs Max is 400 out of 2000 people."
   ]
  },
  {
   "cell_type": "code",
   "execution_count": 6,
   "metadata": {},
   "outputs": [
    {
     "name": "stdout",
     "output_type": "stream",
     "text": [
      "Joint probability of the people who planned to purchase and actually placed an order. is 0.2000\n"
     ]
    }
   ],
   "source": [
    "# FE6 is the number of people who planned and actually placed an order for Apple iPhone Xs Max\n",
    "FE6 = 400\n",
    "TE  = 2000\n",
    "PE7 = round(FE6 / TE,4) \n",
    "print('Joint probability of the people who planned to purchase and actually placed an order. is %1.4f' % PE7)"
   ]
  },
  {
   "cell_type": "markdown",
   "metadata": {},
   "source": [
    "### Marginal probability refers to the probability of an event without any condition"
   ]
  },
  {
   "cell_type": "markdown",
   "metadata": {},
   "source": [
    "P(A) = P(A and $B_{1}$) + P(A and $B_{2}$) + P(A and $B_{3}$) + ... + P(A and $B_{k}$) \n",
    "where $B_{1}$, $B_{2}$, $B_{3}$, ..., $B_{k}$ are k mutually exclusive and collectively exhaustive events, defined as follows:\n",
    "\n",
    "* Two events are mutually exclusive if both the events cannot occur simultaneously.\n",
    "* A set of events are collectively exhaustive if one of the events must occur."
   ]
  },
  {
   "cell_type": "markdown",
   "metadata": {},
   "source": [
    "### Example 3"
   ]
  },
  {
   "cell_type": "markdown",
   "metadata": {},
   "source": [
    "Use the purchase of **Apple iPhone Xs Max** table.\n",
    "What is the probability of planned to purchase **Apple iPhone Xs Max**?"
   ]
  },
  {
   "cell_type": "markdown",
   "metadata": {},
   "source": [
    "P(planned to purchase Apple iPhone Xs Max) \n",
    " =   P(Planned to purchase Apple iPhone Xs Max and placed an order) + \n",
    "     P(Planned to purchase Apple iPhone Xs Max and not placed an order) "
   ]
  },
  {
   "cell_type": "code",
   "execution_count": 7,
   "metadata": {},
   "outputs": [
    {
     "name": "stdout",
     "output_type": "stream",
     "text": [
      "Marginal probability of the people who planned to purchase is 0.2500\n"
     ]
    }
   ],
   "source": [
    "# Let P  = P(planned to purchase Apple iPhone Xs Max)\n",
    "#     P1 = P(Planned to purchase Apple iPhone Xs Max and placed an order) \n",
    "#     P2 = P(Planned to purchase Apple iPhone Xs Max and not placed an order) \n",
    "P1 = 400 / 2000 \n",
    "P2 = 100 / 2000\n",
    "P  = P1 + P2\n",
    "print('Marginal probability of the people who planned to purchase is %1.4f' % P)"
   ]
  },
  {
   "cell_type": "markdown",
   "metadata": {},
   "source": [
    "Note that you get the same result by adding the number of outcomes that make up the simple event *planned to purchase* and calculate the probability of that *simple event*."
   ]
  },
  {
   "cell_type": "markdown",
   "metadata": {},
   "source": [
    "### Practice Exercise 1"
   ]
  },
  {
   "cell_type": "markdown",
   "metadata": {},
   "source": [
    "**Consider the following Contingency table:**\n",
    "\n",
    "| Event | Event B | Event $B'$ |\n",
    "| ------- | ----- | ------ |\n",
    "| A | 10 | 20 |\n",
    "| $A'$ | 20 | 40 |"
   ]
  },
  {
   "cell_type": "markdown",
   "metadata": {},
   "source": [
    "* a. What is the probability of A | B?\n",
    "* b. What is the probability of A | $B'$?\n",
    "* c. What is the probability of $A'$ | $B'$?\n",
    "* d. Are events A and B independent?"
   ]
  },
  {
   "cell_type": "markdown",
   "metadata": {},
   "source": [
    "Hint: Events A and B are independent, when P(A|B) = P(A)"
   ]
  },
  {
   "cell_type": "markdown",
   "metadata": {},
   "source": [
    "### General addition rule"
   ]
  },
  {
   "cell_type": "markdown",
   "metadata": {},
   "source": [
    "To get the probability of the event *A* or *B*, you need to consider the occurrence of either event A or B or both A and B."
   ]
  },
  {
   "cell_type": "markdown",
   "metadata": {},
   "source": [
    "#### General addition rule"
   ]
  },
  {
   "cell_type": "markdown",
   "metadata": {},
   "source": [
    "P(A or B)   = P(A) + P(B) - P(A and B)"
   ]
  },
  {
   "cell_type": "markdown",
   "metadata": {},
   "source": [
    "From set theory\n",
    "* P(A$\\cup$B) is the event that either A or B or both occur.\n",
    "* P(A$\\cap$B) is the event that both A and B occur at the same time.\n",
    "* Events A and B are mutually exclusive if they cannot happen at the same time:\n"
   ]
  },
  {
   "cell_type": "markdown",
   "metadata": {},
   "source": [
    "P(A$\\cup$B) = P(A) + P(B) - P(A $\\cap$ B)"
   ]
  },
  {
   "cell_type": "markdown",
   "metadata": {},
   "source": [
    "### Example 4"
   ]
  },
  {
   "cell_type": "markdown",
   "metadata": {},
   "source": [
    "Use the purchase of **Apple iPhone Xs Max** table.\n",
    "What is the probability of planned to purchase **Apple iPhone Xs Max** or placed an order?"
   ]
  },
  {
   "cell_type": "markdown",
   "metadata": {},
   "source": [
    "P(Planned to purchase Apple iPhone Xs Max or placed an order) <br/>\n",
    "= P(Placed an order) + P(Planned to purchase Apple iPhone Xs Max) -<br/>\n",
    "  P(Planned to purchase Apple iPhone Xs Max and placed an order)"
   ]
  },
  {
   "cell_type": "code",
   "execution_count": 8,
   "metadata": {},
   "outputs": [
    {
     "name": "stdout",
     "output_type": "stream",
     "text": [
      "Planned to purchase Apple iPhone Xs Max or placed an order is 0.3500\n"
     ]
    }
   ],
   "source": [
    "P1 =  500 / 2000 # P1 = P(Planned to purchase)\n",
    "P2 =  600 / 2000 # P2 = P(Placed an order)\n",
    "P3 =  400 / 2000 # P3 = P(Planned to purchase Apple iPhone Xs Max and placed an order)\n",
    "\n",
    "P  =  P1 + P2 - P3 # P = P(Planned to purchase Apple iPhone Xs Max or placed an order) \n",
    "print('Planned to purchase Apple iPhone Xs Max or placed an order is %1.4f' % P)"
   ]
  },
  {
   "cell_type": "markdown",
   "metadata": {},
   "source": [
    "### Conditional Probability refers to the probability of event A, given information about the occurrence of another event B"
   ]
  },
  {
   "cell_type": "markdown",
   "metadata": {},
   "source": [
    "Probability of A given B is written as P(A | B).\n",
    "\n",
    "$P(A\\mid B) = \\frac{P(A \\quad and \\quad B)}{P(B)}$\n",
    "\n",
    "where P(A and B) = Joint probability of A and B\n",
    "*     P(A)       = Marginal probability of A\n",
    "*     P(B)       = Marginal probability of B"
   ]
  },
  {
   "cell_type": "markdown",
   "metadata": {},
   "source": [
    "### Example 5"
   ]
  },
  {
   "cell_type": "markdown",
   "metadata": {},
   "source": [
    "Use the purchase of **Apple iPhone Xs Max** table.\n",
    "\n",
    "Find the joint probability of the people who planned to purchase and actually placed an order, given that people planned to purchase."
   ]
  },
  {
   "cell_type": "code",
   "execution_count": 9,
   "metadata": {},
   "outputs": [
    {
     "name": "stdout",
     "output_type": "stream",
     "text": [
      "P(Actually placed an order | Planned to purchase) is 0.8000\n"
     ]
    }
   ],
   "source": [
    "# P1 = P(Actually placed an order | Planned to purchase)\n",
    "# P2 = Planned to purchase and actually placed an order\n",
    "# P3 = Planned to purchase\n",
    "P1   = (400 / 2000 )/ (500 / 2000)\n",
    "\n",
    "print('P(Actually placed an order | Planned to purchase) is %1.4f' % P1)     "
   ]
  },
  {
   "cell_type": "markdown",
   "metadata": {},
   "source": [
    "### Example 6\n",
    "\n"
   ]
  },
  {
   "cell_type": "markdown",
   "metadata": {},
   "source": [
    "The following table describes loan default status at a bank and their marital status. \n",
    "\n",
    "| Marital Status | Loan Defaulted | Loan No Default | Marginal Total |\n",
    "| ----------- | ------ | ------- | -------- |\n",
    "| Single | 42 | 258 | 300 |\n",
    "| Married | 60 | 590 | 650 |\n",
    "| Divorced | 13 | 37 | 50 |\n",
    "| Marginal Total | 115 | 885 | 1000 |\n"
   ]
  },
  {
   "cell_type": "markdown",
   "metadata": {},
   "source": [
    "Based on the above table, calculate the probability of default  given divorced."
   ]
  },
  {
   "cell_type": "code",
   "execution_count": 10,
   "metadata": {},
   "outputs": [
    {
     "name": "stdout",
     "output_type": "stream",
     "text": [
      "P(Default | Divorced)  is 0.2600\n"
     ]
    }
   ],
   "source": [
    "# P1 = P(Default and Divorced)\n",
    "P1   = 13 / 50\n",
    "# P2 = P(Divorced)\n",
    "P2   = 50 / 1000\n",
    "#P3  = P(Default | Divorced) = P(Default and Divorced) / P(Divorced)\n",
    "P3   = (13/1000) / (50/1000)\n",
    "print('P(Default | Divorced)  is %1.4f' % P3)     "
   ]
  },
  {
   "cell_type": "markdown",
   "metadata": {},
   "source": [
    "### Independent Events"
   ]
  },
  {
   "cell_type": "markdown",
   "metadata": {},
   "source": [
    "Two events, A and B are independent if and only if\n",
    "P(A | B) = P(A), \n",
    "\n",
    "where \n",
    "* P(A|B) is the conditional probability of A given B\n",
    "* P(A)   is the marginal probability of A"
   ]
  },
  {
   "cell_type": "markdown",
   "metadata": {},
   "source": [
    "Example: A student getting A grade in both Final Stats exam and in final Marketing exam"
   ]
  },
  {
   "cell_type": "markdown",
   "metadata": {},
   "source": [
    "### Example 7\n",
    "\n",
    "What is the probability of getting a \"6\" in two consecutive trials when rolling a dice?\n",
    "\n",
    "For each roll of a dice:\n",
    "* Favorable events = {\"6\"}\n",
    "* Total number of outcomes = {\"1\",\"2\",\"3\",\"4\",\"5\",\"6\"}\n",
    "* Let P1 be the probability of getting a \"6\" in the first roll of dice.\n",
    "* Let P2 be the probability of getting a \"6\" in the second roll of dice.\n",
    "* Since first roll of dice does not influence the second roll of dice, these events are independent."
   ]
  },
  {
   "cell_type": "code",
   "execution_count": 1,
   "metadata": {},
   "outputs": [
    {
     "ename": "NameError",
     "evalue": "name 'depend' is not defined",
     "output_type": "error",
     "traceback": [
      "\u001b[1;31m---------------------------------------------------------------------------\u001b[0m",
      "\u001b[1;31mNameError\u001b[0m                                 Traceback (most recent call last)",
      "\u001b[1;32m<ipython-input-1-37ae2b593fd7>\u001b[0m in \u001b[0;36m<module>\u001b[1;34m()\u001b[0m\n\u001b[1;32m----> 1\u001b[1;33m \u001b[0mdepend\u001b[0m\u001b[1;33m\u001b[0m\u001b[0m\n\u001b[0m",
      "\u001b[1;31mNameError\u001b[0m: name 'depend' is not defined"
     ]
    }
   ],
   "source": [
    "depend"
   ]
  },
  {
   "cell_type": "markdown",
   "metadata": {},
   "source": [
    "### Practice Exercise 2"
   ]
  },
  {
   "cell_type": "markdown",
   "metadata": {},
   "source": [
    "** What is the probability of getting a 2 on the face of three dices  when they are rolled?\n",
    "Hint: A dice has six faces and contains values 1,2,3,4,5,6**"
   ]
  },
  {
   "cell_type": "markdown",
   "metadata": {},
   "source": [
    "### Practice Exercise 3"
   ]
  },
  {
   "cell_type": "markdown",
   "metadata": {},
   "source": [
    "** You throw a die three times, what is the probability that one or more of your throws will come up with a 1?\n",
    "Hint: You need to calculate the probability of getting a 1 on at least one of the throws.**"
   ]
  },
  {
   "cell_type": "markdown",
   "metadata": {},
   "source": [
    "### Practice Exercise 4"
   ]
  },
  {
   "cell_type": "markdown",
   "metadata": {},
   "source": [
    "** The following table describes loan default status at a Financial Institution and their Occupation status.\n",
    "Calculate the Ocupation status that has maximum joint probability of default.**\n",
    "\n",
    "| Occupation Status | Loan defaulted | Loan non-default | Total |\n",
    "| ----------------- | ---- | ----- | ---- |\n",
    "| Self Employed     | 80 | 240 | 320 |\n",
    "| Employed in Private Sector | 120 | 860 | 980 |\n",
    "| Employed in Government Sector | 200 | 3000 | 3200 |\n",
    "| Total | 400 | 4100 | 4500 | "
   ]
  },
  {
   "cell_type": "markdown",
   "metadata": {},
   "source": [
    "### Practice Exercise 5"
   ]
  },
  {
   "cell_type": "markdown",
   "metadata": {},
   "source": [
    "** In the above contingency table, what is the conditional probability that**\n",
    "* a. What is the probability of Loan defaulted?\n",
    "* b. What is the conditional probability of default, given the occupation category **Self Employed**?"
   ]
  },
  {
   "cell_type": "markdown",
   "metadata": {
    "collapsed": true
   },
   "source": [
    "## Application of Probability Rules"
   ]
  },
  {
   "cell_type": "markdown",
   "metadata": {},
   "source": [
    "### Association Rule Mining"
   ]
  },
  {
   "cell_type": "markdown",
   "metadata": {},
   "source": [
    "By using simple probability concepts such as Joint probability and Conditional probability, we solve Market Basket Analysis and Recommender Systems. The algorithm used is **Association Rule Mining**. "
   ]
  },
  {
   "cell_type": "markdown",
   "metadata": {},
   "source": [
    "**Market Basket Analysis** is used frequently by retailers to predict products a customer is likely to buy together to improve their sales.\n",
    "\n",
    "For example, if a customer buys **bread**, he/she is likely to buy **jam or butter**.\n",
    "\n",
    "**Recommender Systems** are models that produce list of recommendations to a customer on products such as moives, electronic items, etc.\n",
    "\n",
    "As you are aware, companies like **Amazon** benefitted significantly by using recommender systems."
   ]
  },
  {
   "cell_type": "markdown",
   "metadata": {},
   "source": [
    "### Association Rule Mining"
   ]
  },
  {
   "cell_type": "markdown",
   "metadata": {},
   "source": [
    "* This is a method of finding association between different entities in data.\n",
    "* In a retail context, this is a method of finding association relationships that exists in *items frequently purchased* or *frequently purchased items*.\n",
    "* Association Rule is a relationship of the form X -> Y (X implies Y), where X and Y are mutually exclusive SKU sets."
   ]
  },
  {
   "cell_type": "markdown",
   "metadata": {},
   "source": [
    "### Creating Association Rules"
   ]
  },
  {
   "cell_type": "markdown",
   "metadata": {},
   "source": [
    "### Point of Sale (PoS) data"
   ]
  },
  {
   "cell_type": "markdown",
   "metadata": {},
   "source": [
    "| Invoice No | Milk | Bread | Butter | Jam |\n",
    "| --- | ---- | ---- | ---- | ----- |\n",
    "| 1 | Y | Y | N | N|\n",
    "| 2 | N | Y | Y | N|\n",
    "| 3 | N | Y | Y | N|\n",
    "| 4 | N | Y | N | Y|\n",
    "| 5 | Y | Y | N | N|\n",
    "| 6 | Y | Y | N | N|\n",
    "| 7 | N | Y | Y | N|\n",
    "| 8 | N | Y | Y | N|\n",
    "| 9 | N | Y | N | Y|\n",
    "| 10 | Y | N | N | N|"
   ]
  },
  {
   "cell_type": "code",
   "execution_count": null,
   "metadata": {},
   "outputs": [],
   "source": [
    "In the above table, Milk, Bread, Butter and Jam are the different SKUs sold by the store. Y means the item is purchased and N means the item is not purchased. \n",
    "The strength of the association between two mutually exclusive subsets can be measured using *Support*, *Confidence* and *Lift*."
   ]
  },
  {
   "cell_type": "markdown",
   "metadata": {},
   "source": [
    "### Support between two sets is the joint probability of those events"
   ]
  },
  {
   "cell_type": "markdown",
   "metadata": {},
   "source": [
    "* Support is the proportion of times, items A and B are purchased together.\n",
    "* Support(A, B) = P(A $\\cap$ B) = n(A $\\cap$ B) / N\n",
    "where n(A $\\cap$ B) is the number of times both item A and item B is purchased together."
   ]
  },
  {
   "cell_type": "code",
   "execution_count": null,
   "metadata": {},
   "outputs": [],
   "source": [
    "### Example 8\n",
    "From the above table, assume A to be Bread and B to be Milk.\n",
    "\n",
    "Support(A, B) = P(A ∩ B) "
   ]
  },
  {
   "cell_type": "code",
   "execution_count": 12,
   "metadata": {},
   "outputs": [
    {
     "name": "stdout",
     "output_type": "stream",
     "text": [
      "Support(Bread and Milk)  is 0.3000\n"
     ]
    }
   ],
   "source": [
    "# Let S_A_B = P(A ∩ B)\n",
    "S_A_B = 3 / 10 #  Refer invoices 1,5,6\n",
    "print('Support(Bread and Milk)  is %1.4f' % S_A_B) "
   ]
  },
  {
   "cell_type": "markdown",
   "metadata": {},
   "source": [
    "### Confidence is the conditional probability of purchasing item B given the item B is purchased."
   ]
  },
  {
   "cell_type": "markdown",
   "metadata": {},
   "source": [
    "Confidence(A, B) = P(A $\\cap$ B) / P(A) "
   ]
  },
  {
   "cell_type": "code",
   "execution_count": 13,
   "metadata": {},
   "outputs": [
    {
     "name": "stdout",
     "output_type": "stream",
     "text": [
      "Assume C_A_B be the confidence of purchasing a item B\n",
      "\tgiven the item A is purchased.\n",
      "S_A_B =  P(A ∩ B) as discussed earlier.\n",
      "Confidence(Bread a∩d Milk)  is 0.3333\n"
     ]
    }
   ],
   "source": [
    "print('Assume C_A_B be the confidence of purchasing a item B') \n",
    "print('\\tgiven the item A is purchased.')\n",
    "print('S_A_B =  P(A ∩ B) as discussed earlier.')\n",
    "P1    = 9/10 # = P(A). 9 invoices have item Bread out of 10\n",
    "C_A_B   =  S_A_B / P1 \n",
    "print('Confidence(Bread a∩d Milk)  is %1.4f' % C_A_B) "
   ]
  },
  {
   "cell_type": "markdown",
   "metadata": {},
   "source": [
    "### Lift is a measure for a rule.\n",
    "\n",
    "* With lift value you can interpret the importance of a rule. \n",
    "* The lift value of an association rule is the ratio of the confidence of the rule and the expected confidence of the rule.\n",
    "* The expected confidence of a rule is the product of the support values of the rule body and rule head divided by the support of the rule body.\n",
    "* In our example, A is the rule head and B is the rule body.\n",
    "* Lift = $\\frac {P(A ∩ B)} {P(A) P(B)}$"
   ]
  },
  {
   "cell_type": "code",
   "execution_count": 14,
   "metadata": {},
   "outputs": [
    {
     "name": "stdout",
     "output_type": "stream",
     "text": [
      "Assume L_A_B be the Lift of purchasing a item B\n",
      "\tgiven the item A is purchased.\n",
      "S_A_B =  P(A ∩ B) as discussed earlier.\n",
      "P1    = 0.9 as shown above\n",
      "Lift(Bread a∩d Milk)  is 0.8333\n"
     ]
    }
   ],
   "source": [
    "print('Assume L_A_B be the Lift of purchasing a item B') \n",
    "print('\\tgiven the item A is purchased.')\n",
    "print('S_A_B =  P(A ∩ B) as discussed earlier.')\n",
    "print('P1    = 0.9 as shown above')\n",
    "P2      =  4 / 10 # P(B) Refer invoices 1,5,6 and 10\n",
    "L_A_B   =  S_A_B / (P1  * P2)\n",
    "print('Lift(Bread a∩d Milk)  is %1.4f' % L_A_B) "
   ]
  },
  {
   "cell_type": "markdown",
   "metadata": {},
   "source": [
    "Association rules can be generated based on threshold values of support, confidence and lift.\n",
    "Assume that the threshold values are given for these measures as follows:\n",
    "* Support    = 0.25\n",
    "* Confidence = 0.50\n",
    "* Lift       > 1\n",
    "\n",
    "For the rule Bread >> Milk, \n",
    "* support    is 0.30\n",
    "* confidence is 0.33\n",
    "* lift       is 0.83\n",
    "\n",
    "So, this rule is not qualified to be considered for the association rule."
   ]
  },
  {
   "cell_type": "markdown",
   "metadata": {},
   "source": [
    "A lift smaller than 1 indicates that the item A and item B appear less often together than expected.\n",
    "This implies that the occurrence of item A has a negative effect on the occurrence of item B."
   ]
  },
  {
   "cell_type": "markdown",
   "metadata": {
    "collapsed": true
   },
   "source": [
    "## Bayes theorem"
   ]
  },
  {
   "cell_type": "markdown",
   "metadata": {},
   "source": [
    "Bayes' Theorem is used to revise previously calcualted probabilities based on new information"
   ]
  },
  {
   "cell_type": "markdown",
   "metadata": {},
   "source": [
    "$P(B_{i}\\mid A)$ = $\\frac{P(A \\mid B_{i}) P(B_{i})}{P(A \\mid B_{1})P(B_{1}) + P(A \\mid B_{2}) P(B_{2}) + P(A \\mid B_{3}) P(B_{3}) + .. + P(A \\mid B_{k}) P(B_{k})}$\n",
    "\n",
    "where \n",
    "$B_{i}$ is the ith event of k mutually exclusive and collectively exhaustive events\n",
    "A is the new event that might impact P($B_{i}$)"
   ]
  },
  {
   "cell_type": "markdown",
   "metadata": {},
   "source": [
    "### Example 9"
   ]
  },
  {
   "cell_type": "markdown",
   "metadata": {},
   "source": [
    "A certain Electronic equipment is manufactured by three companies, X, Y and Z. \n",
    "* 75% are manufactured by X\n",
    "* 15% are manufactured by Y\n",
    "* 10% are manufactured by Z\n",
    "\n",
    "The defect rates of electronic equipement manufactured by companies X, Y and Z are 4%, 6% and 8%.\n",
    "\n",
    "If an electronic equipment is randomly found to be defective, what is the probability that it is manufactured by X?"
   ]
  },
  {
   "cell_type": "markdown",
   "metadata": {},
   "source": [
    "* Let P(X),P(Y) and P(Z) be probabilities of the electronic equipment manufactured by companies X, Y and Z respectively. \n",
    "* Let P(D) be the probability of defective electronic equipment.\n",
    "\n",
    "We are interested in calculating the probability P(X|D).\n",
    "\n",
    "P(X|D) = $\\frac{P(D | X) P(X)} {P(D)}$\n"
   ]
  },
  {
   "cell_type": "markdown",
   "metadata": {},
   "source": [
    "Bayes' rule in our case is given below:\n",
    "\n",
    "$P(X \\mid D)$ = $\\frac{P(D \\mid X) P(X)} {P(D \\mid X)P(D) + P(D \\mid Y) P(D) + P(D \\mid Z) P(D)}$\n"
   ]
  },
  {
   "cell_type": "code",
   "execution_count": 15,
   "metadata": {},
   "outputs": [
    {
     "name": "stdout",
     "output_type": "stream",
     "text": [
      "P(X|D)  is 0.6383\n"
     ]
    }
   ],
   "source": [
    "# Let P1 = P(D|X)\n",
    "# Let P2 = P(X)\n",
    "# Let P3 = P(D∣X)P(D)+P(D∣Y)P(D)+P(D∣Z)P(D)\n",
    "# Let P  = P(X|D) = (P1 * P2) / P3\n",
    "\n",
    "P1       =  0.04 # prob. of defective item manufactured by X\n",
    "P2       =  0.75\n",
    "P3       =  0.75 * 0.04 + 0.15 * 0.06 + 0.10 * 0.08 \n",
    "P        =  round((P1 * P2)/P3,4)\n",
    "print('P(X|D)  is %1.4f' % P)              "
   ]
  },
  {
   "cell_type": "markdown",
   "metadata": {},
   "source": [
    "### Example 10"
   ]
  },
  {
   "cell_type": "markdown",
   "metadata": {},
   "source": [
    "Given the following statistics, what is the probability that a women has cancer if she has a positive mammogram result?\n",
    "\n",
    "a) \t1% of over 50 have breast cancer.\n",
    "b) \t90% of women who have breast cancer test positive on mammograms,\n",
    "c) \t8% of women will have false positive\n",
    "\n",
    "Let \n",
    "* event A   denote woman has breast cancer\n",
    "* event ~A  denote woman has no breast cancer\n",
    "* event T   denote mammogram test is positive \n",
    "* event ~T  denote mammogram test is negative \n",
    "\n",
    "Let P(A) denote the probability of women over 50 years of age having breast cancer.\n",
    "P(A)      = 0.01 \n",
    "So, P(~A) = 1 - 0.01 = 0.99\n",
    "\n",
    "Let P(T|A) denote the conditional probability of women given postive result on mammograms and  having breast cancer .\n",
    "\n",
    "P(T|A)   = 0.9\n",
    "\n",
    "Let P(T|~A) denote the conditional probability of women given the positive result on mammograms and not having breast cancer .\n",
    "\n",
    "P(T|~A)  = 0.08\n",
    "\n",
    "$P(T \\mid A)$ = $\\frac{P(A \\mid T) P(A)} {P(A \\mid T)P(A) + P(~A \\mid T) P(T)}$"
   ]
  },
  {
   "cell_type": "code",
   "execution_count": 16,
   "metadata": {},
   "outputs": [
    {
     "name": "stdout",
     "output_type": "stream",
     "text": [
      "The probability of a women having cancer, given a positive test result is 0.1020\n"
     ]
    }
   ],
   "source": [
    "## Let P = P(T∣A)\n",
    "P = (0.9 * 0.01) / ((0.9 * 0.01) + (0.08 * 0.99)) \n",
    "print('The probability of a women having cancer, given a positive test result is %1.4f' % P) "
   ]
  },
  {
   "cell_type": "markdown",
   "metadata": {},
   "source": [
    "### Example 11"
   ]
  },
  {
   "cell_type": "markdown",
   "metadata": {},
   "source": [
    "A1 Electronic World is considering marketing a new model of televisions. In the past, 40% of the new model televisions have been successful, and 60% have been unsuccessful. Before introducing the new model television, the marketing research department conducts an extensive study and releases a report, either favorble or unfavorable.\n",
    "\n",
    "In the past, 80% of the successful new-model televisions had received favorable market reports, and 30% of the unsuccessful new-model televisions had received favorable reports. For the new model of television under consideration, the marketing research department has issued a favorable report.\n",
    "\n",
    "**What is the probability that the television is successful given a favorable report?**"
   ]
  },
  {
   "cell_type": "markdown",
   "metadata": {},
   "source": [
    "Let the following events be represented as follows:\n",
    "* S  denote the successful television\n",
    "* US denote the unsuccessful television\n",
    "* F  denote the favorable report\n",
    "* UF denote the unfavorable television\n",
    " \n",
    " The equation (Bayes' Theorem ) for this problem is:"
   ]
  },
  {
   "cell_type": "markdown",
   "metadata": {},
   "source": [
    "$P(S\\mid F)$ = $\\frac{P(F\\mid S)P(S)}{P(F\\mid S)P(S)) + P(F\\mid US)P(US))}$"
   ]
  },
  {
   "cell_type": "markdown",
   "metadata": {},
   "source": [
    "**Prior Probability** - - Revealed by data in the past\n",
    "* P(S)  = 0.40\n",
    "* P(US) = 0.60"
   ]
  },
  {
   "cell_type": "markdown",
   "metadata": {},
   "source": [
    "**Conditional Probability**\n",
    "\n",
    "* $P(F\\mid S)$   = 0.80    ** Favorable Report received when the new model is successful**\n",
    "* $P(F\\mid US)$  = 0.20    ** Favorable Report received when the new model is unsuccessful**"
   ]
  },
  {
   "cell_type": "markdown",
   "metadata": {},
   "source": [
    "Using the equation given above,\n",
    "\n",
    "$P(S\\mid F)$ = $\\frac{P(F\\mid S)P(S)}{P(F\\mid S)P(S)) + P(F\\mid US)P(US))}$"
   ]
  },
  {
   "cell_type": "markdown",
   "metadata": {},
   "source": [
    "$P(S\\mid F)$ = $\\frac{(0.80) (0.40)}{(0.80)(0.40) + (0.30)(0.60)}$"
   ]
  },
  {
   "cell_type": "code",
   "execution_count": 17,
   "metadata": {},
   "outputs": [
    {
     "name": "stdout",
     "output_type": "stream",
     "text": [
      "The probability that the television is successful given a favorable report is 0.6400\n"
     ]
    }
   ],
   "source": [
    "# Let P = P(S∣F)\n",
    "P = (0.80 * 0.40)/ ((0.80 * 0.40) + (0.30 * 0.60))\n",
    "print('The probability that the television is successful given a favorable report is %1.4f' % P) "
   ]
  },
  {
   "cell_type": "markdown",
   "metadata": {},
   "source": [
    "### Practice Exercise 5"
   ]
  },
  {
   "cell_type": "markdown",
   "metadata": {},
   "source": [
    "** The following contingency table list the probabilities of a person having a certain disease and the result of the diagnostic test conducted to determine whether the person is having the disease.**\n",
    "\n",
    "Let D be the event of having the disease and the event D' not having the disease.\n",
    "Let T be the event of having the test result positive and T' be the event of not having the test result positive.\n",
    "\n",
    "P(D)    = 0.03\n",
    "P(D')   = 0.97\n",
    "P(T|D)  = 0.90\n",
    "P(T|D') = 0.01\n",
    "\n",
    "What is the probability that the disease is acually present given a positive test result?\n",
    "\n",
    "**Hint: Use Bayes theorem**"
   ]
  },
  {
   "cell_type": "markdown",
   "metadata": {},
   "source": [
    "### Take Home Exercise"
   ]
  },
  {
   "cell_type": "markdown",
   "metadata": {},
   "source": [
    "**1) A1 Construction company is determining whether it should submit a bid for  a new shopping mall. In the past, A1's main competitor, Pyramid Construction company has submitted bids 70% of the time. If  Pyramid Construction company does not bid on a job, the probability that A1 Construction Company will get the job is 0.50.** \n",
    "\n",
    "If the Pyramid Construction company bids on a job, the probability that A1 Construction company will get the job is 0.25.\n",
    "\n",
    "* a. If A1 Construction company gets the job, what is the probability that Pyramid Construction company did not bid?\n",
    "\n",
    "* b. What is the probability that A1 Construction company will get the job?"
   ]
  },
  {
   "cell_type": "markdown",
   "metadata": {},
   "source": [
    "Hint: Use Bayes theorem"
   ]
  },
  {
   "cell_type": "markdown",
   "metadata": {},
   "source": [
    "**2) From the table in Exercise 4, answer the following:**\n",
    "* a. What is the probability of Loan non-defaulted?\n",
    "* b. What is the conditional probability of non-default, given the occupation category- Employed in Government Sector?"
   ]
  },
  {
   "cell_type": "markdown",
   "metadata": {},
   "source": [
    "**3) You flip a coin and roll a six-sided dice, what is the probability that the coin comes up tail and the dice comes up with 6?**"
   ]
  },
  {
   "cell_type": "markdown",
   "metadata": {},
   "source": [
    "### End of Chapter 1"
   ]
  },
  {
   "cell_type": "markdown",
   "metadata": {},
   "source": [
    "## Chapter 2"
   ]
  },
  {
   "cell_type": "markdown",
   "metadata": {},
   "source": [
    "## Binomial and normal distribution"
   ]
  },
  {
   "cell_type": "markdown",
   "metadata": {},
   "source": [
    "* It is widely used probability distribution of a discrete random variable. \n",
    "* Plays major role in quality control and quality assurance function. "
   ]
  },
  {
   "cell_type": "markdown",
   "metadata": {},
   "source": [
    "$P(X = x\\mid n,\\pi)$ = $\\frac{n!}{x!(n - x)!}\\pi^x (1 - \\pi)^{n-x} $\n",
    "* where P(X = x) is the probability of getting x successes in n trials\n",
    "and $\\pi$ is the probability of an event of interest"
   ]
  },
  {
   "cell_type": "markdown",
   "metadata": {},
   "source": [
    "### Some important functions in Python for Binomial distribution:\n",
    "\n",
    "#### 1) Probability mass function\n",
    "\n",
    "##### scipy.stats.binom.pmf gives the probability mass function for the binomial distribution\n",
    "\n",
    "binomial = scipy.stats.binom.pmf (k,n,p), \n",
    "* where k is an array and takes values in {0, 1,..., n}\n",
    "* n and p are shape parameters for the binomial distribution\n",
    "\n",
    "The output, binomial, gives probability of binomial distribution function in terms of array.\n",
    "\n",
    "#### 2) Cumulative Density function\n",
    "\n",
    "cumbinomial = scipy.stats.binom.cdf(k,n,p) gives cumulative binomial distribution.\n",
    "\n",
    "The output, cumbinomial, gives cumulative probability of binomial distribution function in terms of array."
   ]
  },
  {
   "cell_type": "markdown",
   "metadata": {},
   "source": [
    "####  3)  Plot the binomial Density function\n",
    "\n",
    "The function, matplotlib.pyplot.plot(k, binomial, ‘o-’) gives us plot of the binomial distribution function."
   ]
  },
  {
   "cell_type": "markdown",
   "metadata": {},
   "source": [
    "### Example 1"
   ]
  },
  {
   "cell_type": "markdown",
   "metadata": {},
   "source": [
    "A LED bulb manufacturing company regularly conducts quality checks at specified periods on the products it manufactures.\n",
    "Historically, the failure rate for LED light bulbs that the company manufactures is 5%. Suppose a random sample of 10 LED light bulbs is selected.\n",
    "What is the probability that \n",
    "* a) None of the LED bulbs are defective?\n",
    "* b) Exactly one of the LED bulbs is defective?\n",
    "* c) Two or fewer of the LED bulbs are defective?\n",
    "* d) Three or more of the LED bulbs are defective"
   ]
  },
  {
   "cell_type": "code",
   "execution_count": 2,
   "metadata": {
    "collapsed": true
   },
   "outputs": [],
   "source": [
    "import numpy             as np\n",
    "import pandas            as pd\n",
    "import scipy.stats       as stats\n",
    "import matplotlib.pyplot as plt"
   ]
  },
  {
   "cell_type": "code",
   "execution_count": 2,
   "metadata": {
    "collapsed": true
   },
   "outputs": [],
   "source": [
    "p   =  0.05 # failure rate for LED light bulbs that the company manufactures is 5%\n",
    "n   =  10 # sample size\n",
    "k   =  np.arange(0,11) # An array of quantiles"
   ]
  },
  {
   "cell_type": "code",
   "execution_count": 3,
   "metadata": {
    "collapsed": true
   },
   "outputs": [],
   "source": [
    "binomial = stats.binom.pmf(k,n,p)"
   ]
  },
  {
   "cell_type": "code",
   "execution_count": 4,
   "metadata": {
    "scrolled": true
   },
   "outputs": [
    {
     "name": "stdout",
     "output_type": "stream",
     "text": [
      "[  5.98736939e-01   3.15124705e-01   7.46347985e-02   1.04750594e-02\n",
      "   9.64808106e-04   6.09352488e-05   2.67259863e-06   8.03789063e-08\n",
      "   1.58642578e-09   1.85546875e-11   9.76562500e-14]\n"
     ]
    }
   ],
   "source": [
    "print(binomial)"
   ]
  },
  {
   "cell_type": "code",
   "execution_count": 5,
   "metadata": {},
   "outputs": [
    {
     "name": "stdout",
     "output_type": "stream",
     "text": [
      "a) None of the LED bulbs are defective? is 0.5987\n"
     ]
    }
   ],
   "source": [
    "print('a) None of the LED bulbs are defective? is %1.4f' %binomial[0])"
   ]
  },
  {
   "cell_type": "code",
   "execution_count": 6,
   "metadata": {},
   "outputs": [
    {
     "name": "stdout",
     "output_type": "stream",
     "text": [
      "b) Exactly one of the LED bulbs is defective? is 0.3151\n"
     ]
    }
   ],
   "source": [
    "print('b) Exactly one of the LED bulbs is defective? is %1.4f' %binomial[1])"
   ]
  },
  {
   "cell_type": "markdown",
   "metadata": {},
   "source": [
    "To answer the question c) Two or fewer of the LED bulbs are defective?\n",
    "we need to calculate cumulative probability of Upto Two LED bulbs being defective"
   ]
  },
  {
   "cell_type": "code",
   "execution_count": 7,
   "metadata": {
    "collapsed": true
   },
   "outputs": [],
   "source": [
    "cumbinomial = stats.binom.cdf(k,n,p)"
   ]
  },
  {
   "cell_type": "code",
   "execution_count": 8,
   "metadata": {},
   "outputs": [
    {
     "name": "stdout",
     "output_type": "stream",
     "text": [
      "[ 0.59873694  0.91386164  0.98849644  0.9989715   0.99993631  0.99999725\n",
      "  0.99999992  1.          1.          1.          1.        ]\n"
     ]
    }
   ],
   "source": [
    "print(cumbinomial)"
   ]
  },
  {
   "cell_type": "code",
   "execution_count": 9,
   "metadata": {},
   "outputs": [
    {
     "name": "stdout",
     "output_type": "stream",
     "text": [
      "c) Two or fewer of the LED bulbs are defective? is 0.9885\n"
     ]
    }
   ],
   "source": [
    "print('c) Two or fewer of the LED bulbs are defective? is %1.4f' %cumbinomial[2])"
   ]
  },
  {
   "cell_type": "markdown",
   "metadata": {},
   "source": [
    "#### To answer the question d) Three or more of the LED bulbs are defective, we need to subtract cumulative Probability upto 2 defective LED bulbs from 1."
   ]
  },
  {
   "cell_type": "code",
   "execution_count": 10,
   "metadata": {},
   "outputs": [
    {
     "name": "stdout",
     "output_type": "stream",
     "text": [
      "d) Three or more of the LED bulbs are defective is 0.0115\n"
     ]
    }
   ],
   "source": [
    "P = 1- cumbinomial[2]\n",
    "print('d) Three or more of the LED bulbs are defective is %1.4f' % P)"
   ]
  },
  {
   "cell_type": "markdown",
   "metadata": {},
   "source": [
    "### Plot the binomial distribution function"
   ]
  },
  {
   "cell_type": "code",
   "execution_count": 11,
   "metadata": {},
   "outputs": [
    {
     "data": {
      "image/png": "[encoded data removed]",
      "text/plain": [
       "<matplotlib.figure.Figure at 0x20bddb02d30>"
      ]
     },
     "metadata": {},
     "output_type": "display_data"
    }
   ],
   "source": [
    "plt.plot(k,binomial, 'o-')\n",
    "plt.title('Binomial')\n",
    "plt.xlabel('Number of Def LED bulbs')\n",
    "plt.ylabel('Prob of Defective LED bulbs')\n",
    "plt.show()"
   ]
  },
  {
   "cell_type": "markdown",
   "metadata": {},
   "source": [
    "### Example 2"
   ]
  },
  {
   "cell_type": "markdown",
   "metadata": {},
   "source": [
    "The percentage of orders filled correctly at Wendy's was approximately 86.8%. Suppose that you go to drive-through window at Wendy's and place an order. Two friends of yours independently place orders at the drive-through window at the same Wendy's.\n",
    "\n",
    "What are the probabilities that \n",
    "* a) all three \n",
    "* b) none of the three\n",
    "* c) atleast two of the three orders will be filled correctly?\n",
    "* d) what is the mean and standard deviation of the orders filled correctly?"
   ]
  },
  {
   "cell_type": "code",
   "execution_count": 12,
   "metadata": {
    "collapsed": true
   },
   "outputs": [],
   "source": [
    "p   =  0.868 # percentage of orders filled correctly at Wendy's was approximately 86.8%\n",
    "n   =  3\n",
    "k   =  np.arange(0,4)"
   ]
  },
  {
   "cell_type": "code",
   "execution_count": 13,
   "metadata": {
    "collapsed": true
   },
   "outputs": [],
   "source": [
    "binomial = stats.binom.pmf(k,n,p)"
   ]
  },
  {
   "cell_type": "code",
   "execution_count": 14,
   "metadata": {},
   "outputs": [
    {
     "name": "stdout",
     "output_type": "stream",
     "text": [
      "[ 0.00229997  0.0453721   0.2983559   0.65397203]\n"
     ]
    }
   ],
   "source": [
    "print(binomial)"
   ]
  },
  {
   "cell_type": "code",
   "execution_count": 15,
   "metadata": {},
   "outputs": [
    {
     "name": "stdout",
     "output_type": "stream",
     "text": [
      "a) all the three orders are filled correctly? is 0.6540\n"
     ]
    }
   ],
   "source": [
    "print('a) all the three orders are filled correctly? is %1.4f' %binomial[3])"
   ]
  },
  {
   "cell_type": "code",
   "execution_count": 16,
   "metadata": {},
   "outputs": [
    {
     "name": "stdout",
     "output_type": "stream",
     "text": [
      "b) none of the three orders are filled correctly? is 0.0023\n"
     ]
    }
   ],
   "source": [
    "print('b) none of the three orders are filled correctly? is %1.4f' %binomial[0])"
   ]
  },
  {
   "cell_type": "markdown",
   "metadata": {},
   "source": [
    "To answer this question c) atleast two of the three orders are filled correctly, \n",
    "we need to find out 1 - Probability of upto 1 failure"
   ]
  },
  {
   "cell_type": "code",
   "execution_count": 17,
   "metadata": {
    "collapsed": true
   },
   "outputs": [],
   "source": [
    "cumbinomial = stats.binom.cdf(k,n,p)"
   ]
  },
  {
   "cell_type": "code",
   "execution_count": 18,
   "metadata": {},
   "outputs": [
    {
     "name": "stdout",
     "output_type": "stream",
     "text": [
      "[ 0.00229997  0.04767206  0.34602797  1.        ]\n"
     ]
    }
   ],
   "source": [
    "print(cumbinomial)"
   ]
  },
  {
   "cell_type": "code",
   "execution_count": 19,
   "metadata": {},
   "outputs": [
    {
     "name": "stdout",
     "output_type": "stream",
     "text": [
      "c) atleast two of the three orders are filled correctly? is 0.9523\n"
     ]
    }
   ],
   "source": [
    "P = 1 - cumbinomial[1]\n",
    "print('c) atleast two of the three orders are filled correctly? is %1.4f' % P)"
   ]
  },
  {
   "cell_type": "code",
   "execution_count": 20,
   "metadata": {},
   "outputs": [
    {
     "name": "stdout",
     "output_type": "stream",
     "text": [
      "mean and standard deviation of the orders filled correctly are 2.6040 and  0.5863 respectively\n"
     ]
    }
   ],
   "source": [
    "# d) what is the mean and standard deviation of the orders filled correctly?\n",
    "p    = 0.868\n",
    "n    = 3\n",
    "mean = n* p # = 3 * 0.868\n",
    "sd   = np.sqrt(n * p * (1 - p))\n",
    "print('mean and standard deviation of the orders filled correctly are %1.4f and  %1.4f respectively' % (mean, sd))"
   ]
  },
  {
   "cell_type": "markdown",
   "metadata": {},
   "source": [
    "### Plot  the binomial distribution function"
   ]
  },
  {
   "cell_type": "code",
   "execution_count": 21,
   "metadata": {},
   "outputs": [
    {
     "data": {
      "image/png": "[encoded data removed]",
      "text/plain": [
       "<matplotlib.figure.Figure at 0x20bde01b898>"
      ]
     },
     "metadata": {},
     "output_type": "display_data"
    }
   ],
   "source": [
    "plt.plot(k,binomial, 'o-')\n",
    "plt.title('Binomial')\n",
    "plt.xlabel('Number of Orders filled correctly')\n",
    "plt.ylabel('Prob of Orders filled correctly')\n",
    "plt.show()"
   ]
  },
  {
   "cell_type": "markdown",
   "metadata": {},
   "source": [
    "### Practice Exercise 1"
   ]
  },
  {
   "cell_type": "markdown",
   "metadata": {},
   "source": [
    "** You and your two friends go to Pizza Hut which recently filled approximately 88.3% of the orders correctly.\n",
    "What is the probability that**"
   ]
  },
  {
   "cell_type": "markdown",
   "metadata": {},
   "source": [
    "* a. all three orders will be filled correctly?\n",
    "* b. none of orders will be filled correctly?\n",
    "* c. at least two of three orders will be filled correctly?\n",
    "* d. What are the mean and standard deviation of the orders filled correctly?\n",
    "\n",
    "**Hint:** \n",
    "Mean and standard deviation of binomial distribution:\n",
    "* $\\mu     = n\\pi$ \n",
    "* $\\sigma  = \\sqrt{n\\pi(1-\\pi)}$ \n",
    "where n is the size of the sample and $\\pi$ is the probability of the event of interest"
   ]
  },
  {
   "cell_type": "markdown",
   "metadata": {},
   "source": [
    "### Poisson Distribution"
   ]
  },
  {
   "cell_type": "markdown",
   "metadata": {},
   "source": [
    "* This discrete distribution which also plays a major role in quality control. \n",
    "* The Poisson distribution is a discrete probability distribution for the counts of events that occur randomly in a given interval of time or space. In such areas of opportunity, there can be more than one occurrence. In such situations, Poisson distribution can be used to compute probabilities.\n",
    "* Examples include number of defects per item, number of defects per transformer produced. \n",
    "* Notes: Poisson Distribution helps to predict the arrival rate in a waiting line situation where a queue is formed and people wait to be served and the service rate is generally higher than the arrival rate.\n"
   ]
  },
  {
   "cell_type": "markdown",
   "metadata": {},
   "source": [
    "### Properties:\n",
    "* Mean                     μ  = λ\n",
    "* Standard deviation       σ  = √ μ\n",
    "* The Poisson distribution is the limit of binomial distribution as n approaches ∞and p approaches 0\n"
   ]
  },
  {
   "cell_type": "markdown",
   "metadata": {},
   "source": [
    "P(X = x) = $\\frac{e^\\lambda \\lambda^x}{x!} $\n",
    "where \n",
    "* P(x)              = Probability of x successes given an idea of  $\\lambda$\n",
    "* $\\lambda$ = Average number of successes\n",
    "* e                   = 2.71828 (based on natural logarithm)\n",
    "* x                    = successes per unit which can take values 0,1,2,3,... $\\infty$"
   ]
  },
  {
   "cell_type": "markdown",
   "metadata": {},
   "source": [
    "### Applications\n",
    "\n",
    "1. Car Accidents\n",
    "2. Number of deaths by horse kicking in Prussian Army (first application)\n",
    "3. Birth defects and genetic mutation\n",
    "\n",
    "### Note\n",
    "\n",
    "* If there is a fixed number of observations, n, each of which is classified as an event of interest or not an event of interest, use the binomial distribution.\n",
    "* If there is an area of opportunity, use the Poisson distribution.\n",
    "\n"
   ]
  },
  {
   "cell_type": "markdown",
   "metadata": {},
   "source": [
    "### Some important functions in Python for solving Poisson distribution problems\n",
    "\n",
    "#### 1) Probability Mass Function\n",
    "\n",
    "poisson =  scipy.stats.poisson.pmf(n, rate) where n is where n is an array like quantiles and rate is the mean \n",
    "It gives poisson distribution result in the form of an array.\n",
    "\n",
    "#### 2) Cumulative Density Function\n",
    "\n",
    "poisson =  scipy.stats.poisson.cdf(n,rate) where n is where n is an array like quantiles and rate is the mean \n",
    "It gives cumulative density function result in the form of an array.\n"
   ]
  },
  {
   "cell_type": "markdown",
   "metadata": {},
   "source": [
    "### Example 3"
   ]
  },
  {
   "cell_type": "markdown",
   "metadata": {},
   "source": [
    "The number of work-related injuries per month in a manufacturing plant is known to follow a Poisson distribution, with a mean  of 2.5 work-related injuries a month. What is the probability that in a given month, \n",
    "a) No work related injuries occur? \n",
    "b) At least one work-related injury occurs?"
   ]
  },
  {
   "cell_type": "markdown",
   "metadata": {},
   "source": [
    "Here, \n",
    "$\\lambda$ = 2.5 injuries"
   ]
  },
  {
   "cell_type": "code",
   "execution_count": 22,
   "metadata": {
    "collapsed": true
   },
   "outputs": [],
   "source": [
    "rate =  2.5 # which is the mean\n",
    "n    =  np.arange(0,20)\n",
    "poisson = stats.poisson.pmf(n,rate)"
   ]
  },
  {
   "cell_type": "code",
   "execution_count": 23,
   "metadata": {},
   "outputs": [
    {
     "data": {
      "text/plain": [
       "array([  8.20849986e-02,   2.05212497e-01,   2.56515621e-01,\n",
       "         2.13763017e-01,   1.33601886e-01,   6.68009429e-02,\n",
       "         2.78337262e-02,   9.94061650e-03,   3.10644266e-03,\n",
       "         8.62900738e-04,   2.15725184e-04,   4.90284510e-05,\n",
       "         1.02142606e-05,   1.96428089e-06,   3.50764445e-07,\n",
       "         5.84607408e-08,   9.13449075e-09,   1.34330746e-09,\n",
       "         1.86570481e-10,   2.45487475e-11])"
      ]
     },
     "execution_count": 23,
     "metadata": {},
     "output_type": "execute_result"
    }
   ],
   "source": [
    "poisson"
   ]
  },
  {
   "cell_type": "code",
   "execution_count": 24,
   "metadata": {},
   "outputs": [
    {
     "name": "stdout",
     "output_type": "stream",
     "text": [
      " a) Probability that No work related injuries occur is 0.0821\n"
     ]
    }
   ],
   "source": [
    "print(' a) Probability that No work related injuries occur is %1.4f' % poisson[0])"
   ]
  },
  {
   "cell_type": "markdown",
   "metadata": {},
   "source": [
    "To calculate the probability that at least one work-related injury occurs, we need to subtract probability of no work related injury from 1."
   ]
  },
  {
   "cell_type": "code",
   "execution_count": 25,
   "metadata": {},
   "outputs": [
    {
     "name": "stdout",
     "output_type": "stream",
     "text": [
      " b) Probability that that at least one work-related injury occurs is 0.9179\n"
     ]
    }
   ],
   "source": [
    "# P = probability that at least one work-related injury occurs\n",
    "P   = 1 - poisson[0]\n",
    "print(' b) Probability that that at least one work-related injury occurs is %1.4f' % P)"
   ]
  },
  {
   "cell_type": "markdown",
   "metadata": {},
   "source": [
    "### Plot the Poisson distribution function¶"
   ]
  },
  {
   "cell_type": "code",
   "execution_count": 26,
   "metadata": {},
   "outputs": [
    {
     "data": {
      "image/png": "[encoded data removed]",
      "text/plain": [
       "<matplotlib.figure.Figure at 0x20bdf13bb70>"
      ]
     },
     "metadata": {},
     "output_type": "display_data"
    }
   ],
   "source": [
    "plt.plot(n,poisson, 'o-')\n",
    "plt.title('Poisson')\n",
    "plt.xlabel('Number of Work related injuries')\n",
    "plt.ylabel('Prob of Work related injuries')\n",
    "plt.show()"
   ]
  },
  {
   "cell_type": "markdown",
   "metadata": {},
   "source": [
    "### Example 4"
   ]
  },
  {
   "cell_type": "markdown",
   "metadata": {},
   "source": [
    "A Life Insurance agent sells on the average 3 life insurance policies per week. \n",
    "Use the Poisson law to calculate the probability that in a given week, he will sell\n",
    "a. Some policies\n",
    "b. 2 or more but less than 5 policies?"
   ]
  },
  {
   "cell_type": "markdown",
   "metadata": {},
   "source": [
    "Here $\\lambda$ = 3"
   ]
  },
  {
   "cell_type": "code",
   "execution_count": 27,
   "metadata": {
    "collapsed": true
   },
   "outputs": [],
   "source": [
    "rate =  3 # which is the mean\n",
    "n    =  np.arange(0,16)\n",
    "cumpoisson = stats.poisson.cdf(n,rate)"
   ]
  },
  {
   "cell_type": "code",
   "execution_count": 28,
   "metadata": {},
   "outputs": [
    {
     "data": {
      "text/plain": [
       "array([ 0.04978707,  0.19914827,  0.42319008,  0.64723189,  0.81526324,\n",
       "        0.91608206,  0.96649146,  0.9880955 ,  0.99619701,  0.99889751,\n",
       "        0.99970766,  0.99992861,  0.99998385,  0.9999966 ,  0.99999933,\n",
       "        0.99999988])"
      ]
     },
     "execution_count": 28,
     "metadata": {},
     "output_type": "execute_result"
    }
   ],
   "source": [
    "cumpoisson"
   ]
  },
  {
   "cell_type": "code",
   "execution_count": 29,
   "metadata": {},
   "outputs": [
    {
     "name": "stdout",
     "output_type": "stream",
     "text": [
      " a) Probability that the agent sells some policies is 0.9502\n"
     ]
    }
   ],
   "source": [
    "# P = probability that the agent sells some policies\n",
    "P   = 1 - cumpoisson[0]\n",
    "print(' a) Probability that the agent sells some policies is %1.4f' % P)"
   ]
  },
  {
   "cell_type": "markdown",
   "metadata": {},
   "source": [
    " b. Agent sells 2 or more but less than 5 policies "
   ]
  },
  {
   "cell_type": "code",
   "execution_count": 30,
   "metadata": {},
   "outputs": [
    {
     "name": "stdout",
     "output_type": "stream",
     "text": [
      " b) Probability that the agent sells between 2 and 5 policies is 0.6161\n"
     ]
    }
   ],
   "source": [
    "# Let P1 be the probability that the agent sells more than 4 policies\n",
    "P1 = cumpoisson[4] # P(X >=4)\n",
    "# Let P2 be the probability that the agent sells more than 1 policy\n",
    "P2 = cumpoisson[1] # P(X >=1)\n",
    "P = P1 - P2 # Prob. that the agent will sell between 2 and 5 policies\n",
    "print(' b) Probability that the agent sells between 2 and 5 policies is %1.4f' % P)"
   ]
  },
  {
   "cell_type": "markdown",
   "metadata": {},
   "source": [
    "### Plot the Poisson distribution function"
   ]
  },
  {
   "cell_type": "code",
   "execution_count": 31,
   "metadata": {
    "scrolled": true
   },
   "outputs": [
    {
     "data": {
      "image/png": "[encoded data removed]",
      "text/plain": [
       "<matplotlib.figure.Figure at 0x20bdf1ae470>"
      ]
     },
     "metadata": {},
     "output_type": "display_data"
    }
   ],
   "source": [
    "poisson = stats.poisson.pmf(n,rate)\n",
    "plt.plot(n,poisson, 'o-')\n",
    "plt.title('Poisson')\n",
    "plt.xlabel('Number of Policies sold per week')\n",
    "plt.ylabel('Cumulative Prob of Policies sold per week')\n",
    "plt.show()"
   ]
  },
  {
   "cell_type": "markdown",
   "metadata": {},
   "source": [
    "### Practice Exercise 2"
   ]
  },
  {
   "cell_type": "markdown",
   "metadata": {},
   "source": [
    "** Refer to Example 4. What is the probability that the Agent will sell**\n",
    "* a. At least 4 policies\n",
    "* b. Exactly 4 policies"
   ]
  },
  {
   "cell_type": "markdown",
   "metadata": {},
   "source": [
    "### Normal Distribution"
   ]
  },
  {
   "cell_type": "markdown",
   "metadata": {},
   "source": [
    "* One of the most popular continuous distribution in Analytics field.\n",
    "* Normal distribution is observed across many naturally occurring measures such as birth weight, height and intelligence etc"
   ]
  },
  {
   "cell_type": "markdown",
   "metadata": {},
   "source": [
    "#### Probability Density Function"
   ]
  },
  {
   "cell_type": "markdown",
   "metadata": {},
   "source": [
    "f(x) = $\\frac {1}{\\sigma\\sqrt(2 \\pi)} e^\\frac {-(x-\\mu^2)}{2\\sigma^2}$"
   ]
  },
  {
   "cell_type": "markdown",
   "metadata": {},
   "source": [
    "Where\n",
    "* f(x) is used to represent a probability density function\n",
    "* x is any value of the continuous variable, where -∞ < x < ∞\n",
    "* e denotes the mathematical constant approximated by 2.71828\n",
    "* Π is a mathematical constant approximated by 3.14159\n",
    "* μ and σ are the mean and standard deviation of the normal distribution\n"
   ]
  },
  {
   "cell_type": "markdown",
   "metadata": {},
   "source": [
    "For a continuous function, the probability density function is the probability that the value has the value x. \n",
    "Since for continuous distributions the probability at a single point is zero, this is expressed in terms of an integral of its probability density function\n",
    "P(X<= x) = F(x) = \n",
    "$\\int_{-\\infty}^xf(t)dt$\n"
   ]
  },
  {
   "cell_type": "markdown",
   "metadata": {},
   "source": [
    "Standardize normal variable\n",
    "Compute Z by subtracting the mean, mu from a normally distributed variable, divide by the standard deviation, sigma.\n",
    "Z = (X - μ) / σ \n",
    "Z is in standard units. \n",
    "Z ~ N(0,1) and the variable, Z always has mean 0 and standard deviation 1"
   ]
  },
  {
   "cell_type": "markdown",
   "metadata": {},
   "source": [
    "Its pdf is given by\n",
    "\n",
    "fZ(z) = $\\frac{1}{ √2Π} {exp \\frac {-z2} {2}}$\n",
    "\n",
    "for all z $\\in R$\n",
    "\n",
    "The (1 / √2Π ) is there to make sure that the area under the PDF is 1."
   ]
  },
  {
   "cell_type": "markdown",
   "metadata": {},
   "source": [
    "* For a normal distribution, mu is the location parameter, which locates (centre) the distribution on the horizontal axis.\n",
    "* Sigma is the scale parameter, which defines the spread of the normal distribution.\n",
    "* Normal distribution has no shape parameter since all the normal distribution curves have bell shape and are symmetrical. \n"
   ]
  },
  {
   "cell_type": "markdown",
   "metadata": {},
   "source": [
    "### Properties\n",
    "1. Theoretical normal density functions are defined between -∞ and ∞\n",
    "2. There are two parameters, location (μ which is the mean) and scale (σ which is standard deviation).\n",
    "3. It has a symmetrical (bell shape) around the mean. mean = median = mode\n",
    "4. Areas between specific values are measured in terms of μ and σ\n",
    "5. Any linear transformation if a normal random variable is also normal random variable.\n",
    "6. If X1 is an independent normal random variable with mean μ1 and variance $\\sigma1^2$ and \n",
    "      X2 is another independent normal random variable with mean μ2 and$\\sigma2^2$, \n",
    "then X1 + X2 is also a normal distribution with mean μ1 + μ2 and variance $\\sigma1^2$ + $\\sigma2^2$ "
   ]
  },
  {
   "cell_type": "markdown",
   "metadata": {},
   "source": [
    "| Value of the random variable | Area under the normal distribution (CDF) |\n",
    "| --------------------------------- | --------------------------|\n",
    "| $\\mu - \\sigma \\leq x \\leq \\mu + \\sigma$ | 0.6828 |\n",
    "| $\\mu - 2\\sigma \\leq x \\leq \\mu + 2\\sigma$ | 0.9545 |\n",
    "| $\\mu - 3\\sigma \\leq x \\leq \\mu + 3\\sigma$ | 0.9974 |"
   ]
  },
  {
   "cell_type": "markdown",
   "metadata": {},
   "source": [
    "### Some important functions in python for solving Normal Distribution problems\n",
    "\n",
    "#### 1. Cumulative Density Function (cdf)\n",
    "\n",
    "1. scipy.stats.norm.cdf(z)                 # Here z is an attribute\n",
    "\n",
    "2. stats.norm.cdf(z2) – stats.norm.cdf(z1) # Here z is an attribute\n",
    "\n",
    "3. stats.norm.isf(0.99) # Inverse Survival function gives the value given a probability"
   ]
  },
  {
   "cell_type": "markdown",
   "metadata": {},
   "source": [
    "### Example 5"
   ]
  },
  {
   "cell_type": "markdown",
   "metadata": {},
   "source": [
    "A survey on use of smart phones in India was conducted and it is observed the smart phone users spend 68 minutes in a day on average in sending messages and the corresponding standard deviation is 12 minutes. \n",
    "\n",
    "* Assume that the time spent in sending messages follows a normal distribution. \n",
    "* a) What proportion of the smart phone users are spending more than 90 minutes in sending messages daily?\n",
    "* b) What proportion of customers are spending less than 20 minutes?\n",
    "* c) What proportion of customers are spending between 50 minutes and 100 minutes?"
   ]
  },
  {
   "cell_type": "code",
   "execution_count": 32,
   "metadata": {
    "collapsed": true
   },
   "outputs": [],
   "source": [
    "mu    = 68 # minutes \n",
    "sigma = 12"
   ]
  },
  {
   "cell_type": "markdown",
   "metadata": {},
   "source": [
    "### Compute Z by subtracting the mean, mu from a normally distributed variable, divide by the standard deviation, sigma"
   ]
  },
  {
   "cell_type": "code",
   "execution_count": 33,
   "metadata": {},
   "outputs": [
    {
     "name": "stdout",
     "output_type": "stream",
     "text": [
      " a. Proportion of the smart phone users are spending more than 90 minutes in sending messages daily is 0.0334\n"
     ]
    }
   ],
   "source": [
    "# a. What proportion of the smart phone users are spending more than 90 minutes in sending messages daily?\n",
    "z  = (90 - mu) / sigma # X = 90\n",
    "P  = 1 - stats.norm.cdf(z)\n",
    "print(' a. Proportion of the smart phone users are spending more than 90 minutes in sending messages daily is %1.4f' % P)"
   ]
  },
  {
   "cell_type": "code",
   "execution_count": 34,
   "metadata": {},
   "outputs": [
    {
     "name": "stdout",
     "output_type": "stream",
     "text": [
      " b) What proportion of customers are spending less than 20 minutes is 0.0000317\n"
     ]
    }
   ],
   "source": [
    "# b) What proportion of customers are spending less than 20 minutes?\n",
    "z1  =  (20 - mu) / sigma # X = 20\n",
    "P   =  stats.norm.cdf(z1)\n",
    "print(' b) What proportion of customers are spending less than 20 minutes is %1.7f' % P)\n"
   ]
  },
  {
   "cell_type": "code",
   "execution_count": 35,
   "metadata": {},
   "outputs": [
    {
     "name": "stdout",
     "output_type": "stream",
     "text": [
      " c) proportion of customers are spending between 50 minutes and 100 minutes is 0.9294\n"
     ]
    }
   ],
   "source": [
    "# c) What proportion of customers are spending between 50 minutes and 100 minutes?\n",
    "z1  =  (50 - mu) / sigma   # X = 50\n",
    "z2  =  (100 - mu) / sigma  # X = 100\n",
    "P1   =  stats.norm.cdf(z1)\n",
    "P2   =  stats.norm.cdf(z2)\n",
    "P    =  P2 - P1\n",
    "print(' c) proportion of customers are spending between 50 minutes and 100 minutes is %1.4f' % P)"
   ]
  },
  {
   "cell_type": "markdown",
   "metadata": {},
   "source": [
    "### Example 6"
   ]
  },
  {
   "cell_type": "markdown",
   "metadata": {},
   "source": [
    "The mean salaries of Data Scientists working in Chennai, India is calculated to be 7,00,000 INR with a standard deviation of 90,000 INR. The random variable salary of Data Scientists follows a normal distribution.\n",
    "\n",
    "* a) What is the probability that a Data Scientist in Chennai has a salary more than 10,00,000 INR?\n",
    "* b) What is the probability that a Data Scientist in Chennai has a salary between 6,00,000 & 9,00,000 INR?\n",
    "* c) What is the probability that a Data Scientist in Chennai has a salary less than 4,00,000 INR?"
   ]
  },
  {
   "cell_type": "code",
   "execution_count": 36,
   "metadata": {
    "collapsed": true
   },
   "outputs": [],
   "source": [
    "# a) What is the probability that a Data Scientist in Chennai has a salary more than 10,00,000 INR?\n",
    "mu    =  700000\n",
    "sigma =  90000\n",
    "z=(1000000-mu) / sigma "
   ]
  },
  {
   "cell_type": "code",
   "execution_count": 37,
   "metadata": {},
   "outputs": [
    {
     "name": "stdout",
     "output_type": "stream",
     "text": [
      " a) Probability that a Data Scientist in Chennai has a salary more than 10,00,000 is 0.0004\n"
     ]
    }
   ],
   "source": [
    "P = 1 - stats.norm.cdf(z)\n",
    "print(' a) Probability that a Data Scientist in Chennai has a salary more than 10,00,000 is %1.4f' % P)"
   ]
  },
  {
   "cell_type": "code",
   "execution_count": 38,
   "metadata": {
    "collapsed": true
   },
   "outputs": [],
   "source": [
    "# b) What is the probability that a Data Scientist in Chennai has a salary between 6,00,000 & 9,00,000 INR?\n",
    "z1= (600000-mu) / sigma\n",
    "z2= (900000-mu) / sigma"
   ]
  },
  {
   "cell_type": "code",
   "execution_count": 39,
   "metadata": {},
   "outputs": [
    {
     "name": "stdout",
     "output_type": "stream",
     "text": [
      " b) probability that a Data Scientist in Chennai has a salary between 6,00,000 & 9,00,000 INR is 0.8536\n"
     ]
    }
   ],
   "source": [
    "P = stats.norm.cdf(z2) - stats.norm.cdf(z1)\n",
    "print(' b) probability that a Data Scientist in Chennai has a salary between 6,00,000 & 9,00,000 INR is %1.4f' % P)"
   ]
  },
  {
   "cell_type": "code",
   "execution_count": 40,
   "metadata": {
    "collapsed": true
   },
   "outputs": [],
   "source": [
    "# c) What is the probability that a Data Scientist in Chennai has a salary less than 4,00,000 INR?\n",
    "z = (400000-mu) / sigma "
   ]
  },
  {
   "cell_type": "code",
   "execution_count": 41,
   "metadata": {},
   "outputs": [
    {
     "name": "stdout",
     "output_type": "stream",
     "text": [
      " c) Probability that a Data Scientist in Chennai has a salary less than 4,00,000 INR is 0.0004\n"
     ]
    }
   ],
   "source": [
    "P = stats.norm.cdf(z)\n",
    "print(' c) Probability that a Data Scientist in Chennai has a salary less than 4,00,000 INR is %1.4f' % P)"
   ]
  },
  {
   "cell_type": "markdown",
   "metadata": {},
   "source": [
    "### Example 7"
   ]
  },
  {
   "cell_type": "markdown",
   "metadata": {},
   "source": [
    "The fill amount in 2-liter soft drink bottles is normally distributed, with a mean of 2.0 liters and a standard deviation of 0.05 liter. If the bottles contain less than 95% of the listed net content (1.90 liters, in our case), the manufacturer may be subject to penalty by the state office of consumer affairs. Bottles that have a net content above 2.1 liters may cause excess spillage upon opening. What is the proportion of bottles that will contain\n",
    "\n",
    "* a) between 1.9 and 2.0 liters\n",
    "* b) between 1.9 and 2.1 liters\n",
    "* c) below 1.9 liters or above 2.1 liters\n",
    "* d) At least how much soft drink is contained in 99% of the bottles?"
   ]
  },
  {
   "cell_type": "code",
   "execution_count": 42,
   "metadata": {
    "collapsed": true
   },
   "outputs": [],
   "source": [
    "mu     = 2\n",
    "sigma  = 0.05"
   ]
  },
  {
   "cell_type": "markdown",
   "metadata": {},
   "source": [
    "#### a. between 1.9 and 2.0 liters"
   ]
  },
  {
   "cell_type": "code",
   "execution_count": 43,
   "metadata": {},
   "outputs": [
    {
     "name": "stdout",
     "output_type": "stream",
     "text": [
      "Z value for 1.90 liters is -2.0000\n"
     ]
    }
   ],
   "source": [
    "x1   = 1.90\n",
    "z1   = (x1 - mu) /  sigma \n",
    "print(\"Z value for 1.90 liters is %3.4f\" % z1)"
   ]
  },
  {
   "cell_type": "code",
   "execution_count": 44,
   "metadata": {},
   "outputs": [
    {
     "name": "stdout",
     "output_type": "stream",
     "text": [
      "Z value for 2 liters is 0.0000\n"
     ]
    }
   ],
   "source": [
    "x2   = 2\n",
    "z2   = (x2 - mu) /  sigma \n",
    "print(\"Z value for 2 liters is %3.4f\" % z2)"
   ]
  },
  {
   "cell_type": "code",
   "execution_count": 45,
   "metadata": {},
   "outputs": [
    {
     "name": "stdout",
     "output_type": "stream",
     "text": [
      "a.  Proportion of bottles between 1.9 and 2 L is 0.4772\n"
     ]
    }
   ],
   "source": [
    "P  = stats.norm.cdf(z2) - stats.norm.cdf(z1)\n",
    "print(\"a.  Proportion of bottles between 1.9 and 2 L is %3.4f\" % P)"
   ]
  },
  {
   "cell_type": "markdown",
   "metadata": {},
   "source": [
    "#### b) between 1.9 and 2.1 liters"
   ]
  },
  {
   "cell_type": "code",
   "execution_count": 46,
   "metadata": {},
   "outputs": [
    {
     "name": "stdout",
     "output_type": "stream",
     "text": [
      "Z value for 2.1 liters is 2.0000\n"
     ]
    }
   ],
   "source": [
    "x3   = 2.1\n",
    "z3   = (x3 - mu) /  sigma\n",
    "print(\"Z value for 2.1 liters is %3.4f\" % z3)"
   ]
  },
  {
   "cell_type": "code",
   "execution_count": 47,
   "metadata": {},
   "outputs": [
    {
     "name": "stdout",
     "output_type": "stream",
     "text": [
      "b. Proportion of bottles between 1.9 and 2.1 L is 0.9545\n"
     ]
    }
   ],
   "source": [
    "P = stats.norm.cdf(z3) - stats.norm.cdf(z1)\n",
    "print(\"b. Proportion of bottles between 1.9 and 2.1 L is %3.4f\" %P)"
   ]
  },
  {
   "cell_type": "markdown",
   "metadata": {},
   "source": [
    "#### c. below 1.9 liters or above 2.1 liters"
   ]
  },
  {
   "cell_type": "code",
   "execution_count": 48,
   "metadata": {},
   "outputs": [
    {
     "name": "stdout",
     "output_type": "stream",
     "text": [
      "c. below 1.9 liters or above 2.1 liters is  0.0455\n"
     ]
    }
   ],
   "source": [
    "P1  =  stats.norm.cdf(z1)\n",
    "P2  =  1 - stats.norm.cdf(z3)\n",
    "print(\"c. below 1.9 liters or above 2.1 liters is  %3.4f\" % (P1 + P2))"
   ]
  },
  {
   "cell_type": "markdown",
   "metadata": {},
   "source": [
    "#### d) At least how much soft drink is contained in 99% of the bottles?"
   ]
  },
  {
   "cell_type": "code",
   "execution_count": 49,
   "metadata": {},
   "outputs": [
    {
     "name": "stdout",
     "output_type": "stream",
     "text": [
      "d. At least how much soft drink is contained in 99 percent of the bottles is  1.8837 Liters\n"
     ]
    }
   ],
   "source": [
    "# Here we need to find the vol\n",
    "P = stats.norm.isf(q = 0.99, loc = mu, scale = sigma)\n",
    "print(\"d. At least how much soft drink is contained in 99 percent of the bottles is  %4.4f Liters\" % P)"
   ]
  },
  {
   "cell_type": "markdown",
   "metadata": {
    "collapsed": true
   },
   "source": [
    "### Practice Exercise 3"
   ]
  },
  {
   "cell_type": "markdown",
   "metadata": {},
   "source": [
    "** The following table contains the overall miles per Gallon (MPG) of 2017 small SUVs ( n =40).**\n",
    "* Decide whether the data appears to be normally distributed by\n",
    "* a. Mean and median "
   ]
  },
  {
   "cell_type": "code",
   "execution_count": 3,
   "metadata": {},
   "outputs": [
    {
     "name": "stdout",
     "output_type": "stream",
     "text": [
      "[19 20 20 20 21 19 21 19 21 20 20 20 19 21 21 22 20 22 20 20 22 20 22 21 19\n",
      " 19 20 20 21 20 19 18 20 21 21 20 21 21 20 21]\n"
     ]
    }
   ],
   "source": [
    "mpg = np.array([19, 20, 20, 20, 21, 19, 21, 19, 21, 20, 20, 20, 19, 21, 21, 22, 20, 22, 20, 20, 22, 20, 22, 21, 19,\n",
    "                             19, 20, 20, 21, 20, 19, 18, 20, 21, 21, 20, 21, 21, 20,  21])\n",
    "print(mpg)"
   ]
  },
  {
   "cell_type": "markdown",
   "metadata": {},
   "source": [
    "Hint: Use np.median(mpg) to calculate median and mpg.mean() to calculate mean"
   ]
  },
  {
   "cell_type": "code",
   "execution_count": 51,
   "metadata": {},
   "outputs": [
    {
     "data": {
      "image/png": "[encoded data removed]",
      "text/plain": [
       "<matplotlib.figure.Figure at 0x20bdf21b898>"
      ]
     },
     "metadata": {},
     "output_type": "display_data"
    }
   ],
   "source": [
    "fig, ax = plt.subplots()\n",
    "pd.DataFrame(mpg).plot.kde(ax=ax, legend=False)\n",
    "pd.DataFrame(mpg).plot.hist(density=True, ax=ax)\n",
    "plt.show()"
   ]
  },
  {
   "cell_type": "markdown",
   "metadata": {},
   "source": [
    "* b. From the above plot, do you think the data is normally distributed?"
   ]
  },
  {
   "cell_type": "markdown",
   "metadata": {},
   "source": [
    "|     |     |     |    | \n",
    "| --- | --- | --- | -- |\n",
    "| 19  | 20  | 20  | 20 |\n",
    "| 21  | 19  | 21  | 19 |\n",
    "| 21  | 20  | 20  | 20 |\n",
    "| 19  | 21  | 21  | 22 |\n",
    "| 20  | 22  | 20  | 20 |\n",
    "| 22  | 20  | 22  | 21 |\n",
    "| 19  | 19  | 20  | 20 |  \n",
    "| 21  | 20  | 19  | 18 | \n",
    "| 20  | 21  | 21  | 20 | \n",
    "| 21  | 21  | 20  | 21|\n"
   ]
  },
  {
   "cell_type": "markdown",
   "metadata": {},
   "source": [
    "### Practice Exercise 4"
   ]
  },
  {
   "cell_type": "markdown",
   "metadata": {},
   "source": [
    "**The mean weight of a morning breakfast cereal pack is 0.295 kg with a standard deviation of 0.025 kg. The random variable weight of the pack follows a normal distribution. **\n",
    "\n",
    "* a. What is the probability that the pack weighs less than 0.280 kg?\n",
    "* b. What is the probability that the pack weighs more than 0.350 kg? \n",
    "* c. What is the probability that the pack weighs between 0.260 kg to 0.340 kg? "
   ]
  },
  {
   "cell_type": "markdown",
   "metadata": {},
   "source": [
    "### Take home exercises"
   ]
  },
  {
   "cell_type": "markdown",
   "metadata": {},
   "source": [
    "**1. If X is a random variable that follows normal distribution, then 5X + 40 is a**\n",
    "* a. Chi-square distribution\n",
    "* b. Poisson distribution\n",
    "* c. Binomial distribution\n",
    "* d. Normal distribution"
   ]
  },
  {
   "cell_type": "markdown",
   "metadata": {},
   "source": [
    "**2. The number of warranty claims received at an Electronic equipment manufacturer follows a Poisson distribution with a rate of 10 per day. ** \n",
    "Calculate the following:\n",
    "* a. The probability that the warranty claims is below 5 on a given day.\n",
    "* b. The probability that the warranty claims will exceed 10 on a given day."
   ]
  },
  {
   "cell_type": "markdown",
   "metadata": {},
   "source": [
    "**3. Refer to example 7. What is the proportion of bottles that will contain**\n",
    "* a) below 1.96 liters or above 2.2 liters\n",
    "* b) At least how much soft drink is contained in 90% of the bottles?"
   ]
  },
  {
   "cell_type": "markdown",
   "metadata": {},
   "source": [
    "### END"
   ]
  }
 ],
 "metadata": {
  "kernelspec": {
   "display_name": "Python 3",
   "language": "python",
   "name": "python3"
  },
  "language_info": {
   "codemirror_mode": {
    "name": "ipython",
    "version": 3
   },
   "file_extension": ".py",
   "mimetype": "text/x-python",
   "name": "python",
   "nbconvert_exporter": "python",
   "pygments_lexer": "ipython3",
   "version": "3.7.0"
  }
 },
 "nbformat": 4,
 "nbformat_minor": 2
}
