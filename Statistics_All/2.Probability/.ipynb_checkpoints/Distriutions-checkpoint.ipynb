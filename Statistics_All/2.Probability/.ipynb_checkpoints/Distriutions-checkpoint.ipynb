{
 "cells": [
  {
   "cell_type": "code",
   "execution_count": null,
   "metadata": {
    "collapsed": true
   },
   "outputs": [],
   "source": [
    "##"
   ]
  },
  {
   "cell_type": "markdown",
   "metadata": {
    "collapsed": true
   },
   "source": [
    "## Bayes theorem"
   ]
  },
  {
   "cell_type": "markdown",
   "metadata": {},
   "source": [
    "Bayes' Theorem is used to revise previously calcualted probabilities based on new information"
   ]
  },
  {
   "cell_type": "markdown",
   "metadata": {},
   "source": [
    "$P(B_{i}\\mid A)$ = $\\frac{P(A \\mid B_{i}) P(B_{i})}{P(A \\mid B_{1})P(B_{1}) + P(A \\mid B_{2}) P(B_{2}) + P(A \\mid B_{3}) P(B_{3}) + .. + P(A \\mid B_{k}) P(B_{k})}$\n",
    "\n",
    "where \n",
    "$B_{i}$ is the ith event of k mutually exclusive and collectively exhaustive events\n",
    "A is the new event that might impact P($B_{i}$)"
   ]
  },
  {
   "cell_type": "markdown",
   "metadata": {},
   "source": [
    "### Example "
   ]
  },
  {
   "cell_type": "markdown",
   "metadata": {},
   "source": [
    "A certain Electronic equipment is manufactured by three companies, X, Y and Z. \n",
    "* 75% are manufactured by X\n",
    "* 15% are manufactured by Y\n",
    "* 10% are manufactured by Z\n",
    "\n",
    "The defect rates of electronic equipement manufactured by companies X, Y and Z are 4%, 6% and 8%.\n",
    "\n",
    "If an electronic equipment is randomly found to be defective, what is the probability that it is manufactured by X?"
   ]
  },
  {
   "cell_type": "markdown",
   "metadata": {},
   "source": [
    "* Let P(X),P(Y) and P(Z) be probabilities of the electronic equipment manufactured by companies X, Y and Z respectively. \n",
    "* Let P(D) be the probability of defective electronic equipment.\n",
    "\n",
    "We are interested in calculating the probability P(X|D).\n",
    "\n",
    "P(X|D) = $\\frac{P(D | X) P(X)} {P(D)}$\n"
   ]
  },
  {
   "cell_type": "markdown",
   "metadata": {},
   "source": [
    "Bayes' rule in our case is given below:\n",
    "\n",
    "$P(X \\mid D)$ = $\\frac{P(D \\mid X) P(X)} {P(D \\mid X)P(D) + P(D \\mid Y) P(D) + P(D \\mid Z) P(D)}$\n"
   ]
  },
  {
   "cell_type": "code",
   "execution_count": 15,
   "metadata": {},
   "outputs": [
    {
     "name": "stdout",
     "output_type": "stream",
     "text": [
      "P(X|D)  is 0.6383\n"
     ]
    }
   ],
   "source": [
    "# Let P1 = P(D|X)\n",
    "# Let P2 = P(X)\n",
    "# Let P3 = P(D∣X)P(D)+P(D∣Y)P(D)+P(D∣Z)P(D)\n",
    "# Let P  = P(X|D) = (P1 * P2) / P3\n",
    "\n",
    "P1       =  0.04 # prob. of defective item manufactured by X\n",
    "P2       =  0.75\n",
    "P3       =  0.75 * 0.04 + 0.15 * 0.06 + 0.10 * 0.08 \n",
    "P        =  round((P1 * P2)/P3,4)\n",
    "print('P(X|D)  is %1.4f' % P)              "
   ]
  },
  {
   "cell_type": "markdown",
   "metadata": {},
   "source": [
    "## Distributions"
   ]
  },
  {
   "cell_type": "markdown",
   "metadata": {},
   "source": [
    "## Binomial and normal distribution"
   ]
  },
  {
   "cell_type": "markdown",
   "metadata": {},
   "source": [
    "* It is widely used probability distribution of a discrete random variable. \n",
    "* Plays major role in quality control and quality assurance function. "
   ]
  },
  {
   "cell_type": "markdown",
   "metadata": {},
   "source": [
    "$P(X = x\\mid n,\\pi)$ = $\\frac{n!}{x!(n - x)!}\\pi^x (1 - \\pi)^{n-x} $\n",
    "* where P(X = x) is the probability of getting x successes in n trials\n",
    "and $\\pi$ is the probability of an event of interest"
   ]
  },
  {
   "cell_type": "markdown",
   "metadata": {},
   "source": [
    "### Some important functions in Python for Binomial distribution:\n",
    "\n",
    "#### 1) Probability mass function\n",
    "\n",
    "##### scipy.stats.binom.pmf gives the probability mass function for the binomial distribution\n",
    "\n",
    "binomial = scipy.stats.binom.pmf (k,n,p), \n",
    "* where k is an array and takes values in {0, 1,..., n}\n",
    "* n and p are shape parameters for the binomial distribution\n",
    "\n",
    "The output, binomial, gives probability of binomial distribution function in terms of array.\n",
    "\n",
    "#### 2) Cumulative Density function\n",
    "\n",
    "cumbinomial = scipy.stats.binom.cdf(k,n,p) gives cumulative binomial distribution.\n",
    "\n",
    "The output, cumbinomial, gives cumulative probability of binomial distribution function in terms of array."
   ]
  },
  {
   "cell_type": "markdown",
   "metadata": {},
   "source": [
    "####  3)  Plot the binomial Density function\n",
    "\n",
    "The function, matplotlib.pyplot.plot(k, binomial, ‘o-’) gives us plot of the binomial distribution function."
   ]
  },
  {
   "cell_type": "markdown",
   "metadata": {},
   "source": [
    "### Example 1"
   ]
  },
  {
   "cell_type": "markdown",
   "metadata": {},
   "source": [
    "A LED bulb manufacturing company regularly conducts quality checks at specified periods on the products it manufactures.\n",
    "Historically, the failure rate for LED light bulbs that the company manufactures is 5%. Suppose a random sample of 10 LED light bulbs is selected.\n",
    "What is the probability that \n",
    "* a) None of the LED bulbs are defective?\n",
    "* b) Exactly one of the LED bulbs is defective?\n",
    "* c) Two or fewer of the LED bulbs are defective?\n",
    "* d) Three or more of the LED bulbs are defective"
   ]
  },
  {
   "cell_type": "code",
   "execution_count": 1,
   "metadata": {},
   "outputs": [],
   "source": [
    "import numpy             as np\n",
    "import pandas            as pd\n",
    "import scipy.stats       as stats\n",
    "import matplotlib.pyplot as plt"
   ]
  },
  {
   "cell_type": "code",
   "execution_count": 12,
   "metadata": {},
   "outputs": [
    {
     "name": "stdout",
     "output_type": "stream",
     "text": [
      "[ 0  1  2  3  4  5  6  7  8  9 10]\n"
     ]
    }
   ],
   "source": [
    "p   =  0.05 # failure rate for LED light bulbs that the company manufactures is 5%\n",
    "n   =  10 # sample size\n",
    "k   =  np.arange(0,11) # An array of quantiles\n",
    "print(k)"
   ]
  },
  {
   "cell_type": "code",
   "execution_count": 3,
   "metadata": {},
   "outputs": [],
   "source": [
    "binomial = stats.binom.pmf(k,n,p)"
   ]
  },
  {
   "cell_type": "code",
   "execution_count": 4,
   "metadata": {
    "scrolled": true
   },
   "outputs": [
    {
     "name": "stdout",
     "output_type": "stream",
     "text": [
      "[5.98736939e-01 3.15124705e-01 7.46347985e-02 1.04750594e-02\n",
      " 9.64808106e-04 6.09352488e-05 2.67259863e-06 8.03789063e-08\n",
      " 1.58642578e-09 1.85546875e-11 9.76562500e-14]\n"
     ]
    }
   ],
   "source": [
    "print(binomial)"
   ]
  },
  {
   "cell_type": "code",
   "execution_count": 5,
   "metadata": {},
   "outputs": [
    {
     "name": "stdout",
     "output_type": "stream",
     "text": [
      "a) None of the LED bulbs are defective? is 0.5987\n"
     ]
    }
   ],
   "source": [
    "print('a) None of the LED bulbs are defective? is %1.4f' %binomial[0])"
   ]
  },
  {
   "cell_type": "code",
   "execution_count": 6,
   "metadata": {},
   "outputs": [
    {
     "name": "stdout",
     "output_type": "stream",
     "text": [
      "b) Exactly one of the LED bulbs is defective? is 0.3151\n"
     ]
    }
   ],
   "source": [
    "print('b) Exactly one of the LED bulbs is defective? is %1.4f' %binomial[1])"
   ]
  },
  {
   "cell_type": "markdown",
   "metadata": {},
   "source": [
    "To answer the question c) Two or fewer of the LED bulbs are defective?\n",
    "we need to calculate cumulative probability of Upto Two LED bulbs being defective"
   ]
  },
  {
   "cell_type": "code",
   "execution_count": 8,
   "metadata": {},
   "outputs": [],
   "source": [
    "cumbinomial = stats.binom.cdf(k,n,p)"
   ]
  },
  {
   "cell_type": "code",
   "execution_count": 9,
   "metadata": {},
   "outputs": [
    {
     "name": "stdout",
     "output_type": "stream",
     "text": [
      "[0.59873694 0.91386164 0.98849644 0.9989715  0.99993631 0.99999725\n",
      " 0.99999992 1.         1.         1.         1.        ]\n"
     ]
    }
   ],
   "source": [
    "print(cumbinomial)"
   ]
  },
  {
   "cell_type": "code",
   "execution_count": 10,
   "metadata": {},
   "outputs": [
    {
     "name": "stdout",
     "output_type": "stream",
     "text": [
      "c) Two or fewer of the LED bulbs are defective? is 0.9885\n"
     ]
    }
   ],
   "source": [
    "print('c) Two or fewer of the LED bulbs are defective? is %1.4f' %cumbinomial[2])"
   ]
  },
  {
   "cell_type": "markdown",
   "metadata": {},
   "source": [
    "#### To answer the question d) Three or more of the LED bulbs are defective, we need to subtract cumulative Probability upto 2 defective LED bulbs from 1."
   ]
  },
  {
   "cell_type": "code",
   "execution_count": 11,
   "metadata": {},
   "outputs": [
    {
     "name": "stdout",
     "output_type": "stream",
     "text": [
      "d) Three or more of the LED bulbs are defective is 0.0115\n"
     ]
    }
   ],
   "source": [
    "P = 1- cumbinomial[2]\n",
    "print('d) Three or more of the LED bulbs are defective is %1.4f' % P)"
   ]
  },
  {
   "cell_type": "markdown",
   "metadata": {},
   "source": [
    "### Plot the binomial distribution function"
   ]
  },
  {
   "cell_type": "code",
   "execution_count": 15,
   "metadata": {},
   "outputs": [
    {
     "data": {
      "image/png": "[encoded data removed]",
      "text/plain": [
       "<Figure size 432x288 with 1 Axes>"
      ]
     },
     "metadata": {
      "needs_background": "light"
     },
     "output_type": "display_data"
    }
   ],
   "source": [
    "plt.plot(k,binomial, 'o-')\n",
    "plt.title('Binomial')\n",
    "plt.xlabel('Number of Def LED bulbs')\n",
    "plt.ylabel('Prob of Defective LED bulbs')\n",
    "plt.show()"
   ]
  },
  {
   "cell_type": "markdown",
   "metadata": {},
   "source": [
    "### Example 2"
   ]
  },
  {
   "cell_type": "markdown",
   "metadata": {},
   "source": [
    "The percentage of orders filled correctly at Wendy's was approximately 86.8%. Suppose that you go to drive-through window at Wendy's and place an order. Two friends of yours independently place orders at the drive-through window at the same Wendy's.\n",
    "\n",
    "What are the probabilities that \n",
    "* a) all three \n",
    "* b) none of the three\n",
    "* c) atleast two of the three orders will be filled correctly?\n",
    "* d) what is the mean and standard deviation of the orders filled correctly?"
   ]
  },
  {
   "cell_type": "code",
   "execution_count": 12,
   "metadata": {
    "collapsed": true
   },
   "outputs": [],
   "source": [
    "p   =  0.868 # percentage of orders filled correctly at Wendy's was approximately 86.8%\n",
    "n   =  3\n",
    "k   =  np.arange(0,4)"
   ]
  },
  {
   "cell_type": "code",
   "execution_count": 13,
   "metadata": {
    "collapsed": true
   },
   "outputs": [],
   "source": [
    "binomial = stats.binom.pmf(k,n,p)"
   ]
  },
  {
   "cell_type": "code",
   "execution_count": 14,
   "metadata": {},
   "outputs": [
    {
     "name": "stdout",
     "output_type": "stream",
     "text": [
      "[ 0.00229997  0.0453721   0.2983559   0.65397203]\n"
     ]
    }
   ],
   "source": [
    "print(binomial)"
   ]
  },
  {
   "cell_type": "code",
   "execution_count": 15,
   "metadata": {},
   "outputs": [
    {
     "name": "stdout",
     "output_type": "stream",
     "text": [
      "a) all the three orders are filled correctly? is 0.6540\n"
     ]
    }
   ],
   "source": [
    "print('a) all the three orders are filled correctly? is %1.4f' %binomial[3])"
   ]
  },
  {
   "cell_type": "code",
   "execution_count": 16,
   "metadata": {},
   "outputs": [
    {
     "name": "stdout",
     "output_type": "stream",
     "text": [
      "b) none of the three orders are filled correctly? is 0.0023\n"
     ]
    }
   ],
   "source": [
    "print('b) none of the three orders are filled correctly? is %1.4f' %binomial[0])"
   ]
  },
  {
   "cell_type": "markdown",
   "metadata": {},
   "source": [
    "To answer this question c) atleast two of the three orders are filled correctly, \n",
    "we need to find out 1 - Probability of upto 1 failure"
   ]
  },
  {
   "cell_type": "code",
   "execution_count": 17,
   "metadata": {
    "collapsed": true
   },
   "outputs": [],
   "source": [
    "cumbinomial = stats.binom.cdf(k,n,p)"
   ]
  },
  {
   "cell_type": "code",
   "execution_count": 18,
   "metadata": {},
   "outputs": [
    {
     "name": "stdout",
     "output_type": "stream",
     "text": [
      "[ 0.00229997  0.04767206  0.34602797  1.        ]\n"
     ]
    }
   ],
   "source": [
    "print(cumbinomial)"
   ]
  },
  {
   "cell_type": "code",
   "execution_count": 19,
   "metadata": {},
   "outputs": [
    {
     "name": "stdout",
     "output_type": "stream",
     "text": [
      "c) atleast two of the three orders are filled correctly? is 0.9523\n"
     ]
    }
   ],
   "source": [
    "P = 1 - cumbinomial[1]\n",
    "print('c) atleast two of the three orders are filled correctly? is %1.4f' % P)"
   ]
  },
  {
   "cell_type": "code",
   "execution_count": 20,
   "metadata": {},
   "outputs": [
    {
     "name": "stdout",
     "output_type": "stream",
     "text": [
      "mean and standard deviation of the orders filled correctly are 2.6040 and  0.5863 respectively\n"
     ]
    }
   ],
   "source": [
    "# d) what is the mean and standard deviation of the orders filled correctly?\n",
    "p    = 0.868\n",
    "n    = 3\n",
    "mean = n* p # = 3 * 0.868\n",
    "sd   = np.sqrt(n * p * (1 - p))\n",
    "print('mean and standard deviation of the orders filled correctly are %1.4f and  %1.4f respectively' % (mean, sd))"
   ]
  },
  {
   "cell_type": "markdown",
   "metadata": {},
   "source": [
    "### Plot  the binomial distribution function"
   ]
  },
  {
   "cell_type": "code",
   "execution_count": 21,
   "metadata": {},
   "outputs": [
    {
     "data": {
      "image/png": "[encoded data removed]",
      "text/plain": [
       "<matplotlib.figure.Figure at 0x20bde01b898>"
      ]
     },
     "metadata": {},
     "output_type": "display_data"
    }
   ],
   "source": [
    "plt.plot(k,binomial, 'o-')\n",
    "plt.title('Binomial')\n",
    "plt.xlabel('Number of Orders filled correctly')\n",
    "plt.ylabel('Prob of Orders filled correctly')\n",
    "plt.show()"
   ]
  },
  {
   "cell_type": "markdown",
   "metadata": {},
   "source": [
    "### Practice Exercise 1"
   ]
  },
  {
   "cell_type": "markdown",
   "metadata": {},
   "source": [
    "** You and your two friends go to Pizza Hut which recently filled approximately 88.3% of the orders correctly.\n",
    "What is the probability that**"
   ]
  },
  {
   "cell_type": "markdown",
   "metadata": {},
   "source": [
    "* a. all three orders will be filled correctly?\n",
    "* b. none of orders will be filled correctly?\n",
    "* c. at least two of three orders will be filled correctly?\n",
    "* d. What are the mean and standard deviation of the orders filled correctly?\n",
    "\n",
    "**Hint:** \n",
    "Mean and standard deviation of binomial distribution:\n",
    "* $\\mu     = n\\pi$ \n",
    "* $\\sigma  = \\sqrt{n\\pi(1-\\pi)}$ \n",
    "where n is the size of the sample and $\\pi$ is the probability of the event of interest"
   ]
  },
  {
   "cell_type": "markdown",
   "metadata": {},
   "source": [
    "### Poisson Distribution"
   ]
  },
  {
   "cell_type": "markdown",
   "metadata": {},
   "source": [
    "* This discrete distribution which also plays a major role in quality control. \n",
    "* The Poisson distribution is a discrete probability distribution for the counts of events that occur randomly in a given interval of time or space. In such areas of opportunity, there can be more than one occurrence. In such situations, Poisson distribution can be used to compute probabilities.\n",
    "* Examples include number of defects per item, number of defects per transformer produced. \n",
    "* Notes: Poisson Distribution helps to predict the arrival rate in a waiting line situation where a queue is formed and people wait to be served and the service rate is generally higher than the arrival rate.\n"
   ]
  },
  {
   "cell_type": "markdown",
   "metadata": {},
   "source": [
    "### Properties:\n",
    "* Mean                     μ  = λ\n",
    "* Standard deviation       σ  = √ μ\n",
    "* The Poisson distribution is the limit of binomial distribution as n approaches ∞and p approaches 0\n"
   ]
  },
  {
   "cell_type": "markdown",
   "metadata": {},
   "source": [
    "P(X = x) = $\\frac{e^\\lambda \\lambda^x}{x!} $\n",
    "where \n",
    "* P(x)              = Probability of x successes given an idea of  $\\lambda$\n",
    "* $\\lambda$ = Average number of successes\n",
    "* e                   = 2.71828 (based on natural logarithm)\n",
    "* x                    = successes per unit which can take values 0,1,2,3,... $\\infty$"
   ]
  },
  {
   "cell_type": "markdown",
   "metadata": {},
   "source": [
    "### Applications\n",
    "\n",
    "1. Car Accidents\n",
    "2. Number of deaths by horse kicking in Prussian Army (first application)\n",
    "3. Birth defects and genetic mutation\n",
    "\n",
    "### Note\n",
    "\n",
    "* If there is a fixed number of observations, n, each of which is classified as an event of interest or not an event of interest, use the binomial distribution.\n",
    "* If there is an area of opportunity, use the Poisson distribution.\n",
    "\n"
   ]
  },
  {
   "cell_type": "markdown",
   "metadata": {},
   "source": [
    "### Some important functions in Python for solving Poisson distribution problems\n",
    "\n",
    "#### 1) Probability Mass Function\n",
    "\n",
    "poisson =  scipy.stats.poisson.pmf(n, rate) where n is where n is an array like quantiles and rate is the mean \n",
    "It gives poisson distribution result in the form of an array.\n",
    "\n",
    "#### 2) Cumulative Density Function\n",
    "\n",
    "poisson =  scipy.stats.poisson.cdf(n,rate) where n is where n is an array like quantiles and rate is the mean \n",
    "It gives cumulative density function result in the form of an array.\n"
   ]
  },
  {
   "cell_type": "markdown",
   "metadata": {},
   "source": [
    "### Example 3"
   ]
  },
  {
   "cell_type": "markdown",
   "metadata": {},
   "source": [
    "The number of work-related injuries per month in a manufacturing plant is known to follow a Poisson distribution, with a mean  of 2.5 work-related injuries a month. What is the probability that in a given month, \n",
    "a) No work related injuries occur? \n",
    "b) At least one work-related injury occurs?"
   ]
  },
  {
   "cell_type": "markdown",
   "metadata": {},
   "source": [
    "Here, \n",
    "$\\lambda$ = 2.5 injuries"
   ]
  },
  {
   "cell_type": "code",
   "execution_count": 22,
   "metadata": {
    "collapsed": true
   },
   "outputs": [],
   "source": [
    "rate =  2.5 # which is the mean\n",
    "n    =  np.arange(0,20)\n",
    "poisson = stats.poisson.pmf(n,rate)"
   ]
  },
  {
   "cell_type": "code",
   "execution_count": 23,
   "metadata": {},
   "outputs": [
    {
     "data": {
      "text/plain": [
       "array([  8.20849986e-02,   2.05212497e-01,   2.56515621e-01,\n",
       "         2.13763017e-01,   1.33601886e-01,   6.68009429e-02,\n",
       "         2.78337262e-02,   9.94061650e-03,   3.10644266e-03,\n",
       "         8.62900738e-04,   2.15725184e-04,   4.90284510e-05,\n",
       "         1.02142606e-05,   1.96428089e-06,   3.50764445e-07,\n",
       "         5.84607408e-08,   9.13449075e-09,   1.34330746e-09,\n",
       "         1.86570481e-10,   2.45487475e-11])"
      ]
     },
     "execution_count": 23,
     "metadata": {},
     "output_type": "execute_result"
    }
   ],
   "source": [
    "poisson"
   ]
  },
  {
   "cell_type": "code",
   "execution_count": 24,
   "metadata": {},
   "outputs": [
    {
     "name": "stdout",
     "output_type": "stream",
     "text": [
      " a) Probability that No work related injuries occur is 0.0821\n"
     ]
    }
   ],
   "source": [
    "print(' a) Probability that No work related injuries occur is %1.4f' % poisson[0])"
   ]
  },
  {
   "cell_type": "markdown",
   "metadata": {},
   "source": [
    "To calculate the probability that at least one work-related injury occurs, we need to subtract probability of no work related injury from 1."
   ]
  },
  {
   "cell_type": "code",
   "execution_count": 25,
   "metadata": {},
   "outputs": [
    {
     "name": "stdout",
     "output_type": "stream",
     "text": [
      " b) Probability that that at least one work-related injury occurs is 0.9179\n"
     ]
    }
   ],
   "source": [
    "# P = probability that at least one work-related injury occurs\n",
    "P   = 1 - poisson[0]\n",
    "print(' b) Probability that that at least one work-related injury occurs is %1.4f' % P)"
   ]
  },
  {
   "cell_type": "markdown",
   "metadata": {},
   "source": [
    "### Plot the Poisson distribution function¶"
   ]
  },
  {
   "cell_type": "code",
   "execution_count": 26,
   "metadata": {},
   "outputs": [
    {
     "data": {
      "image/png": "[encoded data removed]",
      "text/plain": [
       "<matplotlib.figure.Figure at 0x20bdf13bb70>"
      ]
     },
     "metadata": {},
     "output_type": "display_data"
    }
   ],
   "source": [
    "plt.plot(n,poisson, 'o-')\n",
    "plt.title('Poisson')\n",
    "plt.xlabel('Number of Work related injuries')\n",
    "plt.ylabel('Prob of Work related injuries')\n",
    "plt.show()"
   ]
  },
  {
   "cell_type": "markdown",
   "metadata": {},
   "source": [
    "### Example 4"
   ]
  },
  {
   "cell_type": "markdown",
   "metadata": {},
   "source": [
    "A Life Insurance agent sells on the average 3 life insurance policies per week. \n",
    "Use the Poisson law to calculate the probability that in a given week, he will sell\n",
    "a. Some policies\n",
    "b. 2 or more but less than 5 policies?"
   ]
  },
  {
   "cell_type": "markdown",
   "metadata": {},
   "source": [
    "Here $\\lambda$ = 3"
   ]
  },
  {
   "cell_type": "code",
   "execution_count": 27,
   "metadata": {
    "collapsed": true
   },
   "outputs": [],
   "source": [
    "rate =  3 # which is the mean\n",
    "n    =  np.arange(0,16)\n",
    "cumpoisson = stats.poisson.cdf(n,rate)"
   ]
  },
  {
   "cell_type": "code",
   "execution_count": 28,
   "metadata": {},
   "outputs": [
    {
     "data": {
      "text/plain": [
       "array([ 0.04978707,  0.19914827,  0.42319008,  0.64723189,  0.81526324,\n",
       "        0.91608206,  0.96649146,  0.9880955 ,  0.99619701,  0.99889751,\n",
       "        0.99970766,  0.99992861,  0.99998385,  0.9999966 ,  0.99999933,\n",
       "        0.99999988])"
      ]
     },
     "execution_count": 28,
     "metadata": {},
     "output_type": "execute_result"
    }
   ],
   "source": [
    "cumpoisson"
   ]
  },
  {
   "cell_type": "code",
   "execution_count": 29,
   "metadata": {},
   "outputs": [
    {
     "name": "stdout",
     "output_type": "stream",
     "text": [
      " a) Probability that the agent sells some policies is 0.9502\n"
     ]
    }
   ],
   "source": [
    "# P = probability that the agent sells some policies\n",
    "P   = 1 - cumpoisson[0]\n",
    "print(' a) Probability that the agent sells some policies is %1.4f' % P)"
   ]
  },
  {
   "cell_type": "markdown",
   "metadata": {},
   "source": [
    " b. Agent sells 2 or more but less than 5 policies "
   ]
  },
  {
   "cell_type": "code",
   "execution_count": 30,
   "metadata": {},
   "outputs": [
    {
     "name": "stdout",
     "output_type": "stream",
     "text": [
      " b) Probability that the agent sells between 2 and 5 policies is 0.6161\n"
     ]
    }
   ],
   "source": [
    "# Let P1 be the probability that the agent sells more than 4 policies\n",
    "P1 = cumpoisson[4] # P(X >=4)\n",
    "# Let P2 be the probability that the agent sells more than 1 policy\n",
    "P2 = cumpoisson[1] # P(X >=1)\n",
    "P = P1 - P2 # Prob. that the agent will sell between 2 and 5 policies\n",
    "print(' b) Probability that the agent sells between 2 and 5 policies is %1.4f' % P)"
   ]
  },
  {
   "cell_type": "markdown",
   "metadata": {},
   "source": [
    "### Plot the Poisson distribution function"
   ]
  },
  {
   "cell_type": "code",
   "execution_count": 31,
   "metadata": {
    "scrolled": true
   },
   "outputs": [
    {
     "data": {
      "image/png": "[encoded data removed]",
      "text/plain": [
       "<matplotlib.figure.Figure at 0x20bdf1ae470>"
      ]
     },
     "metadata": {},
     "output_type": "display_data"
    }
   ],
   "source": [
    "poisson = stats.poisson.pmf(n,rate)\n",
    "plt.plot(n,poisson, 'o-')\n",
    "plt.title('Poisson')\n",
    "plt.xlabel('Number of Policies sold per week')\n",
    "plt.ylabel('Cumulative Prob of Policies sold per week')\n",
    "plt.show()"
   ]
  },
  {
   "cell_type": "markdown",
   "metadata": {},
   "source": [
    "### Practice Exercise 2"
   ]
  },
  {
   "cell_type": "markdown",
   "metadata": {},
   "source": [
    "** Refer to Example 4. What is the probability that the Agent will sell**\n",
    "* a. At least 4 policies\n",
    "* b. Exactly 4 policies"
   ]
  },
  {
   "cell_type": "markdown",
   "metadata": {},
   "source": [
    "# ## Uniform distribution\n"
   ]
  },
  {
   "cell_type": "markdown",
   "metadata": {},
   "source": [
    "Perhaps one of the simplest and useful distribution is the uniform distribution. The probability distribution function of the continuous uniform distribution is:\n",
    "Since any interval of numbers of equal width has an equal probability of being observed, the curve describing the distribution is a rectangle, with constant height across the interval and 0 height elsewhere. Since the area under the curve must be equal to 1, the length of the interval determines the height of the curve. The following figure shows a uniform distribution in interval (a,b). Notice since the area needs to be 1. The height is set to 1/(b−a)."
   ]
  },
  {
   "attachments": {
    "image.png": {
     "image/png": "[encoded data removed]"
    }
   },
   "cell_type": "markdown",
   "metadata": {},
   "source": [
    "![image.png](attachment:image.png)"
   ]
  },
  {
   "attachments": {
    "image.png": {
     "image/png": "[encoded data removed]"
    }
   },
   "cell_type": "markdown",
   "metadata": {},
   "source": [
    "![image.png](attachment:image.png)"
   ]
  },
  {
   "cell_type": "code",
   "execution_count": 16,
   "metadata": {},
   "outputs": [],
   "source": [
    "# import uniform distribution\n",
    "from scipy.stats import uniform"
   ]
  },
  {
   "cell_type": "code",
   "execution_count": 17,
   "metadata": {},
   "outputs": [],
   "source": [
    "# random numbers from uniform distribution\n",
    "n = 10000\n",
    "start = 10 # a\n",
    "width = 20 # b \n",
    "data_uniform = uniform.rvs(size=n, loc = start, scale=width)"
   ]
  },
  {
   "cell_type": "code",
   "execution_count": 19,
   "metadata": {},
   "outputs": [],
   "source": [
    "# import seaborn\n",
    "import seaborn as sns\n",
    "# settings for seaborn plotting style\n",
    "sns.set(color_codes=True)\n",
    "# settings for seaborn plot sizes\n",
    "sns.set(rc={'figure.figsize':(5,5)})"
   ]
  },
  {
   "cell_type": "code",
   "execution_count": 20,
   "metadata": {},
   "outputs": [
    {
     "name": "stderr",
     "output_type": "stream",
     "text": [
      "C:\\Users\\Admin\\Anaconda3\\lib\\site-packages\\scipy\\stats\\stats.py:1713: FutureWarning: Using a non-tuple sequence for multidimensional indexing is deprecated; use `arr[tuple(seq)]` instead of `arr[seq]`. In the future this will be interpreted as an array index, `arr[np.array(seq)]`, which will result either in an error or a different result.\n",
      "  return np.add.reduce(sorted[indexer] * weights, axis=axis) / sumval\n"
     ]
    },
    {
     "data": {
      "text/plain": [
       "[Text(0,0.5,'Frequency'), Text(0.5,0,'Uniform Distribution ')]"
      ]
     },
     "execution_count": 20,
     "metadata": {},
     "output_type": "execute_result"
    },
    {
     "data": {
      "image/png": "[encoded data removed]",
      "text/plain": [
       "<Figure size 360x360 with 1 Axes>"
      ]
     },
     "metadata": {},
     "output_type": "display_data"
    }
   ],
   "source": [
    "ax = sns.distplot(data_uniform,\n",
    "                  bins=100,\n",
    "                  kde=True,\n",
    "                  color='skyblue',\n",
    "                  hist_kws={\"linewidth\": 15,'alpha':1})\n",
    "ax.set(xlabel='Uniform Distribution ', ylabel='Frequency')"
   ]
  },
  {
   "cell_type": "markdown",
   "metadata": {},
   "source": [
    "### Normal Distribution"
   ]
  },
  {
   "cell_type": "markdown",
   "metadata": {},
   "source": [
    "* One of the most popular continuous distribution in Analytics field.\n",
    "* Normal distribution is observed across many naturally occurring measures such as birth weight, height and intelligence etc"
   ]
  },
  {
   "cell_type": "markdown",
   "metadata": {},
   "source": [
    "#### Probability Density Function"
   ]
  },
  {
   "cell_type": "markdown",
   "metadata": {},
   "source": [
    "f(x) = $\\frac {1}{\\sigma\\sqrt(2 \\pi)} e^\\frac {-(x-\\mu^2)}{2\\sigma^2}$"
   ]
  },
  {
   "cell_type": "markdown",
   "metadata": {},
   "source": [
    "Where\n",
    "* f(x) is used to represent a probability density function\n",
    "* x is any value of the continuous variable, where -∞ < x < ∞\n",
    "* e denotes the mathematical constant approximated by 2.71828\n",
    "* Π is a mathematical constant approximated by 3.14159\n",
    "* μ and σ are the mean and standard deviation of the normal distribution\n"
   ]
  },
  {
   "cell_type": "markdown",
   "metadata": {},
   "source": [
    "For a continuous function, the probability density function is the probability that the value has the value x. \n",
    "Since for continuous distributions the probability at a single point is zero, this is expressed in terms of an integral of its probability density function\n",
    "P(X<= x) = F(x) = \n",
    "$\\int_{-\\infty}^xf(t)dt$\n"
   ]
  },
  {
   "cell_type": "markdown",
   "metadata": {},
   "source": [
    "Standardize normal variable\n",
    "Compute Z by subtracting the mean, mu from a normally distributed variable, divide by the standard deviation, sigma.\n",
    "Z = (X - μ) / σ \n",
    "Z is in standard units. \n",
    "Z ~ N(0,1) and the variable, Z always has mean 0 and standard deviation 1"
   ]
  },
  {
   "cell_type": "markdown",
   "metadata": {},
   "source": [
    "Its pdf is given by\n",
    "\n",
    "fZ(z) = $\\frac{1}{ √2Π} {exp \\frac {-z2} {2}}$\n",
    "\n",
    "for all z $\\in R$\n",
    "\n",
    "The (1 / √2Π ) is there to make sure that the area under the PDF is 1."
   ]
  },
  {
   "cell_type": "markdown",
   "metadata": {},
   "source": [
    "* For a normal distribution, mu is the location parameter, which locates (centre) the distribution on the horizontal axis.\n",
    "* Sigma is the scale parameter, which defines the spread of the normal distribution.\n",
    "* Normal distribution has no shape parameter since all the normal distribution curves have bell shape and are symmetrical. \n"
   ]
  },
  {
   "cell_type": "markdown",
   "metadata": {},
   "source": [
    "### Properties\n",
    "1. Theoretical normal density functions are defined between -∞ and ∞\n",
    "2. There are two parameters, location (μ which is the mean) and scale (σ which is standard deviation).\n",
    "3. It has a symmetrical (bell shape) around the mean. mean = median = mode\n",
    "4. Areas between specific values are measured in terms of μ and σ\n",
    "5. Any linear transformation if a normal random variable is also normal random variable.\n",
    "6. If X1 is an independent normal random variable with mean μ1 and variance $\\sigma1^2$ and \n",
    "      X2 is another independent normal random variable with mean μ2 and$\\sigma2^2$, \n",
    "then X1 + X2 is also a normal distribution with mean μ1 + μ2 and variance $\\sigma1^2$ + $\\sigma2^2$ "
   ]
  },
  {
   "cell_type": "markdown",
   "metadata": {},
   "source": [
    "| Value of the random variable | Area under the normal distribution (CDF) |\n",
    "| --------------------------------- | --------------------------|\n",
    "| $\\mu - \\sigma \\leq x \\leq \\mu + \\sigma$ | 0.6828 |\n",
    "| $\\mu - 2\\sigma \\leq x \\leq \\mu + 2\\sigma$ | 0.9545 |\n",
    "| $\\mu - 3\\sigma \\leq x \\leq \\mu + 3\\sigma$ | 0.9974 |"
   ]
  },
  {
   "cell_type": "markdown",
   "metadata": {},
   "source": [
    "### Some important functions in python for solving Normal Distribution problems\n",
    "\n",
    "#### 1. Cumulative Density Function (cdf)\n",
    "\n",
    "1. scipy.stats.norm.cdf(z)                 # Here z is an attribute\n",
    "\n",
    "2. stats.norm.cdf(z2) – stats.norm.cdf(z1) # Here z is an attribute\n",
    "\n",
    "3. stats.norm.isf(0.99) # Inverse Survival function gives the value given a probability"
   ]
  },
  {
   "cell_type": "markdown",
   "metadata": {},
   "source": [
    "### Example 5"
   ]
  },
  {
   "cell_type": "markdown",
   "metadata": {},
   "source": [
    "A survey on use of smart phones in India was conducted and it is observed the smart phone users spend 68 minutes in a day on average in sending messages and the corresponding standard deviation is 12 minutes. \n",
    "\n",
    "* Assume that the time spent in sending messages follows a normal distribution. \n",
    "* a) What proportion of the smart phone users are spending more than 90 minutes in sending messages daily?\n",
    "* b) What proportion of customers are spending less than 20 minutes?\n",
    "* c) What proportion of customers are spending between 50 minutes and 100 minutes?"
   ]
  },
  {
   "cell_type": "code",
   "execution_count": 32,
   "metadata": {
    "collapsed": true
   },
   "outputs": [],
   "source": [
    "mu    = 68 # minutes \n",
    "sigma = 12"
   ]
  },
  {
   "cell_type": "markdown",
   "metadata": {},
   "source": [
    "### Compute Z by subtracting the mean, mu from a normally distributed variable, divide by the standard deviation, sigma"
   ]
  },
  {
   "cell_type": "code",
   "execution_count": 33,
   "metadata": {},
   "outputs": [
    {
     "name": "stdout",
     "output_type": "stream",
     "text": [
      " a. Proportion of the smart phone users are spending more than 90 minutes in sending messages daily is 0.0334\n"
     ]
    }
   ],
   "source": [
    "# a. What proportion of the smart phone users are spending more than 90 minutes in sending messages daily?\n",
    "z  = (90 - mu) / sigma # X = 90\n",
    "P  = 1 - stats.norm.cdf(z)\n",
    "print(' a. Proportion of the smart phone users are spending more than 90 minutes in sending messages daily is %1.4f' % P)"
   ]
  },
  {
   "cell_type": "code",
   "execution_count": 34,
   "metadata": {},
   "outputs": [
    {
     "name": "stdout",
     "output_type": "stream",
     "text": [
      " b) What proportion of customers are spending less than 20 minutes is 0.0000317\n"
     ]
    }
   ],
   "source": [
    "# b) What proportion of customers are spending less than 20 minutes?\n",
    "z1  =  (20 - mu) / sigma # X = 20\n",
    "P   =  stats.norm.cdf(z1)\n",
    "print(' b) What proportion of customers are spending less than 20 minutes is %1.7f' % P)\n"
   ]
  },
  {
   "cell_type": "code",
   "execution_count": 35,
   "metadata": {},
   "outputs": [
    {
     "name": "stdout",
     "output_type": "stream",
     "text": [
      " c) proportion of customers are spending between 50 minutes and 100 minutes is 0.9294\n"
     ]
    }
   ],
   "source": [
    "# c) What proportion of customers are spending between 50 minutes and 100 minutes?\n",
    "z1  =  (50 - mu) / sigma   # X = 50\n",
    "z2  =  (100 - mu) / sigma  # X = 100\n",
    "P1   =  stats.norm.cdf(z1)\n",
    "P2   =  stats.norm.cdf(z2)\n",
    "P    =  P2 - P1\n",
    "print(' c) proportion of customers are spending between 50 minutes and 100 minutes is %1.4f' % P)"
   ]
  },
  {
   "cell_type": "markdown",
   "metadata": {},
   "source": [
    "### Example 6"
   ]
  },
  {
   "cell_type": "markdown",
   "metadata": {},
   "source": [
    "The mean salaries of Data Scientists working in Chennai, India is calculated to be 7,00,000 INR with a standard deviation of 90,000 INR. The random variable salary of Data Scientists follows a normal distribution.\n",
    "\n",
    "* a) What is the probability that a Data Scientist in Chennai has a salary more than 10,00,000 INR?\n",
    "* b) What is the probability that a Data Scientist in Chennai has a salary between 6,00,000 & 9,00,000 INR?\n",
    "* c) What is the probability that a Data Scientist in Chennai has a salary less than 4,00,000 INR?"
   ]
  },
  {
   "cell_type": "code",
   "execution_count": 36,
   "metadata": {
    "collapsed": true
   },
   "outputs": [],
   "source": [
    "# a) What is the probability that a Data Scientist in Chennai has a salary more than 10,00,000 INR?\n",
    "mu    =  700000\n",
    "sigma =  90000\n",
    "z=(1000000-mu) / sigma "
   ]
  },
  {
   "cell_type": "code",
   "execution_count": 37,
   "metadata": {},
   "outputs": [
    {
     "name": "stdout",
     "output_type": "stream",
     "text": [
      " a) Probability that a Data Scientist in Chennai has a salary more than 10,00,000 is 0.0004\n"
     ]
    }
   ],
   "source": [
    "P = 1 - stats.norm.cdf(z)\n",
    "print(' a) Probability that a Data Scientist in Chennai has a salary more than 10,00,000 is %1.4f' % P)"
   ]
  },
  {
   "cell_type": "code",
   "execution_count": 38,
   "metadata": {
    "collapsed": true
   },
   "outputs": [],
   "source": [
    "# b) What is the probability that a Data Scientist in Chennai has a salary between 6,00,000 & 9,00,000 INR?\n",
    "z1= (600000-mu) / sigma\n",
    "z2= (900000-mu) / sigma"
   ]
  },
  {
   "cell_type": "code",
   "execution_count": 39,
   "metadata": {},
   "outputs": [
    {
     "name": "stdout",
     "output_type": "stream",
     "text": [
      " b) probability that a Data Scientist in Chennai has a salary between 6,00,000 & 9,00,000 INR is 0.8536\n"
     ]
    }
   ],
   "source": [
    "P = stats.norm.cdf(z2) - stats.norm.cdf(z1)\n",
    "print(' b) probability that a Data Scientist in Chennai has a salary between 6,00,000 & 9,00,000 INR is %1.4f' % P)"
   ]
  },
  {
   "cell_type": "code",
   "execution_count": 40,
   "metadata": {
    "collapsed": true
   },
   "outputs": [],
   "source": [
    "# c) What is the probability that a Data Scientist in Chennai has a salary less than 4,00,000 INR?\n",
    "z = (400000-mu) / sigma "
   ]
  },
  {
   "cell_type": "code",
   "execution_count": 41,
   "metadata": {},
   "outputs": [
    {
     "name": "stdout",
     "output_type": "stream",
     "text": [
      " c) Probability that a Data Scientist in Chennai has a salary less than 4,00,000 INR is 0.0004\n"
     ]
    }
   ],
   "source": [
    "P = stats.norm.cdf(z)\n",
    "print(' c) Probability that a Data Scientist in Chennai has a salary less than 4,00,000 INR is %1.4f' % P)"
   ]
  },
  {
   "cell_type": "markdown",
   "metadata": {},
   "source": [
    "### Example 7"
   ]
  },
  {
   "cell_type": "markdown",
   "metadata": {},
   "source": [
    "The fill amount in 2-liter soft drink bottles is normally distributed, with a mean of 2.0 liters and a standard deviation of 0.05 liter. If the bottles contain less than 95% of the listed net content (1.90 liters, in our case), the manufacturer may be subject to penalty by the state office of consumer affairs. Bottles that have a net content above 2.1 liters may cause excess spillage upon opening. What is the proportion of bottles that will contain\n",
    "\n",
    "* a) between 1.9 and 2.0 liters\n",
    "* b) between 1.9 and 2.1 liters\n",
    "* c) below 1.9 liters or above 2.1 liters\n",
    "* d) At least how much soft drink is contained in 99% of the bottles?"
   ]
  },
  {
   "cell_type": "code",
   "execution_count": 42,
   "metadata": {
    "collapsed": true
   },
   "outputs": [],
   "source": [
    "mu     = 2\n",
    "sigma  = 0.05"
   ]
  },
  {
   "cell_type": "markdown",
   "metadata": {},
   "source": [
    "#### a. between 1.9 and 2.0 liters"
   ]
  },
  {
   "cell_type": "code",
   "execution_count": 43,
   "metadata": {},
   "outputs": [
    {
     "name": "stdout",
     "output_type": "stream",
     "text": [
      "Z value for 1.90 liters is -2.0000\n"
     ]
    }
   ],
   "source": [
    "x1   = 1.90\n",
    "z1   = (x1 - mu) /  sigma \n",
    "print(\"Z value for 1.90 liters is %3.4f\" % z1)"
   ]
  },
  {
   "cell_type": "code",
   "execution_count": 44,
   "metadata": {},
   "outputs": [
    {
     "name": "stdout",
     "output_type": "stream",
     "text": [
      "Z value for 2 liters is 0.0000\n"
     ]
    }
   ],
   "source": [
    "x2   = 2\n",
    "z2   = (x2 - mu) /  sigma \n",
    "print(\"Z value for 2 liters is %3.4f\" % z2)"
   ]
  },
  {
   "cell_type": "code",
   "execution_count": 45,
   "metadata": {},
   "outputs": [
    {
     "name": "stdout",
     "output_type": "stream",
     "text": [
      "a.  Proportion of bottles between 1.9 and 2 L is 0.4772\n"
     ]
    }
   ],
   "source": [
    "P  = stats.norm.cdf(z2) - stats.norm.cdf(z1)\n",
    "print(\"a.  Proportion of bottles between 1.9 and 2 L is %3.4f\" % P)"
   ]
  },
  {
   "cell_type": "markdown",
   "metadata": {},
   "source": [
    "#### b) between 1.9 and 2.1 liters"
   ]
  },
  {
   "cell_type": "code",
   "execution_count": 46,
   "metadata": {},
   "outputs": [
    {
     "name": "stdout",
     "output_type": "stream",
     "text": [
      "Z value for 2.1 liters is 2.0000\n"
     ]
    }
   ],
   "source": [
    "x3   = 2.1\n",
    "z3   = (x3 - mu) /  sigma\n",
    "print(\"Z value for 2.1 liters is %3.4f\" % z3)"
   ]
  },
  {
   "cell_type": "code",
   "execution_count": 47,
   "metadata": {},
   "outputs": [
    {
     "name": "stdout",
     "output_type": "stream",
     "text": [
      "b. Proportion of bottles between 1.9 and 2.1 L is 0.9545\n"
     ]
    }
   ],
   "source": [
    "P = stats.norm.cdf(z3) - stats.norm.cdf(z1)\n",
    "print(\"b. Proportion of bottles between 1.9 and 2.1 L is %3.4f\" %P)"
   ]
  },
  {
   "cell_type": "markdown",
   "metadata": {},
   "source": [
    "#### c. below 1.9 liters or above 2.1 liters"
   ]
  },
  {
   "cell_type": "code",
   "execution_count": 48,
   "metadata": {},
   "outputs": [
    {
     "name": "stdout",
     "output_type": "stream",
     "text": [
      "c. below 1.9 liters or above 2.1 liters is  0.0455\n"
     ]
    }
   ],
   "source": [
    "P1  =  stats.norm.cdf(z1)\n",
    "P2  =  1 - stats.norm.cdf(z3)\n",
    "print(\"c. below 1.9 liters or above 2.1 liters is  %3.4f\" % (P1 + P2))"
   ]
  },
  {
   "cell_type": "markdown",
   "metadata": {},
   "source": [
    "#### d) At least how much soft drink is contained in 99% of the bottles?"
   ]
  },
  {
   "cell_type": "code",
   "execution_count": 49,
   "metadata": {},
   "outputs": [
    {
     "name": "stdout",
     "output_type": "stream",
     "text": [
      "d. At least how much soft drink is contained in 99 percent of the bottles is  1.8837 Liters\n"
     ]
    }
   ],
   "source": [
    "# Here we need to find the vol\n",
    "P = stats.norm.isf(q = 0.99, loc = mu, scale = sigma)\n",
    "print(\"d. At least how much soft drink is contained in 99 percent of the bottles is  %4.4f Liters\" % P)"
   ]
  },
  {
   "cell_type": "markdown",
   "metadata": {
    "collapsed": true
   },
   "source": [
    "### Practice Exercise 3"
   ]
  },
  {
   "cell_type": "markdown",
   "metadata": {},
   "source": [
    "** The following table contains the overall miles per Gallon (MPG) of 2017 small SUVs ( n =40).**\n",
    "* Decide whether the data appears to be normally distributed by\n",
    "* a. Mean and median "
   ]
  },
  {
   "cell_type": "code",
   "execution_count": 3,
   "metadata": {},
   "outputs": [
    {
     "name": "stdout",
     "output_type": "stream",
     "text": [
      "[19 20 20 20 21 19 21 19 21 20 20 20 19 21 21 22 20 22 20 20 22 20 22 21 19\n",
      " 19 20 20 21 20 19 18 20 21 21 20 21 21 20 21]\n"
     ]
    }
   ],
   "source": [
    "mpg = np.array([19, 20, 20, 20, 21, 19, 21, 19, 21, 20, 20, 20, 19, 21, 21, 22, 20, 22, 20, 20, 22, 20, 22, 21, 19,\n",
    "                             19, 20, 20, 21, 20, 19, 18, 20, 21, 21, 20, 21, 21, 20,  21])\n",
    "print(mpg)"
   ]
  },
  {
   "cell_type": "markdown",
   "metadata": {},
   "source": [
    "Hint: Use np.median(mpg) to calculate median and mpg.mean() to calculate mean"
   ]
  },
  {
   "cell_type": "code",
   "execution_count": 51,
   "metadata": {},
   "outputs": [
    {
     "data": {
      "image/png": "[encoded data removed]",
      "text/plain": [
       "<matplotlib.figure.Figure at 0x20bdf21b898>"
      ]
     },
     "metadata": {},
     "output_type": "display_data"
    }
   ],
   "source": [
    "fig, ax = plt.subplots()\n",
    "pd.DataFrame(mpg).plot.kde(ax=ax, legend=False)\n",
    "pd.DataFrame(mpg).plot.hist(density=True, ax=ax)\n",
    "plt.show()"
   ]
  },
  {
   "cell_type": "markdown",
   "metadata": {},
   "source": [
    "* b. From the above plot, do you think the data is normally distributed?"
   ]
  },
  {
   "cell_type": "markdown",
   "metadata": {},
   "source": [
    "|     |     |     |    | \n",
    "| --- | --- | --- | -- |\n",
    "| 19  | 20  | 20  | 20 |\n",
    "| 21  | 19  | 21  | 19 |\n",
    "| 21  | 20  | 20  | 20 |\n",
    "| 19  | 21  | 21  | 22 |\n",
    "| 20  | 22  | 20  | 20 |\n",
    "| 22  | 20  | 22  | 21 |\n",
    "| 19  | 19  | 20  | 20 |  \n",
    "| 21  | 20  | 19  | 18 | \n",
    "| 20  | 21  | 21  | 20 | \n",
    "| 21  | 21  | 20  | 21|\n"
   ]
  },
  {
   "cell_type": "markdown",
   "metadata": {},
   "source": [
    "### Practice Exercise 4"
   ]
  },
  {
   "cell_type": "markdown",
   "metadata": {},
   "source": [
    "**The mean weight of a morning breakfast cereal pack is 0.295 kg with a standard deviation of 0.025 kg. The random variable weight of the pack follows a normal distribution. **\n",
    "\n",
    "* a. What is the probability that the pack weighs less than 0.280 kg?\n",
    "* b. What is the probability that the pack weighs more than 0.350 kg? \n",
    "* c. What is the probability that the pack weighs between 0.260 kg to 0.340 kg? "
   ]
  },
  {
   "cell_type": "markdown",
   "metadata": {},
   "source": [
    "### Take home exercises"
   ]
  },
  {
   "cell_type": "markdown",
   "metadata": {},
   "source": [
    "**1. If X is a random variable that follows normal distribution, then 5X + 40 is a**\n",
    "* a. Chi-square distribution\n",
    "* b. Poisson distribution\n",
    "* c. Binomial distribution\n",
    "* d. Normal distribution"
   ]
  },
  {
   "cell_type": "markdown",
   "metadata": {},
   "source": [
    "**2. The number of warranty claims received at an Electronic equipment manufacturer follows a Poisson distribution with a rate of 10 per day. ** \n",
    "Calculate the following:\n",
    "* a. The probability that the warranty claims is below 5 on a given day.\n",
    "* b. The probability that the warranty claims will exceed 10 on a given day."
   ]
  },
  {
   "cell_type": "markdown",
   "metadata": {},
   "source": [
    "**3. Refer to example 7. What is the proportion of bottles that will contain**\n",
    "* a) below 1.96 liters or above 2.2 liters\n",
    "* b) At least how much soft drink is contained in 90% of the bottles?"
   ]
  },
  {
   "cell_type": "markdown",
   "metadata": {},
   "source": [
    "### END"
   ]
  }
 ],
 "metadata": {
  "kernelspec": {
   "display_name": "Python 3",
   "language": "python",
   "name": "python3"
  },
  "language_info": {
   "codemirror_mode": {
    "name": "ipython",
    "version": 3
   },
   "file_extension": ".py",
   "mimetype": "text/x-python",
   "name": "python",
   "nbconvert_exporter": "python",
   "pygments_lexer": "ipython3",
   "version": "3.7.0"
  }
 },
 "nbformat": 4,
 "nbformat_minor": 2
}
