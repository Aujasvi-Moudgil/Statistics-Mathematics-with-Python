{
 "cells": [
  {
   "cell_type": "markdown",
   "metadata": {},
   "source": [
    "## Central Limit Theorem, Setting up of confidence intervals, Setting up hypothesis "
   ]
  },
  {
   "cell_type": "code",
   "execution_count": 6,
   "metadata": {},
   "outputs": [],
   "source": [
    "import  scipy.stats                     as  stats\n",
    "import  statsmodels.stats.proportion    as  SMP \n",
    "import  numpy                           as  np\n",
    "import  pandas                          as  pd"
   ]
  },
  {
   "cell_type": "markdown",
   "metadata": {},
   "source": [
    "### Central Limit Theorem"
   ]
  },
  {
   "cell_type": "markdown",
   "metadata": {},
   "source": [
    "* Central Limit Theorem (CLT) is one of the most important theorems in Statistics due to its applications in testing of hypothesis.\n",
    "\n",
    "* CLT states that for a large sample drawn from a population with mean $\\mu$ and standard deviation $\\sigma$, the sampling distribution of mean, follows an approximate normal distribution with mean, μ and standard error σ / √(n) irrespective of the distribution of the population for large sample size.\n",
    "\n",
    "* Let S1, S2, ..., Sk be samples of size n, drawn from an independent and identically distributed population with mean, μ and standard deviation, σ. \n",
    "\n",
    "* Let be $\\overline{X_1}$, $\\overline{X_2}$, ..., $\\overline{X_k}$,  the sample means of the samples (S1, S2, ..., Sk ). \n",
    "\n",
    "* According to CLT, the distribution of $\\overline{X_1}$, $\\overline{X_2}$, ..., $\\overline{X_k}$, follows a normal distribution with mean, μ and standard deviation, σ / √(n) for large value of n. \n",
    "\n",
    "* As a general rule, statisticians have found that for many population distribution, when the sample size is at least 30, the sampling distribution of the mean is approximately **normal.**"
   ]
  },
  {
   "cell_type": "markdown",
   "metadata": {},
   "source": [
    "### Implications of CLT\n",
    "* 1) X - μ / (σ / √(n) ~ N(0,1)\n",
    "* 2) If Sn = X1 + X2 + ... + Xn, then E(Sn) = nμ and Standard Error is σ √(n)\n",
    "* The random variable (Sn - nμ ) / (σ √(n))  is a standard normal variate\n"
   ]
  },
  {
   "cell_type": "markdown",
   "metadata": {},
   "source": [
    "### Example 1: "
   ]
  },
  {
   "cell_type": "markdown",
   "metadata": {},
   "source": [
    "A hospital is interested in estimating the average time it takes to discharge a patient after the doctor signs the discharge summary sheet. \n",
    "\n",
    "Calculate the required sample size at a confidence level of 95%. Assume that the population standard deviation is 25 minutes."
   ]
  },
  {
   "cell_type": "markdown",
   "metadata": {},
   "source": [
    "### Solution:\n"
   ]
  },
  {
   "cell_type": "markdown",
   "metadata": {},
   "source": [
    "From the CLT (Central Limit theorem), we know that the sampling distribution of the mean follows a normal distribution with mean $\\mu$ and standard deviation $\\frac{\\sigma}{\\sqrt{n}}$.  "
   ]
  },
  {
   "cell_type": "markdown",
   "metadata": {},
   "source": [
    "**Standard Normal Variate Z = $\\frac{\\overline{X},- \\mu} {\\frac{\\sigma}{\\sqrt{n}}}$**"
   ]
  },
  {
   "cell_type": "markdown",
   "metadata": {},
   "source": [
    "So, $\\sqrt{n} = {\\frac{Z \\quad \\times \\quad \\sigma} {\\overline{X} - \\mu}}$"
   ]
  },
  {
   "cell_type": "markdown",
   "metadata": {},
   "source": [
    "* Let  Diff = $\\overline{X}- \\mu$ \n",
    "* Diff = 5 minutes\n",
    "* $\\sigma = 25 $\n",
    "* $\\alpha = 0.05$"
   ]
  },
  {
   "cell_type": "code",
   "execution_count": 3,
   "metadata": {
    "collapsed": true
   },
   "outputs": [],
   "source": [
    "# Let n be the sample size"
   ]
  },
  {
   "cell_type": "code",
   "execution_count": 2,
   "metadata": {},
   "outputs": [],
   "source": [
    "import  scipy.stats as stats\n",
    "import  numpy       as np"
   ]
  },
  {
   "cell_type": "code",
   "execution_count": null,
   "metadata": {},
   "outputs": [],
   "source": [
    "Z     = round(stats.norm.isf(q = 0.025),2) # We need to calculate the value of Z at (alpha/2) when alpha = 0.05\n",
    "sigma = 25\n",
    "D     = 5\n",
    "Z"
   ]
  },
  {
   "cell_type": "code",
   "execution_count": 6,
   "metadata": {},
   "outputs": [
    {
     "name": "stdout",
     "output_type": "stream",
     "text": [
      "1.96\n"
     ]
    }
   ],
   "source": [
    "print(np.abs(Z))"
   ]
  },
  {
   "cell_type": "code",
   "execution_count": 7,
   "metadata": {
    "collapsed": true
   },
   "outputs": [],
   "source": [
    "n = round(((np.abs(Z) * sigma ) / D)**2,0)"
   ]
  },
  {
   "cell_type": "code",
   "execution_count": 8,
   "metadata": {},
   "outputs": [
    {
     "name": "stdout",
     "output_type": "stream",
     "text": [
      "The required sample size at a confidence level of 95% is 96\n"
     ]
    }
   ],
   "source": [
    "print('The required sample size at a confidence level of %d%s is %d' % (95,'%',n))"
   ]
  },
  {
   "cell_type": "markdown",
   "metadata": {},
   "source": [
    "## Practice Exercise 1"
   ]
  },
  {
   "cell_type": "markdown",
   "metadata": {},
   "source": [
    "#### Set the confidence level to be 90% in the above example 1 and calculate the required sample size"
   ]
  },
  {
   "cell_type": "markdown",
   "metadata": {},
   "source": [
    "## Confidence Intervals    "
   ]
  },
  {
   "cell_type": "markdown",
   "metadata": {},
   "source": [
    "* When there is an uncertainity around measuring the value of an important poulation parameter, it is better to find the range in which the range in which the value of the parameter is likely to lie rather than predicting a point estimate (single value).\n",
    "* Confidence interval is the range in which the value of a population parameter is likely to lie with certain probability.\n",
    "* Confidence interval provides additional information about the population parameter that will be useful in decision making."
   ]
  },
  {
   "cell_type": "markdown",
   "metadata": {},
   "source": [
    "### Confidence interval for population mean"
   ]
  },
  {
   "cell_type": "markdown",
   "metadata": {},
   "source": [
    "Let $X_1$, $X_2$, $X_3$, ..., $X_n$ be the sample means of samples, $S_1$, $S_3$,  $S_3$, ..., $S_n$ that are drawn from an independent and identically distributed population with mean, $\\mu$ and stamdard deviation, $\\sigma$.\n",
    "\n",
    "From the Central Limit Theorem, we know that the sample means, $X_i$ follows a normal distribution with mean, $\\mu$ and standard deviation $\\frac{\\sigma} {\\sqrt{n}}$."
   ]
  },
  {
   "cell_type": "markdown",
   "metadata": {},
   "source": [
    "The variable Z = $\\frac{X_i - \\mu}{\\frac{\\sigma} {\\sqrt{n}}}$ follows a standard normal variable.\n",
    "\n",
    "### Assume that we want to find (1 - $\\alpha$) 100% confidence interval for the population mean. \n",
    "* We can distribute $\\alpha$ (probability of not observing true population parameter mean in the interval) equally ($\\alpha/2$) on either side of the distribution shown."
   ]
  },
  {
   "cell_type": "markdown",
   "metadata": {},
   "source": [
    "* For $\\alpha$ = 0.05 or $\\alpha/2$ = 0.025, that is 95% confidence interval, we can calculate lower and upper values of the confidence interval from the standard normal distribution.\n",
    "* scipy.stats.norm.isf(q = 0.025) gives the value of Z for which the area under the normal distribution is less than 0.025.\n",
    "* The corresponding value is approximately 1.96 as shown in the previous example.\n",
    "* Using the transformation relationship between standard normal random variable Z and normal random variable X, we can write the 95% confidence interval for population mean when population standard deviation ($\\sigma$) is known as:\n",
    "$\\overline{X} \\pm 1.96 \\frac {\\sigma} {\\sqrt{n}}$, where $\\overline{X} is the estimated value of mean from a sample of size n."
   ]
  },
  {
   "cell_type": "markdown",
   "metadata": {},
   "source": [
    "#### In general, (1 - $\\alpha$) 100% the confidence interval for the population mean when population standard deviation is known can be written as \n",
    "\n",
    "$\\overline{X} \\pm Z _\\frac{\\alpha}{2} \\frac {\\sigma} {\\sqrt{n}}$\n",
    "\n",
    "This equation is valid for large sample sizes, irrespective of the distribution of the population.\n",
    "\n",
    "This is equivalent to"
   ]
  },
  {
   "cell_type": "markdown",
   "metadata": {},
   "source": [
    "P($\\overline{X} - Z_\\frac{\\alpha}{2} \\times \\frac{\\sigma}{\\sqrt{n}} \\leq \\mu \\leq \\overline{X} + Z_\\frac{\\alpha}{2} \\times \\frac{\\sigma}{\\sqrt{n}}$) = 1 - $\\alpha$"
   ]
  },
  {
   "cell_type": "markdown",
   "metadata": {},
   "source": [
    "The absolute values of $Z_\\frac{\\alpha}{2}$ are shown in the following table:"
   ]
  },
  {
   "cell_type": "code",
   "execution_count": 7,
   "metadata": {},
   "outputs": [
    {
     "name": "stdout",
     "output_type": "stream",
     "text": [
      "1.96\n"
     ]
    }
   ],
   "source": [
    "# Find alpha value when confidence level is 95%\n",
    "import numpy as np\n",
    "\n",
    "Significance_Level =  0.05\n",
    "\n",
    "SL_2    =  Significance_Level / 2\n",
    "Z        = np.abs(round(stats.norm.isf(q = SL_2),2))\n",
    "#data           =  pd.DataFrame({\"alpha\": Significance_Level[i], \"Z_alpha_by_2\" : Z}, index = ['alpha'] )\n",
    "print(Z)"
   ]
  },
  {
   "cell_type": "code",
   "execution_count": 9,
   "metadata": {},
   "outputs": [
    {
     "name": "stdout",
     "output_type": "stream",
     "text": [
      "       Z_alpha_by_2  alpha\n",
      "alpha          1.64   0.10\n",
      "alpha          1.96   0.05\n",
      "alpha          2.33   0.02\n",
      "alpha          2.58   0.01\n"
     ]
    }
   ],
   "source": [
    "df                 =  pd.DataFrame()\n",
    "Significance_Level =  [0.1, 0.05, 0.02, 0.01] \n",
    "\n",
    "for i in range(len(Significance_Level)):\n",
    "    SL_2    =  Significance_Level[i] / 2\n",
    "    Z              = np.abs(round(stats.norm.isf(q = SL_2),2))\n",
    "    data           =  pd.DataFrame({\"alpha\": Significance_Level[i], \"Z_alpha_by_2\" : Z}, index = ['alpha'] )\n",
    "    df = df.append(data)\n",
    "print(df)"
   ]
  },
  {
   "cell_type": "markdown",
   "metadata": {},
   "source": [
    "| $\\quad \\alpha \\quad$  | $Z_\\frac{\\alpha}{2}$ | Confidence Interval for $\\mu$ when $\\sigma$ is known |\n",
    "| ----         | ----             | -------------------------------------------------------- |\n",
    "| 0.1          | 1.64             |  $\\overline{X} \\quad \\pm 1.64 \\frac {\\sigma} {\\sqrt{n}}$  |\n",
    "| 0.05         | 1.96             |  $\\overline{X} \\quad \\pm 1.96 \\frac {\\sigma} {\\sqrt{n}}$  |      \n",
    "| 0.02         | 2.33             |  $\\overline{X} \\quad \\pm 2.33 \\frac {\\sigma} {\\sqrt{n}}$  |\n",
    "| 0.01         | 2.58             |  $\\overline{X} \\quad \\pm 2.58 \\frac {\\sigma} {\\sqrt{n}}$  |                                                        |"
   ]
  },
  {
   "cell_type": "markdown",
   "metadata": {},
   "source": [
    "### Example 2"
   ]
  },
  {
   "cell_type": "markdown",
   "metadata": {},
   "source": [
    "A sample of 100 diabetic patients was chosen to estimate the length of stay at a local hospital. \n",
    "The sample was 4.5 days and the population standard deviation was known to be 1.2 days.\n",
    "\n",
    "* a) Calculate the 95% confidence interval for the population mean.\n",
    "* b) What is the probability that the population mean is greater than 4.73 days?"
   ]
  },
  {
   "cell_type": "markdown",
   "metadata": {},
   "source": [
    "### Solution"
   ]
  },
  {
   "cell_type": "markdown",
   "metadata": {},
   "source": [
    "a) Calculate the 95% confidence interval for the population mean.\n",
    "\n",
    "It is known that \n",
    "* $\\overline{X}$ = 4.5\n",
    "* $\\sigma$       = 1.2\n",
    "* n              = 100\n",
    "We need to compute $\\overline{X} \\quad \\pm 1.96 \\frac {\\sigma} {\\sqrt{n}}$ "
   ]
  },
  {
   "cell_type": "code",
   "execution_count": 10,
   "metadata": {},
   "outputs": [
    {
     "name": "stdout",
     "output_type": "stream",
     "text": [
      "95 % confidence interval for population mean is 4.2648  to 4.7352\n"
     ]
    }
   ],
   "source": [
    "Xavg  = 4.5 \n",
    "sigma = 1.2\n",
    "n     = 100\n",
    "Lower_Interval = Xavg - (1.96 * (sigma / np.sqrt(n)))\n",
    "Upper_Interval = Xavg + (1.96 * (sigma / np.sqrt(n)))\n",
    "\n",
    "print('95 %s confidence interval for population mean is %1.4f  to %1.4f' % ('%', Lower_Interval , Upper_Interval))"
   ]
  },
  {
   "cell_type": "markdown",
   "metadata": {},
   "source": [
    "### Another method of calculating Confidence Interval using  stats.norm.interval()"
   ]
  },
  {
   "cell_type": "code",
   "execution_count": 11,
   "metadata": {},
   "outputs": [
    {
     "name": "stdout",
     "output_type": "stream",
     "text": [
      "95 % confidence interval for population mean is 4.2648  to 4.7352\n"
     ]
    }
   ],
   "source": [
    "ci = 0.95\n",
    "s  = sigma / np.sqrt(n)\n",
    "LCI, UCI = stats.norm.interval(ci, loc = Xavg, scale = s) # Give confidence interval 95%, mean and std as arguments to get CI\n",
    "print('95 %s confidence interval for population mean is %1.4f  to %1.4f' % ('%', LCI , UCI))"
   ]
  },
  {
   "cell_type": "markdown",
   "metadata": {},
   "source": [
    "b) What is the probability that the population mean is greater than 4.73 days?"
   ]
  },
  {
   "cell_type": "markdown",
   "metadata": {},
   "source": [
    "We need to do the following:\n",
    "* a. Calculate Z value corresponding to 4.73 by subtracting Xavg and divide by s\n",
    "* b. find out the probability corresponding to the Z value using scipy.stats.norm.cdf and then subtracting from 1 since cdf gives cumulative probability upto the Z value sincd we are interested in finding the probability that the population mean is greater than Z"
   ]
  },
  {
   "cell_type": "code",
   "execution_count": 12,
   "metadata": {
    "collapsed": true
   },
   "outputs": [],
   "source": [
    "Z = (4.73 - Xavg) / s"
   ]
  },
  {
   "cell_type": "code",
   "execution_count": 13,
   "metadata": {
    "collapsed": true
   },
   "outputs": [],
   "source": [
    "P = 1- stats.norm.cdf(Z)"
   ]
  },
  {
   "cell_type": "code",
   "execution_count": 14,
   "metadata": {},
   "outputs": [
    {
     "name": "stdout",
     "output_type": "stream",
     "text": [
      "b. Probability that the population mean is greater than 4.73 days 0.0276\n"
     ]
    }
   ],
   "source": [
    "print('b. Probability that the population mean is greater than 4.73 days %1.4f' % P)"
   ]
  },
  {
   "cell_type": "markdown",
   "metadata": {},
   "source": [
    "### Example 3"
   ]
  },
  {
   "cell_type": "markdown",
   "metadata": {},
   "source": [
    "Hindustan Pencils Pvt. Ltd. is an Indian manufacturer of pencils, writing materials and other stationery items, established in 1958 in Mumbai. Nataraj brand of pencils manufactured by the company is expected to have a mean length of 172 mm and the standard deviation of the length is 0.02 mm.\n",
    "\n",
    "To ensure quality, a sample is selected at periodic intervals to determine whether the length is still 172 mm and other dimensions of the pencil meet the quality standards set by the company.\n",
    "\n",
    "You select a random sample of 100 pencils and the mean is 170 mm. \n",
    "\n",
    "Construct a 95% confidenct interval for the pencil length."
   ]
  },
  {
   "cell_type": "markdown",
   "metadata": {},
   "source": [
    "### Solution"
   ]
  },
  {
   "cell_type": "markdown",
   "metadata": {},
   "source": [
    "It is known that \n",
    "* $\\overline{X}$ = 172 mm\n",
    "* $\\sigma$       = 0.02 mm\n",
    "* n              = 100\n",
    "We need to compute $\\overline{X} \\quad \\pm 1.96 \\frac {\\sigma} {\\sqrt{n}}$ "
   ]
  },
  {
   "cell_type": "code",
   "execution_count": 15,
   "metadata": {},
   "outputs": [
    {
     "name": "stdout",
     "output_type": "stream",
     "text": [
      "95 % confidence interval for population mean is 171.9961  to 172.0039\n"
     ]
    }
   ],
   "source": [
    "ci     = 0.95\n",
    "Xavg   = 172\n",
    "sigma  = 0.02\n",
    "s      = sigma / np.sqrt(n)\n",
    "LCI, UCI = stats.norm.interval(ci, loc = Xavg, scale = s) # Give confidence interval 95%, mean and std as arguments to get CI\n",
    "print('95 %s confidence interval for population mean is %1.4f  to %1.4f' % ('%', LCI , UCI))"
   ]
  },
  {
   "cell_type": "markdown",
   "metadata": {},
   "source": [
    "## Practice Exercise 2"
   ]
  },
  {
   "cell_type": "markdown",
   "metadata": {},
   "source": [
    "Construct a 99% confidence interval for the following examples given above:\n",
    "* a. Example 2\n",
    "* b. Example 3"
   ]
  },
  {
   "cell_type": "markdown",
   "metadata": {},
   "source": [
    "### Confidence interval for population proportion"
   ]
  },
  {
   "cell_type": "markdown",
   "metadata": {
    "collapsed": true
   },
   "source": [
    "The Central Limit Theorem for the population proportion is stated below:\n",
    "\n",
    "If $X_1$, $X_2$, ...,$X_n$ are from Bernoulli trials with probability of success p, that is E($X_i$) = p and Var($X_i$) =pq (where a = 1- p), \n",
    "* then the sampling distribution of probability of success (say $\\hat{p}$) for a large sample size follows an approximate normal distribution with mean p, and standard error $\\sqrt{\\frac{pq}{n}}$, where n is the sample size.\n"
   ]
  },
  {
   "cell_type": "markdown",
   "metadata": {},
   "source": [
    "The variable, $\\frac{\\hat{p} - p}{\\sqrt{\\frac{pq}{n}}}$ converges to a standard normal distribution."
   ]
  },
  {
   "cell_type": "markdown",
   "metadata": {},
   "source": [
    "Note:\n",
    "\n",
    "* The standard deviation of the sampling distribution of proportions depends on the value of p which is unknown.\n",
    "* Rule of thumb: value of n is set to npq $\\geq$ 10.\n",
    "\n",
    "The (1 - $\\alpha$)100% confidence interval for population proportion p is given by \n",
    "\n",
    "$\\hat{p}$ - $Z_\\frac{\\alpha}{2} \\sqrt{\\frac{\\hat(p)\\hat(q)}{n}}$ $\\leq$ p\n",
    "$\\leq$ $\\hat{p}$ + $Z_\\frac{\\alpha}{2} \\sqrt{\\frac{\\hat(p)\\hat(q)}{n}}$ "
   ]
  },
  {
   "cell_type": "markdown",
   "metadata": {},
   "source": [
    "### Example 4"
   ]
  },
  {
   "cell_type": "markdown",
   "metadata": {
    "collapsed": true
   },
   "source": [
    "**A medical pharmacy was interested in finding the proportion of customers who pay cash for their medicines as against digital cash or plastic money.**\n",
    "\n",
    "**From a sample of 200 customers, it was found that 140 customers paid by cash.** \n",
    "\n",
    "**Calculate the 95% confidence interval for proportions who pay by cash.**"
   ]
  },
  {
   "cell_type": "code",
   "execution_count": null,
   "metadata": {},
   "outputs": [],
   "source": [
    "In this example, \n",
    "* n          =  200\n",
    "* $\\hat{p}$  =  140 / 200 = 0.7\n",
    "* $\\hat{q}$  =  60  / 200 = 0.3\n",
    "\n",
    "We find n X $\\hat{p}$ X $\\hat{q}$ = 200 * 0.7 * 0.3 = 42 $\\geq$ 10, and hence we can use the confidence interval equation\n",
    "$\\hat{p}$ - $Z_\\frac{\\alpha}{2} \\sqrt{\\frac{\\hat(p)\\hat(q)}{n}}$ $\\leq$ p\n",
    "$\\leq$ $\\hat{p}$ + $Z_\\frac{\\alpha}{2} \\sqrt{\\frac{\\hat(p)\\hat(q)}{n}}$ "
   ]
  },
  {
   "cell_type": "markdown",
   "metadata": {},
   "source": [
    "W3e can use the function statsmodels.stats.proportion.proportion_confint to find out the required confidence interval by giving the following parameters:\n",
    "* count  = Number of events of interest such as number of customers who paid by cash\n",
    "* nobs   = Total number of observations\n",
    "* alpha  = Level of significance for determining the confidence interval\n",
    "* method = Method used for finding the confidence interval"
   ]
  },
  {
   "cell_type": "code",
   "execution_count": 16,
   "metadata": {},
   "outputs": [
    {
     "name": "stdout",
     "output_type": "stream",
     "text": [
      "95 % confidence interval for population mean is 0.6365  to 0.7635\n"
     ]
    }
   ],
   "source": [
    "n           = 200\n",
    "n_success   = 140\n",
    "alpha       = 0.05\n",
    "LCI, UCI    = SMP.proportion_confint(count = n_success, nobs = n, alpha = alpha, method = 'normal')\n",
    "print('95 %s confidence interval for population mean is %1.4f  to %1.4f' % ('%', LCI , UCI))"
   ]
  },
  {
   "cell_type": "markdown",
   "metadata": {},
   "source": [
    "## Practice Exercise 3"
   ]
  },
  {
   "cell_type": "markdown",
   "metadata": {},
   "source": [
    "#### Set the confidence level to be 90% in the above example 4 and calculate the required confidence interval"
   ]
  },
  {
   "cell_type": "markdown",
   "metadata": {},
   "source": [
    "## Confidence interval for population mean when standard deviation is unknown"
   ]
  },
  {
   "cell_type": "markdown",
   "metadata": {},
   "source": [
    "When the standard deviation of the population is unknown, then we will not be able to use the formula \n",
    "$\\overline{X} \\pm Z _\\frac{\\alpha}{2} \\frac {\\sigma} {\\sqrt{n}}$"
   ]
  },
  {
   "cell_type": "markdown",
   "metadata": {},
   "source": [
    "William Sealy Gosset under a pseudonym, Student in 1908 proved that if the population follows a normal distribution and the standard deviation taken from the sample, then the following statistic \n",
    "t = $\\frac{\\overline{X} - \\mu} {\\frac{S} {\\sqrt{n}}}$ \n",
    "follows a t distribution with n-1 degrees of freedom."
   ]
  },
  {
   "cell_type": "markdown",
   "metadata": {},
   "source": [
    "* Here, S is the standard deviation (aka standard error) estimated from the sample.\n",
    "* $\\mu$ is the population mean.\n",
    "* n is the sample size\n",
    "\n",
    "Note: n - 1 is the degrees of freedom.\n",
    "\n",
    "**Degrees of freedom for an estimate is equal to the number of values minus the number of parameters estimated to arrive at the estimate in question. In other words, the number of values in the final calculation of a statistic that are free to vary.** \n",
    "\n",
    "The t distribution is very similar to the standard normal distribution.  As the degrees of freedom increases, the t distribution converges to standard normal distribution.\n",
    "\n",
    "The (1 - $\\alpha$) 100% confidence interval for population mean when the population standard deviation is unknown is given as:\n",
    "\n",
    "$\\overline{X} \\pm t _{\\frac{\\alpha}{{2,}}{n-1}} \\frac {S} {\\sqrt{n}}$"
   ]
  },
  {
   "cell_type": "markdown",
   "metadata": {},
   "source": [
    "* In the above equation, the value, $t_{\\frac{\\alpha}{{2,}}{n-1}}$ is the value of t under the t -distribution for which the cumulative prbability.\n",
    "\n",
    "F(t) = 0.025 when the degrees of freedom is n-1 and $\\alpha$ is 0.05.\n",
    "* Degrees of freedom is (n - 1) since sample of size n is used to estimate the standard deviation. "
   ]
  },
  {
   "cell_type": "markdown",
   "metadata": {},
   "source": [
    "For various values of $\\alpha$, calculate the absolute values of $t_{\\frac{\\alpha}{{2,}}{n-1}}$ along with the $Z_\\frac{\\alpha}{2}$ values.\n",
    "\n",
    "scipy.stats.t.ppf"
   ]
  },
  {
   "cell_type": "code",
   "execution_count": 17,
   "metadata": {},
   "outputs": [
    {
     "name": "stdout",
     "output_type": "stream",
     "text": [
      "        a-0    t-10    t-30    t-50   t-100   t-500  z-9725\n",
      "alpha  0.10  1.8125  1.6973  1.6759  1.6602  1.6479    1.64\n",
      "alpha  0.05  2.2281  2.0423  2.0086  1.9840  1.9647    1.96\n",
      "alpha  0.02  2.7638  2.4573  2.4033  2.3642  2.3338    2.33\n",
      "alpha  0.01  3.1693  2.7500  2.6778  2.6259  2.5857    2.58\n"
     ]
    }
   ],
   "source": [
    "df                 =  pd.DataFrame()\n",
    "Significance_Level =  [0.1, 0.05, 0.02, 0.01] \n",
    "df_List            =  [10,  30,   50, 100, 500]\n",
    "\n",
    "for i in range(len(Significance_Level)):\n",
    "    SL_2    =  Significance_Level[i] / 2\n",
    "    Z       =  np.abs(round(stats.norm.isf(q = SL_2), 2))\n",
    "    t       =  [0,0,0,0,0]\n",
    "    for j in range(len(df_List)):\n",
    "        deg_fr  =  df_List[j]        \n",
    "        t[j]       =  np.abs(round(stats.t.ppf( (1- SL_2), deg_fr),4))\n",
    "    t_dict1 = {\"a-0\": Significance_Level[i],\"t-10\" : t[0], \"t-30\" : t[1],\n",
    "               \"t-50\" : t[2],\"t-100\" : t[3], \"t-500\" : t[4], \"z-9725\" : Z}\n",
    "    data    = pd.DataFrame(t_dict1, index = ['alpha'] )\n",
    "    df      = df.append(data)\n",
    "df          = df.reindex_axis(sorted(df.columns, \n",
    "                                     key=lambda x: float(x[1:]),reverse = True), axis=1)\n",
    "print(df)"
   ]
  },
  {
   "cell_type": "markdown",
   "metadata": {},
   "source": [
    "| $\\alpha$ | t with df = 10 | t with df = 30 | t with df = 50 | t with df = 100 | t with df = 500 | Z with alpha/2 | \n",
    "| ---- | ------ | ----- | ---- | ------ | ----- | ---- |\n",
    "| 0.10 | 1.8125 | 1.6973 | 1.6759 | 1.6602 | 1.6479 | 1.64 |\n",
    "| 0.05 | 2.2281 | 2.0423 | 2.0086 | 1.9840 | 1.9647 | 1.96 |\n",
    "| 0.02 | 2.7638 | 2.4573 | 2.4033 | 2.3642 | 2.3338 | 2.33 |\n",
    "| 0.01 | 3.1693 | 2.7500 | 2.6778 | 2.6259 | 2.5857 | 2.58 |"
   ]
  },
  {
   "cell_type": "markdown",
   "metadata": {},
   "source": [
    "**We observe that the values of t and Z converge for higher degrees of freedom.**"
   ]
  },
  {
   "cell_type": "markdown",
   "metadata": {},
   "source": [
    "### Example 5"
   ]
  },
  {
   "cell_type": "markdown",
   "metadata": {},
   "source": [
    "The following table contains the length of stay in minutes of each customer at a Fast Food restaurant.\n",
    "\n",
    "|      |      |      |      |      |\n",
    "| ---  | ---  | ---  | ---  | ---  |\n",
    "| 7.42 | 6.29 | 5.83 | 6.50 | 8.34 |\n",
    "| 9.51 | 7.10 | 6.80 | 5.90 | 4.89 |\n",
    "| 6.50 | 5.52 | 7.90 | 8.30 | 9.60 |\n",
    "\n",
    "* a. *Construct 95% confidence interval estimate for the population mean length of stay at Fast Food restaurant, assuming a normal distribution.*\n",
    "* b. *Interpret the interval constructed at a.*"
   ]
  },
  {
   "cell_type": "code",
   "execution_count": 18,
   "metadata": {},
   "outputs": [
    {
     "name": "stdout",
     "output_type": "stream",
     "text": [
      "Mean of length of stay is 7.0933\n",
      "SD of length of stay is 1.406031\n"
     ]
    }
   ],
   "source": [
    "L = [7.42, 6.29, 5.83, 6.50, 8.34, 9.51, 7.10, \\\n",
    "     6.80, 5.90, 4.89, 6.50, 5.52, 7.90, 8.30, 9.60]\n",
    "lengthStay = np.array(L)\n",
    "avg        = lengthStay.mean(axis = 0)\n",
    "sd         = np.std(lengthStay,ddof = 1)\n",
    "print('Mean of length of stay is %1.4f' % avg)\n",
    "print('SD of length of stay is %1.6f'   % sd)\n",
    "# Here ddof modifies the divisor of the sum of the squares of the samples-minus-mean"
   ]
  },
  {
   "cell_type": "code",
   "execution_count": 19,
   "metadata": {},
   "outputs": [
    {
     "name": "stdout",
     "output_type": "stream",
     "text": [
      "2.1448\n"
     ]
    }
   ],
   "source": [
    "n      = 15\n",
    "SL_2   = 0.025\n",
    "deg_fr = n - 1\n",
    "tval = np.abs(round(stats.t.ppf( (1- SL_2), deg_fr),4)) \n",
    "print(tval)"
   ]
  },
  {
   "cell_type": "code",
   "execution_count": 27,
   "metadata": {},
   "outputs": [
    {
     "name": "stdout",
     "output_type": "stream",
     "text": [
      "a. 95 % confidence interval for population mean is 6.3147  to 7.8720\n"
     ]
    }
   ],
   "source": [
    "LCI         = avg - (tval * (sd / np.sqrt(n)))\n",
    "UCI         = avg + (tval * (sd / np.sqrt(n)))\n",
    "print('a. 95 %s confidence interval for population mean is %1.4f  to %1.4f' % ('%', LCI , UCI))"
   ]
  },
  {
   "cell_type": "markdown",
   "metadata": {},
   "source": [
    "### Another method using scipy.stats"
   ]
  },
  {
   "cell_type": "code",
   "execution_count": 28,
   "metadata": {},
   "outputs": [
    {
     "name": "stdout",
     "output_type": "stream",
     "text": [
      "a. 95 % confidence interval for population mean is 6.3147  to 7.8720\n"
     ]
    }
   ],
   "source": [
    "alpha       = 0.95\n",
    "S           = sd / np.sqrt(n)\n",
    "LCI, UCI    = stats.t.interval(alpha, deg_fr, avg, S)\n",
    "print('a. 95 %s confidence interval for population mean is %1.4f  to %1.4f' % ('%', LCI , UCI))"
   ]
  },
  {
   "cell_type": "markdown",
   "metadata": {},
   "source": [
    "** b. You can be 95% confident that the mean length of stay at a Fast Food restaurant lies between 6.31 minutes to 7.87 minutes.**"
   ]
  },
  {
   "cell_type": "markdown",
   "metadata": {
    "collapsed": true
   },
   "source": [
    "## Practice Exercise 4"
   ]
  },
  {
   "cell_type": "markdown",
   "metadata": {},
   "source": [
    "Time taken to resolve a customer complaints in days of 100 customers in a Service Organization is given below:"
   ]
  },
  {
   "cell_type": "markdown",
   "metadata": {},
   "source": [
    " |      |      |      |      |      |      |      |      |      |      |\n",
    " | ---  | ---- | ---- | ---- | ---- | ---- | ---- | ---- | ---- | ---- |\n",
    " | 2.50 | 3.26 | 2.79 | 3.74 | 5.60 | 3.24 | 3.65 | 3.91 | 4.35 | 3.35 |\n",
    " | 5.67 | 5.38 | 3.54 | 5.10 | 3.66 | 3.01 | 3.96 | 4.98 | 4.56 | 5.00 |\n",
    " | 5.03 | 5.29 | 4.91 | 4.63 | 2.94 | 3.82 | 4.76 | 2.24 | 4.25 | 3.45 |\n",
    " | 3.14 | 4.64 | 4.56 | 4.61 | 2.68 | 3.61 | 5.46 | 2.83 | 4.84 | 4.31 |\n",
    " | 2.98 | 3.90 | 4.45 | 3.62 | 6.15 | 4.04 | 5.19 | 4.63 | 2.78 | 2.95 |\n",
    " | 3.65 | 4.49 | 3.52 | 4.07 | 4.16 | 5.56 | 2.69 | 6.69 | 1.26 | 3.14 |\n",
    " | 4.71 | 4.80 | 3.41 | 3.18 | 4.64 | 4.23 | 4.36 | 3.94 | 3.81 | 4.26 |\n",
    " | 2.92 | 2.87 | 2.08 | 3.09 | 3.60 | 2.93 | 3.85 | 4.66 | 4.70 | 3.61 |\n",
    " | 5.59 | 3.39 | 3.13 | 4.14 | 4.23 | 4.25 | 4.12 | 5.95 | 4.76 | 4.96 |\n",
    " | 2.27 | 3.77 | 5.25 | 3.05 | 3.20 | 5.22 | 3.84 | 2.24 | 4.75 | 3.07 |\n"
   ]
  },
  {
   "cell_type": "markdown",
   "metadata": {},
   "source": [
    "* a. *Construct 95% confidence interval estimate for the population mean days to resolve customer complaints,\n",
    "      assuming a normal distribution.*\n",
    "* b. *Interpret the interval constructed at a.*\n",
    "\n",
    "**Hint**\n",
    "\n",
    "* 1) Use the following code to obtain the NumPy array, resolvedDays to solve this problem."
   ]
  },
  {
   "cell_type": "code",
   "execution_count": 30,
   "metadata": {
    "collapsed": true
   },
   "outputs": [],
   "source": [
    "resolved_in_days = [2.50, 3.26, 2.79, 3.74, 5.60, 3.24, 3.65, 3.91, 4.35, 3.35,\\\n",
    "5.67, 5.38, 3.54, 5.10, 3.66, 3.01, 3.96, 4.98, 4.56, 5.00,\\\n",
    "5.03, 5.29, 4.91, 4.63, 2.94, 3.82, 4.76, 2.24, 4.25, 3.45,\\\n",
    "3.14, 4.64, 4.56, 4.61, 2.68, 3.61, 5.46, 2.83, 4.84, 4.31,\\\n",
    "2.98, 3.90, 4.45, 3.62, 6.15, 4.04, 5.19, 4.63, 2.78, 2.95,\\\n",
    "3.65, 4.49, 3.52, 4.07, 4.16, 5.56, 2.69, 6.69, 1.26, 3.14,\\\n",
    "4.71, 4.80, 3.41, 3.18, 4.64, 4.23, 4.36, 3.94, 3.81, 4.26,\\\n",
    "2.92, 2.87, 2.08, 3.09, 3.60, 2.93, 3.85, 4.66, 4.70, 3.61,\\\n",
    "5.59, 3.39, 3.13, 4.14, 4.23, 4.25, 4.12, 5.95, 4.76, 4.96,\\\n",
    "2.27, 3.77, 5.25, 3.05, 3.20, 5.22, 3.84, 2.24, 4.75, 3.07]\n",
    "resolvedDays = np.array(resolved_in_days)"
   ]
  },
  {
   "cell_type": "markdown",
   "metadata": {},
   "source": [
    "### Confidence interval for population variance"
   ]
  },
  {
   "cell_type": "markdown",
   "metadata": {},
   "source": [
    "The random variable defined by $\\frac{n-1 {S_i}^2}{\\sigma^2}$ follows a $\\chi^2$ distribution with n-1 degrees of freedom.\n",
    "\n",
    "Here ${S_1}^2$, ${S_2}^2$,... ${S_n}^2$ are the sample variances estimated from samples of size n drawn from a normal distribution with variance ${\\sigma }^2$.\n",
    "\n",
    "The {1 - $\\alpha$)100% confidence interval for variance, ${\\sigma}^2$ is given by Tate and Klett (1959) and Cohen(1972).\n",
    "\n",
    "$\\bigg( \\frac{(n-1) {S}^2}{{\\chi}^2_{\\frac{\\alpha}{{2,}}{n-1}}}$ , $\\frac{(n-1) {S}^2}{{\\chi}^2_{\\frac{1 -\\alpha}{{2,}}{n-1}}} \\bigg)$"
   ]
  },
  {
   "cell_type": "markdown",
   "metadata": {},
   "source": [
    "### Example 6"
   ]
  },
  {
   "cell_type": "markdown",
   "metadata": {},
   "source": [
    "The variance of volume of 20 litre water can is estimated to be 324 ml based on  a sample of 50 water cans. \n",
    "\n",
    "a. Calculate a 95% confidence interval for the variance in water cans."
   ]
  },
  {
   "cell_type": "code",
   "execution_count": 30,
   "metadata": {},
   "outputs": [
    {
     "name": "stdout",
     "output_type": "stream",
     "text": [
      "alpha 0.0250 chi-square value 70.22\n",
      "alpha 0.9750 chi-square value 31.55\n"
     ]
    }
   ],
   "source": [
    "n       = 50\n",
    "df      = n-1\n",
    "alpha   = 0.05\n",
    "alpha_L = [(1 - (alpha/2)),(alpha/2)]\n",
    "for i in range(len(alpha_L)):\n",
    "   a = alpha_L[i]\n",
    "   print('alpha %1.4f chi-square value %3.2f' % ((1-a),round(stats.chi2.ppf(a, df),2)))"
   ]
  },
  {
   "cell_type": "markdown",
   "metadata": {},
   "source": [
    "95% confidence interval for variance is given by:\n",
    "$\\bigg( \\frac{(n-1) {S}^2}{{\\chi}^2_{\\frac{\\alpha}{{2,}}{n-1}}}$ , $\\frac{(n-1) {S}^2}{{\\chi}^2_{\\frac{1 -\\alpha}{{2,}}{n-1}}} \\bigg)$"
   ]
  },
  {
   "cell_type": "code",
   "execution_count": 33,
   "metadata": {},
   "outputs": [
    {
     "name": "stdout",
     "output_type": "stream",
     "text": [
      "a. 95 % confidence interval for population variance is 226.0900  to 503.2000\n"
     ]
    }
   ],
   "source": [
    "Var = 324\n",
    "LCI = round((df * Var) / 70.22,2)\n",
    "UCI = round((df * Var) / 31.55,2)\n",
    "print('a. 95 %s confidence interval for population variance is %1.4f  to %1.4f' % ('%', LCI , UCI))"
   ]
  },
  {
   "cell_type": "markdown",
   "metadata": {},
   "source": [
    "### Practice Exercise 5"
   ]
  },
  {
   "cell_type": "markdown",
   "metadata": {},
   "source": [
    "Construct a 99% confidence interval for example 6 given above"
   ]
  },
  {
   "cell_type": "markdown",
   "metadata": {},
   "source": [
    "## Setting up hypothesis"
   ]
  },
  {
   "cell_type": "markdown",
   "metadata": {},
   "source": [
    "*Beware of the problem of testing too many hypotheses; the more you torture the data, the more likely they are to confess, but confessions obtained under duress may not be admissible in the court of scientific opinion* - Stephen M Stigler\n",
    "\n",
    "* Hypothesis is a claim made by a person / organization.\n",
    "\n",
    "* The claim is usually about the population parameters such as mean or proportion and we seek evidence from a sample for the support of the claim (Example: average salary of Data Scientist with 1 year experience is Rs 5 Lakhs per annum).\n",
    "\n",
    "* Hypothesis testing is a process used for either rejecting or retaining null hypothesis."
   ]
  },
  {
   "cell_type": "markdown",
   "metadata": {},
   "source": [
    "** Examples of some claims:**\n",
    "*  If you drink Horlicks, you can grow taller, stronger and sharper.\n",
    "*  Two - minute for cooking noodles. (or eating !!)\n",
    "*  Married people are happier than singles (Anon - 2015).\n",
    "*  Smokers are better sales people.\n",
    "\n",
    "*Hypothesis testing is used for checking the validity of the claim using evidence found in sample data.*"
   ]
  },
  {
   "cell_type": "markdown",
   "metadata": {
    "collapsed": true
   },
   "source": [
    "### Type I Error, Type II error and power of the hypothesis test"
   ]
  },
  {
   "cell_type": "markdown",
   "metadata": {},
   "source": [
    "### Type I error"
   ]
  },
  {
   "cell_type": "markdown",
   "metadata": {},
   "source": [
    "* It is the conditional probability of rejecting a null hypothesis when it is true, is called **Type I error or False positive.**\n",
    "* $\\alpha$, the level of significance is the value of Type I error.\n",
    "* P(Reject null hypothesis | $H_0$ is true) = $\\alpha$"
   ]
  },
  {
   "cell_type": "markdown",
   "metadata": {},
   "source": [
    "### Type II error"
   ]
  },
  {
   "cell_type": "markdown",
   "metadata": {},
   "source": [
    "* It is the conditional probability of retaining a null hypothesis when it is true, is called **Type II error or False Negative.**\n",
    "* $\\beta$, is the value of Type II error.\n",
    "* P(Retain null hypothesis | $H_0$ is false) = $\\beta$"
   ]
  },
  {
   "cell_type": "markdown",
   "metadata": {},
   "source": [
    "### Power of the test"
   ]
  },
  {
   "cell_type": "markdown",
   "metadata": {},
   "source": [
    "* (1 - $\\beta$) is known as the **power of the test**.\n",
    "* It is P(Reject null hypothesis | $H_0$ is false) = 1- $\\beta$"
   ]
  },
  {
   "cell_type": "markdown",
   "metadata": {},
   "source": [
    "## Steps involved in solving the hypothesis testing"
   ]
  },
  {
   "cell_type": "markdown",
   "metadata": {},
   "source": [
    "### 1 Define null and alternative hypotheses"
   ]
  },
  {
   "cell_type": "markdown",
   "metadata": {},
   "source": [
    "* ### Null hypothesis means no relationship or status quo\n",
    "* ### Alternative hypothesis is what the researcher wants to prove"
   ]
  },
  {
   "cell_type": "markdown",
   "metadata": {},
   "source": [
    "### Example 7"
   ]
  },
  {
   "cell_type": "markdown",
   "metadata": {},
   "source": [
    "Write the null and alternative hypothesis from the following hypopthesis description:\n",
    "a. Average annual salary of Data Scientists is different for those having Ph.D in Statistics and those who do not.\n",
    "* Let $\\mu_{PhD}$ be the average annual salary of a Data scientist with Ph.D in Statistics.\n",
    "* Let $\\mu_{NoPhD}$ be the average annual salary of a Data scientist without Ph.D in Statistics."
   ]
  },
  {
   "cell_type": "markdown",
   "metadata": {},
   "source": [
    "* Null hypothesis:        $H_0$: $\\mu_{PhD}$ =    $\\mu_{NoPhD}$ \n",
    "* Alternative hypothesis: $H_A$: $\\mu_{PhD}$ $\\neq$ $\\mu_{NoPhD}$ "
   ]
  },
  {
   "cell_type": "markdown",
   "metadata": {},
   "source": [
    "Since the rejection region is on either side of the distribution, it will be a **two-tailed** test."
   ]
  },
  {
   "cell_type": "markdown",
   "metadata": {},
   "source": [
    "b. Average annual salary of Data Scientists is more for those having Ph.D in Statistics and those who do not."
   ]
  },
  {
   "cell_type": "markdown",
   "metadata": {},
   "source": [
    "* Null hypothesis:        $H_0$: $\\mu_{PhD}$ $\\leq$   $\\mu_{NoPhD}$ \n",
    "* Alternative hypothesis: $H_A$: $\\mu_{PhD}$ >        $\\mu_{NoPhD}$ "
   ]
  },
  {
   "cell_type": "markdown",
   "metadata": {},
   "source": [
    "Since the rejection region is on the right side of the distribution, it will be a one-tailed test."
   ]
  },
  {
   "cell_type": "markdown",
   "metadata": {},
   "source": [
    "### 2 Decide the significance level"
   ]
  },
  {
   "cell_type": "markdown",
   "metadata": {},
   "source": [
    "* You control the Type I error by determining the risk level, $\\alpha$, the level of significance that you are willing to reject the null hypothesis when it is true. Traditionally, you select a level of 0.01, 0.05 or 0.10. The choice of selection for making Type I error depends on the cost of making a Type I error.\n",
    "\n",
    "* One way to reduce the probability of making a Type II error is by increasing the sample size. For a given level of $\\alpha$, increasing the sample size decreases $\\beta$ resulting in increasing the power of the statistical test to detect that null hypothesis is false."
   ]
  },
  {
   "cell_type": "markdown",
   "metadata": {},
   "source": [
    "### 3 Identify the test statistic"
   ]
  },
  {
   "cell_type": "markdown",
   "metadata": {},
   "source": [
    "* ### The test statistic will depend on the probability distribution of the sampling distribution"
   ]
  },
  {
   "cell_type": "markdown",
   "metadata": {},
   "source": [
    "### 4 Calculate the p-value or critical values"
   ]
  },
  {
   "cell_type": "markdown",
   "metadata": {},
   "source": [
    "* ### P-value is the conditional probability of observing the test statistic value or extreme than the sample result when the null hypothesis is true.\n",
    "\n",
    "* ### Critical value approach\n",
    "\n",
    "* Critical values for the appropriate test statistic are selected so that the rejection region contains a total area of $\\alpha$ when $H_0$ is true and the non-rejection region contains a total area of 1 - $\\alpha$ when $H_0$ is true."
   ]
  },
  {
   "cell_type": "markdown",
   "metadata": {},
   "source": [
    "### 5 Decide to reject or accept null hypothesis"
   ]
  },
  {
   "cell_type": "markdown",
   "metadata": {},
   "source": [
    "* ### Reject null hypothesis when test statisic lies in the rejection region; retain null hypothesis otherwise. \n",
    "* ### OR\n",
    "* ### Reject null hypothesis when p-value < α; retain null hypothesis otherwise.\n"
   ]
  },
  {
   "cell_type": "markdown",
   "metadata": {
    "collapsed": true
   },
   "source": [
    "### Example 8\n",
    "\n",
    "A beverages company produces mineral water and available in 250 ml, 500 ml, 1 litre and 2 litre bottles, 5 litre, 15 litre and 20 litre jars.\n",
    "Let us consider 2 litre bottles. Company specification require a mean volume of 2 litre per bottle.\n",
    "You must adjust the water filling process when the mean volume in the population of bottles differs from 2 litres. Adjusting the process requires shutting down the water filling production line completely, so you do not want to make any adjustments without any reason unnecessarily.\n",
    "\n",
    "Assume a sample of 50 water bottles indicate a sample mean, $\\overline{X}$ of 2.001 litres and the population standard deviation, $\\sigma$ is 15 ml."
   ]
  },
  {
   "cell_type": "markdown",
   "metadata": {},
   "source": [
    "#### Hypothesis testing using the critical value approach"
   ]
  },
  {
   "cell_type": "markdown",
   "metadata": {},
   "source": [
    "### Step 1: Define null and alternative hypotheses"
   ]
  },
  {
   "cell_type": "markdown",
   "metadata": {},
   "source": [
    "In testing whether the mean volume is 2 litres, the null hypothesis states that mean volume, $\\mu$ equals 2 litres. The alternative hypthesis states that the mean olume, $\\mu$ is not equal  to 2 litres.\n",
    "* $H_0$: $\\mu$ = 2\n",
    "* $H_A$: $\\mu$ $\\neq$ 2\n",
    "\n"
   ]
  },
  {
   "cell_type": "markdown",
   "metadata": {},
   "source": [
    "### Step 2: Decide the significance level"
   ]
  },
  {
   "cell_type": "markdown",
   "metadata": {},
   "source": [
    "Choose the $\\alpha$, the level of significance according to the relative importance of the risks of committing Type I and Type II errors in the problem. \n",
    "\n",
    "In this example, making a Type I error means that you conclude that the population mean is not 2 litres when it is 2 litres. This implies that you will take corrective action on the filling process even though the process is working well (*false alarm*).\n",
    "\n",
    "On the other hand, when the population mean is 1.98 litres and you conclude that the population mean is 2 litres, you commit a Type II error. Here, you allow the process to continue without adjustment, even though an adjustment is needed (*missed opportunity*).\n",
    "\n",
    "Here, we select $\\alpha$ = 0.05 and n, sample size = 50."
   ]
  },
  {
   "cell_type": "markdown",
   "metadata": {},
   "source": [
    "### Step 3:  Identify the test statistic"
   ]
  },
  {
   "cell_type": "markdown",
   "metadata": {},
   "source": [
    "We know the population standard deviation and the sample is a large sample, n>30. So you use the normal distribution and the $Z_STAT$ test statistic."
   ]
  },
  {
   "cell_type": "markdown",
   "metadata": {},
   "source": [
    "### Step 4: Calculate the critical value"
   ]
  },
  {
   "cell_type": "markdown",
   "metadata": {},
   "source": [
    "We know the $\\alpha$ is 0.05. So, the critical values of the $Z_STAT$ test statistic are -1.96 and 1.96."
   ]
  },
  {
   "cell_type": "code",
   "execution_count": 3,
   "metadata": {},
   "outputs": [
    {
     "name": "stdout",
     "output_type": "stream",
     "text": [
      "1.96\n"
     ]
    }
   ],
   "source": [
    "print(np.abs(round(stats.norm.isf(q = 0.025),2))) # Here we use alpha by 2  for two-tailed test"
   ]
  },
  {
   "cell_type": "markdown",
   "metadata": {},
   "source": [
    "* ### Rejection region is $Z_{STAT}$ < -1.96 or $Z_{STAT}$ > 1.96.\n",
    "* ### Acceptance or non-rejection regions is -1.96 $\\leq$ $Z_{STAT}$ $\\leq$ 1.96"
   ]
  },
  {
   "cell_type": "markdown",
   "metadata": {},
   "source": [
    "We collect the sample data, calculate the test statistic. \n",
    "In our example, \n",
    "* $\\overline{X}$ = 2.001\n",
    "* $\\mu$   = 2\n",
    "* $\\sigma$ = 15\n",
    "* n       = 50\n",
    "* $Z_{STAT} = \\frac{\\overline{X} - \\mu} {\\frac{\\sigma}{\\sqrt{n}}}$ "
   ]
  },
  {
   "cell_type": "code",
   "execution_count": 5,
   "metadata": {},
   "outputs": [
    {
     "name": "stdout",
     "output_type": "stream",
     "text": [
      "Value of Z is 0.00047\n"
     ]
    }
   ],
   "source": [
    "XAvg  = 2.001\n",
    "mu    = 2\n",
    "sigma = 15\n",
    "n     = 50\n",
    "Z = (XAvg - mu)/(sigma/np.sqrt(n))\n",
    "print('Value of Z is %2.5f' %Z)"
   ]
  },
  {
   "cell_type": "markdown",
   "metadata": {},
   "source": [
    "### 5 Decide to reject or accept null hypothesis"
   ]
  },
  {
   "cell_type": "markdown",
   "metadata": {},
   "source": [
    "In this example, Z = 0.00047 lies in the acceptance region because, \n",
    "-1.96 < Z = 0.00047 < 1.96.\n",
    "\n",
    "So the statistical decision is not to reject the null hypothesis.\n",
    "\n",
    "### So there is no sufficient evidence  to prove that the mean fill is different from 2 litres."
   ]
  },
  {
   "cell_type": "markdown",
   "metadata": {},
   "source": [
    "### Practice Example 6"
   ]
  },
  {
   "cell_type": "markdown",
   "metadata": {},
   "source": [
    "In a bank, the average time taken for getting a demand draft or bankers cheque is 15 minutes.\n",
    "From the past experience, you can assume that the population is normally distributed with a population standard deviation of 1.6 minutes. \n",
    "\n",
    "You select a sample of 50 requests for demand drafts and the sample mean is 14 minutes.\n",
    "\n",
    "#### Use the five step approach listed above to deteremine whether there is evidence at a 5% level of significance that the population mean service time to get the demand draft has changed from the population mean of 15 minutes. "
   ]
  },
  {
   "cell_type": "markdown",
   "metadata": {},
   "source": [
    "## Hypothesis testing using p-value approach"
   ]
  },
  {
   "cell_type": "markdown",
   "metadata": {},
   "source": [
    "Use the example 8.\n",
    "To use the p-value approach, find the probability that the test statistic $Z_{STAT}$ is equal to or more extreme than 0.00047 standard error units from the centre of the standard normal distribution.\n",
    "\n",
    "### Step 4:  Calculate the p-value \n",
    "\n",
    "* We need to compute P(Z < -0.00047) and P(Z > 0.00047).\n",
    "* P value for the two-tail test is  P(Z < -0.00047) + P(Z > 0.00047)."
   ]
  },
  {
   "cell_type": "code",
   "execution_count": 11,
   "metadata": {},
   "outputs": [
    {
     "name": "stdout",
     "output_type": "stream",
     "text": [
      "0.499812497135\n",
      "0.499812497135\n",
      "0.99962499427\n"
     ]
    }
   ],
   "source": [
    "Z = -0.00047\n",
    "P1 = stats.norm.cdf(Z)\n",
    "print(P1)\n",
    "Z1 = 0.00047\n",
    "P2 = 1- stats.norm.cdf(Z1)\n",
    "print(P2)\n",
    "P  = P1 + P2\n",
    "print(P)"
   ]
  },
  {
   "cell_type": "markdown",
   "metadata": {},
   "source": [
    "### Step 5: Decide to reject or accept null hypothesis"
   ]
  },
  {
   "cell_type": "markdown",
   "metadata": {},
   "source": [
    "Since the P value for this two tail test is 0.9996 and it is greater than 0.05, our level of significance, we do not reject the null hypothesis and conclude that there is no sufficient evidence to prove that the mean fill is different from 2 litres."
   ]
  },
  {
   "cell_type": "markdown",
   "metadata": {
    "collapsed": true
   },
   "source": [
    "### Example 9:\n",
    "\n",
    "A manufacturer claims that the mean lifetime of LED lamp is more than 50000 hours. Assume actual mean LED lamp lifetime is 49950 hours and population standard deviation is 120 hours. \n",
    "\n",
    "At 5% level of significance, what is the probability of having type II error for a sample size of 30 LED lamps?"
   ]
  },
  {
   "cell_type": "code",
   "execution_count": 62,
   "metadata": {},
   "outputs": [
    {
     "name": "stdout",
     "output_type": "stream",
     "text": [
      "49964\n"
     ]
    }
   ],
   "source": [
    "n         = 30    # sample size\n",
    "sigma     = 120  # population standard deviation\n",
    "serr      = sigma / np.sqrt(n) # Standard Error\n",
    "\n",
    "alpha     = 0.05     # significance level\n",
    "mu0       = 50000 #  hypothetical lower bound\n",
    "q         = int(round(stats.norm.isf(q = 1- alpha, loc = mu0, scale = serr),0))\n",
    "print(q)"
   ]
  },
  {
   "cell_type": "markdown",
   "metadata": {},
   "source": [
    "* Assume actual mean LED lamp lifetime is 49950 hours \n",
    "* We need to find the P(Population mean $\\geq$ 49950  | $H_A$ is true)"
   ]
  },
  {
   "cell_type": "code",
   "execution_count": 63,
   "metadata": {},
   "outputs": [
    {
     "name": "stdout",
     "output_type": "stream",
     "text": [
      "At 5 % level of significance, the probability of having type II error\n",
      "       for a sample size of 30 LED lamps is 0.2614\n",
      "At 5 % level of significance, the POWER OF THE TEST\n",
      "       for a sample size of 30 LED lamps is 0.7386\n"
     ]
    }
   ],
   "source": [
    "mu1  = 49950 # Actual mean\n",
    "\n",
    "p = round(1 - stats.norm.cdf(q, loc = mu1, scale = serr),4)\n",
    "print('At 5 %s level of significance, the probability of having type II error\\n\\\n",
    "       for a sample size of 30 LED lamps is %2.4f' %('%',p))\n",
    "print('At 5 %s level of significance, the POWER OF THE TEST\\n \\\n",
    "      for a sample size of 30 LED lamps is %2.4f' %('%',1 - p))\n"
   ]
  },
  {
   "cell_type": "markdown",
   "metadata": {
    "collapsed": true
   },
   "source": [
    "### Practice example 7"
   ]
  },
  {
   "cell_type": "markdown",
   "metadata": {},
   "source": [
    "Change the 5% level of significance to 1% level of significance in the above example 9 and find out the probability of type II error."
   ]
  },
  {
   "cell_type": "markdown",
   "metadata": {},
   "source": [
    "### Take home exercises"
   ]
  },
  {
   "cell_type": "markdown",
   "metadata": {},
   "source": [
    "### 1) Hours spent on studies by 20 students on a course is given in the following table:\n",
    "\n",
    "|     |     |     |     |     |\n",
    "| --- | --- | --- | --- | --- |   \n",
    "| 4.7 | 9.2 | 9.3 | 11.2 | 8 |\n",
    "| 7.6 | 7.4 | 4.9 | 9.2 | 5.3| \n",
    "| 1.7 | 2.8 | 7.2 | 12.3 | 8.6 |\n",
    "| 10.6 | 9 | 5.7 | 6.9 | 3.8 |"
   ]
  },
  {
   "cell_type": "markdown",
   "metadata": {},
   "source": [
    "Assume that the population of hours spent follows a normal distribution and the standard deviation is 3.1 hours, calculate the 90% confidence interval for the mean hours spent by the students."
   ]
  },
  {
   "cell_type": "markdown",
   "metadata": {},
   "source": [
    "Hint:"
   ]
  },
  {
   "cell_type": "code",
   "execution_count": 11,
   "metadata": {
    "collapsed": true
   },
   "outputs": [],
   "source": [
    "import numpy as np\n",
    "H           = [ 4.7, 9.2, 9.3, 11.2, 8, 7.6, 7.4, 4.9, 9.2, 5.3, 1.7, 2.8, 7.2, 12.3, 8.6, 10.6, 9, 5.7, 6.9, 3.8]\n",
    "HoursSpent  = np.array(H)"
   ]
  },
  {
   "cell_type": "markdown",
   "metadata": {},
   "source": [
    "### 2) Assume the food label on a Lays chips bag states that there is at most 182 mg of sodium in a single chip. Assume the actual mean amount of sodium per chip is 182.09 mg and the population standard deviation is 0.20 mg. \n",
    "At 5% significance level, what is the probability of type II error for a sample of 40 chips?"
   ]
  },
  {
   "cell_type": "markdown",
   "metadata": {},
   "source": [
    "## END"
   ]
  }
 ],
 "metadata": {
  "kernelspec": {
   "display_name": "Python 3",
   "language": "python",
   "name": "python3"
  },
  "language_info": {
   "codemirror_mode": {
    "name": "ipython",
    "version": 3
   },
   "file_extension": ".py",
   "mimetype": "text/x-python",
   "name": "python",
   "nbconvert_exporter": "python",
   "pygments_lexer": "ipython3",
   "version": "3.7.0"
  }
 },
 "nbformat": 4,
 "nbformat_minor": 2
}
